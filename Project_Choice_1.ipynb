{
  "nbformat": 4,
  "nbformat_minor": 0,
  "metadata": {
    "colab": {
      "name": "Project Choice #1.ipynb",
      "provenance": [],
      "authorship_tag": "ABX9TyOIFYJv1tKIN7P5Ox2G0RXK"
    },
    "kernelspec": {
      "name": "python3",
      "display_name": "Python 3"
    }
  },
  "cells": [
    {
      "cell_type": "markdown",
      "metadata": {
        "id": "k2Nym6QFySqK",
        "colab_type": "text"
      },
      "source": [
        "# Project Choice #1\n",
        "This is a regression problem. You have to predict \"Rating\".\n",
        "\n",
        "You should split the data into train, valid and test. Use a seed (of your choice) to make your experiments more reproducible. Alternatively, you can split into just train and test, and then use cross-validation."
      ]
    },
    {
      "cell_type": "code",
      "metadata": {
        "id": "wPbKx6AkxUTG",
        "colab_type": "code",
        "colab": {}
      },
      "source": [
        "# !pip install h2o\n",
        "# # Load the H2O library and start up the H2O cluter locally on your machine\n",
        "# import h2o\n",
        "\n",
        "# # Number of threads, nthreads = -1, means use all cores on your machine\n",
        "# # max_mem_size is the maximum memory (in GB) to allocate to H2O\n",
        "# h2o.init(nthreads = -1, max_mem_size = 8)"
      ],
      "execution_count": 0,
      "outputs": []
    },
    {
      "cell_type": "code",
      "metadata": {
        "id": "PBUFpPLvxXYO",
        "colab_type": "code",
        "outputId": "0e13a2fa-f154-49a4-d073-9c4b512eb4f4",
        "colab": {
          "base_uri": "https://localhost:8080/",
          "height": 389
        }
      },
      "source": [
        "h2o.init()\n",
        "\n",
        "h2o.remove_all  # clean slate, in case cluster was already running"
      ],
      "execution_count": 0,
      "outputs": [
        {
          "output_type": "stream",
          "text": [
            "Checking whether there is an H2O instance running at http://localhost:54321 . connected.\n"
          ],
          "name": "stdout"
        },
        {
          "output_type": "display_data",
          "data": {
            "text/html": [
              "<div style=\"overflow:auto\"><table style=\"width:50%\"><tr><td>H2O_cluster_uptime:</td>\n",
              "<td>03 secs</td></tr>\n",
              "<tr><td>H2O_cluster_timezone:</td>\n",
              "<td>Etc/UTC</td></tr>\n",
              "<tr><td>H2O_data_parsing_timezone:</td>\n",
              "<td>UTC</td></tr>\n",
              "<tr><td>H2O_cluster_version:</td>\n",
              "<td>3.30.0.2</td></tr>\n",
              "<tr><td>H2O_cluster_version_age:</td>\n",
              "<td>12 days </td></tr>\n",
              "<tr><td>H2O_cluster_name:</td>\n",
              "<td>H2O_from_python_unknownUser_bisp6j</td></tr>\n",
              "<tr><td>H2O_cluster_total_nodes:</td>\n",
              "<td>1</td></tr>\n",
              "<tr><td>H2O_cluster_free_memory:</td>\n",
              "<td>8 Gb</td></tr>\n",
              "<tr><td>H2O_cluster_total_cores:</td>\n",
              "<td>2</td></tr>\n",
              "<tr><td>H2O_cluster_allowed_cores:</td>\n",
              "<td>2</td></tr>\n",
              "<tr><td>H2O_cluster_status:</td>\n",
              "<td>locked, healthy</td></tr>\n",
              "<tr><td>H2O_connection_url:</td>\n",
              "<td>http://localhost:54321</td></tr>\n",
              "<tr><td>H2O_connection_proxy:</td>\n",
              "<td>{\"http\": null, \"https\": null}</td></tr>\n",
              "<tr><td>H2O_internal_security:</td>\n",
              "<td>False</td></tr>\n",
              "<tr><td>H2O_API_Extensions:</td>\n",
              "<td>Amazon S3, XGBoost, Algos, AutoML, Core V3, TargetEncoder, Core V4</td></tr>\n",
              "<tr><td>Python_version:</td>\n",
              "<td>3.6.9 final</td></tr></table></div>"
            ],
            "text/plain": [
              "--------------------------  ------------------------------------------------------------------\n",
              "H2O_cluster_uptime:         03 secs\n",
              "H2O_cluster_timezone:       Etc/UTC\n",
              "H2O_data_parsing_timezone:  UTC\n",
              "H2O_cluster_version:        3.30.0.2\n",
              "H2O_cluster_version_age:    12 days\n",
              "H2O_cluster_name:           H2O_from_python_unknownUser_bisp6j\n",
              "H2O_cluster_total_nodes:    1\n",
              "H2O_cluster_free_memory:    8 Gb\n",
              "H2O_cluster_total_cores:    2\n",
              "H2O_cluster_allowed_cores:  2\n",
              "H2O_cluster_status:         locked, healthy\n",
              "H2O_connection_url:         http://localhost:54321\n",
              "H2O_connection_proxy:       {\"http\": null, \"https\": null}\n",
              "H2O_internal_security:      False\n",
              "H2O_API_Extensions:         Amazon S3, XGBoost, Algos, AutoML, Core V3, TargetEncoder, Core V4\n",
              "Python_version:             3.6.9 final\n",
              "--------------------------  ------------------------------------------------------------------"
            ]
          },
          "metadata": {
            "tags": []
          }
        },
        {
          "output_type": "execute_result",
          "data": {
            "text/plain": [
              "<function h2o.h2o.remove_all>"
            ]
          },
          "metadata": {
            "tags": []
          },
          "execution_count": 2
        }
      ]
    },
    {
      "cell_type": "markdown",
      "metadata": {
        "id": "ycGybFsmwLQc",
        "colab_type": "text"
      },
      "source": [
        "## Step one\n",
        "Step one is to start h2o, load your data set, and split it if necessary. By the end of this stage you should have three variables, pointing to three data frames on h2o: train, valid, test. However, if you are choosing to use cross-validation, you will only have two: train and test."
      ]
    },
    {
      "cell_type": "code",
      "metadata": {
        "id": "AXYIIducwBGD",
        "colab_type": "code",
        "outputId": "6d198dd2-07af-46bb-ee59-39db1f83a4ca",
        "colab": {
          "base_uri": "https://localhost:8080/",
          "height": 34
        }
      },
      "source": [
        "data = h2o.import_file(path=\"http://coursera.h2o.ai/cacao.882.csv\")"
      ],
      "execution_count": 0,
      "outputs": [
        {
          "output_type": "stream",
          "text": [
            "Parse progress: |█████████████████████████████████████████████████████████| 100%\n"
          ],
          "name": "stdout"
        }
      ]
    },
    {
      "cell_type": "code",
      "metadata": {
        "id": "Cstiv6n4xtym",
        "colab_type": "code",
        "outputId": "5c4c5797-fdb8-468d-ad41-1ba428497547",
        "colab": {
          "base_uri": "https://localhost:8080/",
          "height": 250
        }
      },
      "source": [
        "data.head()"
      ],
      "execution_count": 0,
      "outputs": [
        {
          "output_type": "display_data",
          "data": {
            "text/html": [
              "<table>\n",
              "<thead>\n",
              "<tr><th>Maker   </th><th>Origin        </th><th style=\"text-align: right;\">  REF</th><th style=\"text-align: right;\">  Review Date</th><th style=\"text-align: right;\">  Cocoa Percent</th><th>Maker Location  </th><th style=\"text-align: right;\">  Rating</th><th>Bean Type  </th><th>Bean Origin  </th></tr>\n",
              "</thead>\n",
              "<tbody>\n",
              "<tr><td>A. Morin</td><td>Agua Grande   </td><td style=\"text-align: right;\"> 1876</td><td style=\"text-align: right;\">         2016</td><td style=\"text-align: right;\">           0.63</td><td>France          </td><td style=\"text-align: right;\">    3.75</td><td>           </td><td>Sao Tome     </td></tr>\n",
              "<tr><td>A. Morin</td><td>Kpime         </td><td style=\"text-align: right;\"> 1676</td><td style=\"text-align: right;\">         2015</td><td style=\"text-align: right;\">           0.7 </td><td>France          </td><td style=\"text-align: right;\">    2.75</td><td>           </td><td>Togo         </td></tr>\n",
              "<tr><td>A. Morin</td><td>Atsane        </td><td style=\"text-align: right;\"> 1676</td><td style=\"text-align: right;\">         2015</td><td style=\"text-align: right;\">           0.7 </td><td>France          </td><td style=\"text-align: right;\">    3   </td><td>           </td><td>Togo         </td></tr>\n",
              "<tr><td>A. Morin</td><td>Akata         </td><td style=\"text-align: right;\"> 1680</td><td style=\"text-align: right;\">         2015</td><td style=\"text-align: right;\">           0.7 </td><td>France          </td><td style=\"text-align: right;\">    3.5 </td><td>           </td><td>Togo         </td></tr>\n",
              "<tr><td>A. Morin</td><td>Quilla        </td><td style=\"text-align: right;\"> 1704</td><td style=\"text-align: right;\">         2015</td><td style=\"text-align: right;\">           0.7 </td><td>France          </td><td style=\"text-align: right;\">    3.5 </td><td>           </td><td>Peru         </td></tr>\n",
              "<tr><td>A. Morin</td><td>Carenero      </td><td style=\"text-align: right;\"> 1315</td><td style=\"text-align: right;\">         2014</td><td style=\"text-align: right;\">           0.7 </td><td>France          </td><td style=\"text-align: right;\">    2.75</td><td>Criollo    </td><td>Venezuela    </td></tr>\n",
              "<tr><td>A. Morin</td><td>Cuba          </td><td style=\"text-align: right;\"> 1315</td><td style=\"text-align: right;\">         2014</td><td style=\"text-align: right;\">           0.7 </td><td>France          </td><td style=\"text-align: right;\">    3.5 </td><td>           </td><td>Cuba         </td></tr>\n",
              "<tr><td>A. Morin</td><td>Sur del Lago  </td><td style=\"text-align: right;\"> 1315</td><td style=\"text-align: right;\">         2014</td><td style=\"text-align: right;\">           0.7 </td><td>France          </td><td style=\"text-align: right;\">    3.5 </td><td>Criollo    </td><td>Venezuela    </td></tr>\n",
              "<tr><td>A. Morin</td><td>Puerto Cabello</td><td style=\"text-align: right;\"> 1319</td><td style=\"text-align: right;\">         2014</td><td style=\"text-align: right;\">           0.7 </td><td>France          </td><td style=\"text-align: right;\">    3.75</td><td>Criollo    </td><td>Venezuela    </td></tr>\n",
              "<tr><td>A. Morin</td><td>Pablino       </td><td style=\"text-align: right;\"> 1319</td><td style=\"text-align: right;\">         2014</td><td style=\"text-align: right;\">           0.7 </td><td>France          </td><td style=\"text-align: right;\">    4   </td><td>           </td><td>Peru         </td></tr>\n",
              "</tbody>\n",
              "</table>"
            ]
          },
          "metadata": {
            "tags": []
          }
        },
        {
          "output_type": "execute_result",
          "data": {
            "text/plain": [
              ""
            ]
          },
          "metadata": {
            "tags": []
          },
          "execution_count": 4
        }
      ]
    },
    {
      "cell_type": "code",
      "metadata": {
        "id": "vAi1QKXeyASd",
        "colab_type": "code",
        "colab": {}
      },
      "source": [
        "splits = data.split_frame(ratios=[0.7, 0.15], seed=1)  \n",
        "\n",
        "train = splits[0]\n",
        "valid = splits[1]\n",
        "test = splits[2]"
      ],
      "execution_count": 0,
      "outputs": []
    },
    {
      "cell_type": "code",
      "metadata": {
        "id": "T3VqvDuDyDhl",
        "colab_type": "code",
        "outputId": "48b05d76-6480-4640-ff11-9449e6f94a4b",
        "colab": {
          "base_uri": "https://localhost:8080/",
          "height": 68
        }
      },
      "source": [
        "print(train.nrow)\n",
        "print(valid.nrow)\n",
        "print(test.nrow)"
      ],
      "execution_count": 0,
      "outputs": [
        {
          "output_type": "stream",
          "text": [
            "1276\n",
            "247\n",
            "272\n"
          ],
          "name": "stdout"
        }
      ]
    },
    {
      "cell_type": "markdown",
      "metadata": {
        "id": "oQAERgqpwNIB",
        "colab_type": "text"
      },
      "source": [
        "## Step two\n",
        "Step two is to set x to be the list of columns you will use to train on, to be the column you will learn. Your choice of y decides if it will be a classification or a regression."
      ]
    },
    {
      "cell_type": "code",
      "metadata": {
        "id": "LZNu9jMJyn4u",
        "colab_type": "code",
        "outputId": "28030136-556c-401b-c200-10e695f7cc42",
        "colab": {
          "base_uri": "https://localhost:8080/",
          "height": 170
        }
      },
      "source": [
        "data.columns"
      ],
      "execution_count": 0,
      "outputs": [
        {
          "output_type": "execute_result",
          "data": {
            "text/plain": [
              "['Maker',\n",
              " 'Origin',\n",
              " 'REF',\n",
              " 'Review Date',\n",
              " 'Cocoa Percent',\n",
              " 'Maker Location',\n",
              " 'Rating',\n",
              " 'Bean Type',\n",
              " 'Bean Origin']"
            ]
          },
          "metadata": {
            "tags": []
          },
          "execution_count": 9
        }
      ]
    },
    {
      "cell_type": "code",
      "metadata": {
        "id": "sC6nrR7hyGMH",
        "colab_type": "code",
        "colab": {}
      },
      "source": [
        "y = 'Rating'\n",
        "x = list(data.columns)"
      ],
      "execution_count": 0,
      "outputs": []
    },
    {
      "cell_type": "code",
      "metadata": {
        "id": "cRPlPJOQyJhx",
        "colab_type": "code",
        "colab": {}
      },
      "source": [
        "x.remove(y) #remove the response"
      ],
      "execution_count": 0,
      "outputs": []
    },
    {
      "cell_type": "markdown",
      "metadata": {
        "id": "Jy_Kz9F0wUL6",
        "colab_type": "text"
      },
      "source": [
        "## Step three \n",
        "Step three is to create a baseline deep learning model. It is recommended to use all default settings (remembering to specify either nfolds or validation_frame); if you want to use different settings you should include a comment in your source file justifying this. Allowable reasons are that the default settings were taking too long on your hardware, or that they were over-fitting. Your script must include timing code.\n",
        "\n"
      ]
    },
    {
      "cell_type": "markdown",
      "metadata": {
        "id": "nL1ZneA2y8ER",
        "colab_type": "text"
      },
      "source": [
        "### Train a default DL"
      ]
    },
    {
      "cell_type": "code",
      "metadata": {
        "id": "pPRH3fxry37I",
        "colab_type": "code",
        "colab": {}
      },
      "source": [
        "# Import H2O DL:\n",
        "from h2o.estimators.deeplearning import H2ODeepLearningEstimator"
      ],
      "execution_count": 0,
      "outputs": []
    },
    {
      "cell_type": "code",
      "metadata": {
        "id": "tF22Mv3Zy5A-",
        "colab_type": "code",
        "outputId": "be5944e4-3c89-44f9-dfef-74d6d3d43c86",
        "colab": {
          "base_uri": "https://localhost:8080/",
          "height": 34
        }
      },
      "source": [
        "# Initialize and train the DL estimator:\n",
        "\n",
        "dl_fit1 = H2ODeepLearningEstimator(model_id='dl_fit1', seed=1)\n",
        "dl_fit1.train(x=x, y=y, training_frame=train)"
      ],
      "execution_count": 0,
      "outputs": [
        {
          "output_type": "stream",
          "text": [
            "deeplearning Model Build progress: |██████████████████████████████████████| 100%\n"
          ],
          "name": "stdout"
        }
      ]
    },
    {
      "cell_type": "code",
      "metadata": {
        "id": "gGFKJXuwzJ8A",
        "colab_type": "code",
        "outputId": "2089cd40-dc22-47ba-d870-9e9f063a8e3c",
        "colab": {
          "base_uri": "https://localhost:8080/",
          "height": 295
        }
      },
      "source": [
        "dl_fit1.plot()"
      ],
      "execution_count": 0,
      "outputs": [
        {
          "output_type": "display_data",
          "data": {
            "image/png": "[encoded data removed]",
            "text/plain": [
              "<Figure size 432x288 with 1 Axes>"
            ]
          },
          "metadata": {
            "tags": [],
            "needs_background": "light"
          }
        }
      ]
    },
    {
      "cell_type": "code",
      "metadata": {
        "id": "nOJWSJjtzMEr",
        "colab_type": "code",
        "outputId": "26f03e7f-655d-4b15-c6c8-8cfe2813c1cc",
        "colab": {
          "base_uri": "https://localhost:8080/",
          "height": 612
        }
      },
      "source": [
        "dl_fit1.varimp_plot()"
      ],
      "execution_count": 0,
      "outputs": [
        {
          "output_type": "display_data",
          "data": {
            "image/png": "[encoded data removed]",
            "text/plain": [
              "<Figure size 1008x720 with 1 Axes>"
            ]
          },
          "metadata": {
            "tags": [],
            "needs_background": "light"
          }
        }
      ]
    },
    {
      "cell_type": "markdown",
      "metadata": {
        "id": "K4UcTZ0szZph",
        "colab_type": "text"
      },
      "source": [
        "## Step four \n",
        "Step four is to produce a tuned model, that gives superior performance. However you should use no more than 10 times the running time of your baseline model, so again your script should be timing the model."
      ]
    },
    {
      "cell_type": "markdown",
      "metadata": {
        "id": "IEaHzVn7zRr3",
        "colab_type": "text"
      },
      "source": [
        "### Train a DL with new architecture and more epochs"
      ]
    },
    {
      "cell_type": "code",
      "metadata": {
        "id": "1-BBa4FPzPCg",
        "colab_type": "code",
        "outputId": "aa54f483-0a84-43b2-9c0d-f98f63954a53",
        "colab": {
          "base_uri": "https://localhost:8080/",
          "height": 34
        }
      },
      "source": [
        "dl_fit2 = H2ODeepLearningEstimator(model_id='dl_fit2', \n",
        "                                   epochs=20, \n",
        "                                   hidden=[10,10], \n",
        "                                   stopping_rounds=0,  #disable early stopping\n",
        "                                   seed=1)\n",
        "dl_fit2.train(x=x, y=y, training_frame=train)"
      ],
      "execution_count": 0,
      "outputs": [
        {
          "output_type": "stream",
          "text": [
            "deeplearning Model Build progress: |██████████████████████████████████████| 100%\n"
          ],
          "name": "stdout"
        }
      ]
    },
    {
      "cell_type": "code",
      "metadata": {
        "id": "uTPTnPBwzVQM",
        "colab_type": "code",
        "outputId": "1e57e51b-b552-4a46-80b0-b2f3d34047b0",
        "colab": {
          "base_uri": "https://localhost:8080/",
          "height": 295
        }
      },
      "source": [
        "dl_fit2.plot()"
      ],
      "execution_count": 0,
      "outputs": [
        {
          "output_type": "display_data",
          "data": {
            "image/png": "[encoded data removed]",
            "text/plain": [
              "<Figure size 432x288 with 1 Axes>"
            ]
          },
          "metadata": {
            "tags": [],
            "needs_background": "light"
          }
        }
      ]
    },
    {
      "cell_type": "markdown",
      "metadata": {
        "id": "yOe5TMcGzfbe",
        "colab_type": "text"
      },
      "source": [
        "### Train a DL with early stopping"
      ]
    },
    {
      "cell_type": "code",
      "metadata": {
        "id": "b6Ek3Dv6zjTS",
        "colab_type": "code",
        "outputId": "84fc192c-c30b-4f67-9063-259f79d5c29e",
        "colab": {
          "base_uri": "https://localhost:8080/",
          "height": 34
        }
      },
      "source": [
        "dl_fit3 = H2ODeepLearningEstimator(model_id='dl_fit3', \n",
        "                                   epochs=20, \n",
        "                                   hidden=[10,10],\n",
        "                                   score_interval=1,          #used for early stopping\n",
        "                                   stopping_rounds=3,         #used for early stopping\n",
        "                                   stopping_metric='RMSE',     #used for early stopping\n",
        "                                   stopping_tolerance=0.0005, #used for early stopping\n",
        "                                   seed=1)\n",
        "dl_fit3.train(x=x, y=y, training_frame=train, validation_frame=valid)"
      ],
      "execution_count": 0,
      "outputs": [
        {
          "output_type": "stream",
          "text": [
            "deeplearning Model Build progress: |██████████████████████████████████████| 100%\n"
          ],
          "name": "stdout"
        }
      ]
    },
    {
      "cell_type": "code",
      "metadata": {
        "id": "FhayKhCszlv5",
        "colab_type": "code",
        "outputId": "beaccc73-792f-4a7a-9891-a456def3b6ac",
        "colab": {
          "base_uri": "https://localhost:8080/",
          "height": 295
        }
      },
      "source": [
        "dl_fit3.plot()"
      ],
      "execution_count": 0,
      "outputs": [
        {
          "output_type": "display_data",
          "data": {
            "image/png": "[encoded data removed]",
            "text/plain": [
              "<Figure size 432x288 with 1 Axes>"
            ]
          },
          "metadata": {
            "tags": [],
            "needs_background": "light"
          }
        }
      ]
    },
    {
      "cell_type": "markdown",
      "metadata": {
        "id": "5hmqcWEJzoLT",
        "colab_type": "text"
      },
      "source": [
        "### Compare model performance"
      ]
    },
    {
      "cell_type": "code",
      "metadata": {
        "id": "dPyVsXv-zrmS",
        "colab_type": "code",
        "colab": {}
      },
      "source": [
        "dl_perf1 = dl_fit1.model_performance(test)\n",
        "dl_perf2 = dl_fit2.model_performance(test)\n",
        "dl_perf3 = dl_fit3.model_performance(test)"
      ],
      "execution_count": 0,
      "outputs": []
    },
    {
      "cell_type": "code",
      "metadata": {
        "id": "I0Wdr8ybzs6p",
        "colab_type": "code",
        "outputId": "5e5901d0-c3b5-4410-f105-05d7e83617ee",
        "colab": {
          "base_uri": "https://localhost:8080/",
          "height": 527
        }
      },
      "source": [
        "print(dl_perf1)\n",
        "print(dl_perf2)\n",
        "print(dl_perf3)"
      ],
      "execution_count": 0,
      "outputs": [
        {
          "output_type": "stream",
          "text": [
            "\n",
            "ModelMetricsRegression: deeplearning\n",
            "** Reported on test data. **\n",
            "\n",
            "MSE: 0.1966581087564716\n",
            "RMSE: 0.4434615076378914\n",
            "MAE: 0.3512554036727225\n",
            "RMSLE: 0.11230843551996846\n",
            "Mean Residual Deviance: 0.1966581087564716\n",
            "\n",
            "\n",
            "ModelMetricsRegression: deeplearning\n",
            "** Reported on test data. **\n",
            "\n",
            "MSE: 0.23708913287845831\n",
            "RMSE: 0.48691799399740643\n",
            "MAE: 0.37371775018643716\n",
            "RMSLE: 0.12461601028329773\n",
            "Mean Residual Deviance: 0.23708913287845831\n",
            "\n",
            "\n",
            "ModelMetricsRegression: deeplearning\n",
            "** Reported on test data. **\n",
            "\n",
            "MSE: 0.2436882909992023\n",
            "RMSE: 0.49364794236297826\n",
            "MAE: 0.39378823969956905\n",
            "RMSLE: 0.12399866581486788\n",
            "Mean Residual Deviance: 0.2436882909992023\n",
            "\n"
          ],
          "name": "stdout"
        }
      ]
    },
    {
      "cell_type": "code",
      "metadata": {
        "id": "g-Wh5Eb6zwGr",
        "colab_type": "code",
        "outputId": "8582a75d-277f-46ef-8a31-3a54e2c9369a",
        "colab": {
          "base_uri": "https://localhost:8080/",
          "height": 68
        }
      },
      "source": [
        "print(\"Best deep learning model1 R2: %.4f\" % (dl_fit1.r2()))\n",
        "print(\"Best deep learning model2 R2: %.4f\" % (dl_fit2.r2()))\n",
        "print(\"Best deep learning model3 R2: %.4f\" % (dl_fit3.r2()))"
      ],
      "execution_count": 0,
      "outputs": [
        {
          "output_type": "stream",
          "text": [
            "Best deep learning model1 R2: 0.5060\n",
            "Best deep learning model2 R2: 0.6521\n",
            "Best deep learning model3 R2: 0.0000\n"
          ],
          "name": "stdout"
        }
      ]
    },
    {
      "cell_type": "markdown",
      "metadata": {
        "id": "CB3nI2dZz4qa",
        "colab_type": "text"
      },
      "source": [
        "### Grid Search"
      ]
    },
    {
      "cell_type": "code",
      "metadata": {
        "id": "mZphH7VGz_Mh",
        "colab_type": "code",
        "colab": {}
      },
      "source": [
        "# ### 3. Deep Learning Algorithm\n",
        "\n",
        "\n",
        "\n",
        "activation_opt = [\"RectifierWithDropout\",\n",
        "                  \"TanhWithDropout\"]\n",
        "#L1 & L2 regularization\n",
        "l1_opt = [0, 0.00001,\n",
        "          0.0001,\n",
        "          0.001,\n",
        "          0.01,\n",
        "          0.1]\n",
        "\n",
        "l2_opt = [0, 0.00001,\n",
        "          0.0001,\n",
        "          0.001,\n",
        "          0.01,\n",
        "          0.1]"
      ],
      "execution_count": 0,
      "outputs": []
    },
    {
      "cell_type": "code",
      "metadata": {
        "id": "lc-vebQJ0A9T",
        "colab_type": "code",
        "colab": {}
      },
      "source": [
        "# Create the Hyperparameters\n",
        "dl_params = {\n",
        "             'activation': activation_opt,\n",
        "             \"input_dropout_ratio\" : [0,0.05, 0.1],  # input layer dropout ratio to improve generalization. Suggested values are 0.1 or 0.2.\n",
        "             'l1': l1_opt,\n",
        "             'l2': l2_opt,\n",
        "             'hidden_dropout_ratios':[[0.1,0.2,0.3], # hidden layer dropout ratio to improve generalization: one value per hidden layer.\n",
        "                                      [0.1,0.5,0.5],\n",
        "                                      [0.5,0.5,0.5]]\n",
        "             }"
      ],
      "execution_count": 0,
      "outputs": []
    },
    {
      "cell_type": "code",
      "metadata": {
        "id": "4WfAY2Jc0CgO",
        "colab_type": "code",
        "colab": {}
      },
      "source": [
        "search_criteria = {\n",
        "                   'strategy': 'RandomDiscrete',\n",
        "                   'max_runtime_secs': 1000,\n",
        "                   'seed':1\n",
        "                   }"
      ],
      "execution_count": 0,
      "outputs": []
    },
    {
      "cell_type": "code",
      "metadata": {
        "id": "O7OkeQ9d0Ifv",
        "colab_type": "code",
        "colab": {}
      },
      "source": [
        "from h2o.grid.grid_search import H2OGridSearch"
      ],
      "execution_count": 0,
      "outputs": []
    },
    {
      "cell_type": "code",
      "metadata": {
        "id": "B5EbnPSD0ERT",
        "colab_type": "code",
        "colab": {}
      },
      "source": [
        "# Prepare the grid object\n",
        "dl_grid = H2OGridSearch(model=H2ODeepLearningEstimator(\n",
        "                                                    epochs = 1000,   ## hopefully converges earlier...\n",
        "                                                    adaptive_rate = True,  # http://cs231n.github.io/neural-networks-3/#sgd\n",
        "                                                    stopping_metric=\"AUTO\",\n",
        "                                                    stopping_tolerance=1e-2,    ## stop when misclassification does not improve by >=1% for 2 scoring events\n",
        "                                                    stopping_rounds=3,\n",
        "                                                    hidden=[128,128,128],      ## more hidden layers -> more complex interactions\n",
        "                                                    balance_classes= False,\n",
        "                                                    standardize = True,  # If enabled, automatically standardize the data (mean 0, variance 1). If disabled, the user must provide properly scaled input data.\n",
        "                                                    loss = \"quantile\"  # quantile for regression\n",
        "                                                    ),\n",
        "                        grid_id='dl_grid',\n",
        "                        hyper_params=dl_params,\n",
        "                        search_criteria=search_criteria)\n"
      ],
      "execution_count": 0,
      "outputs": []
    },
    {
      "cell_type": "code",
      "metadata": {
        "id": "terxI0mX0Mdm",
        "colab_type": "code",
        "outputId": "ed70ab76-24a6-402e-eb50-65425ddb3291",
        "colab": {
          "base_uri": "https://localhost:8080/",
          "height": 34
        }
      },
      "source": [
        "# Train the Model \n",
        "dl_grid.train(x=x,y=y, \n",
        "                training_frame=train,\n",
        "                validation_frame=valid,\n",
        "                stopping_rounds=2,\n",
        "                stopping_tolerance=0.0005,\n",
        "                seed=1\n",
        "                )"
      ],
      "execution_count": 0,
      "outputs": [
        {
          "output_type": "stream",
          "text": [
            "deeplearning Grid Build progress: |███████████████████████████████████████| 100%\n"
          ],
          "name": "stdout"
        }
      ]
    },
    {
      "cell_type": "code",
      "metadata": {
        "id": "nP1LlZpI0OOC",
        "colab_type": "code",
        "outputId": "a2aaac42-2aea-41e6-9627-4f68e1b49647",
        "colab": {
          "base_uri": "https://localhost:8080/",
          "height": 680
        }
      },
      "source": [
        "# Find the Model performance \n",
        "dl_gridperf = dl_grid.get_grid(sort_by='RMSE',decreasing = False)\n",
        "dl_gridperf"
      ],
      "execution_count": 0,
      "outputs": [
        {
          "output_type": "stream",
          "text": [
            "                activation  ...         model_ids                 rmse\n",
            "0     RectifierWithDropout  ...  dl_grid_model_21  0.43963757200395154\n",
            "1     RectifierWithDropout  ...   dl_grid_model_3  0.43969224893064607\n",
            "2     RectifierWithDropout  ...  dl_grid_model_27  0.44202366532084997\n",
            "3     RectifierWithDropout  ...  dl_grid_model_18  0.44559150940565145\n",
            "4     RectifierWithDropout  ...  dl_grid_model_28   0.4462683089518869\n",
            "5     RectifierWithDropout  ...  dl_grid_model_17   0.4542910253170559\n",
            "6          TanhWithDropout  ...  dl_grid_model_20   0.4571345300707123\n",
            "7          TanhWithDropout  ...  dl_grid_model_34    0.457688816627987\n",
            "8          TanhWithDropout  ...   dl_grid_model_8   0.4584004758578767\n",
            "9          TanhWithDropout  ...  dl_grid_model_13  0.45948549833099195\n",
            "10         TanhWithDropout  ...  dl_grid_model_12  0.46044564224804885\n",
            "11         TanhWithDropout  ...   dl_grid_model_1   0.4618126764214621\n",
            "12    RectifierWithDropout  ...   dl_grid_model_6   0.4624507626973451\n",
            "13         TanhWithDropout  ...   dl_grid_model_9  0.46437925619610976\n",
            "14    RectifierWithDropout  ...   dl_grid_model_2  0.46536474146553686\n",
            "15         TanhWithDropout  ...  dl_grid_model_23   0.4662545191146587\n",
            "16         TanhWithDropout  ...  dl_grid_model_14   0.4666837097691684\n",
            "17    RectifierWithDropout  ...  dl_grid_model_32  0.46731624842025615\n",
            "18         TanhWithDropout  ...  dl_grid_model_33   0.4679126205218008\n",
            "19    RectifierWithDropout  ...  dl_grid_model_16   0.4689160221103465\n",
            "20    RectifierWithDropout  ...  dl_grid_model_11   0.4689784404479975\n",
            "21    RectifierWithDropout  ...  dl_grid_model_25    0.469056477337743\n",
            "22    RectifierWithDropout  ...  dl_grid_model_31  0.46921330430457964\n",
            "23    RectifierWithDropout  ...  dl_grid_model_26   0.4697194948189386\n",
            "24    RectifierWithDropout  ...  dl_grid_model_35  0.47053357867310885\n",
            "25         TanhWithDropout  ...   dl_grid_model_7   0.4707552099352475\n",
            "26         TanhWithDropout  ...  dl_grid_model_19  0.47136726828571923\n",
            "27         TanhWithDropout  ...  dl_grid_model_36  0.47147379054995686\n",
            "28    RectifierWithDropout  ...  dl_grid_model_22    0.471985386206905\n",
            "29         TanhWithDropout  ...   dl_grid_model_4   0.4722300795080154\n",
            "30         TanhWithDropout  ...  dl_grid_model_10  0.47275575685338045\n",
            "31    RectifierWithDropout  ...   dl_grid_model_5  0.47280067124502206\n",
            "32         TanhWithDropout  ...  dl_grid_model_29  0.47284451571565267\n",
            "33         TanhWithDropout  ...  dl_grid_model_30  0.47409610841423716\n",
            "34         TanhWithDropout  ...  dl_grid_model_15  0.47476244639953236\n",
            "35    RectifierWithDropout  ...  dl_grid_model_24  0.48265750129024465\n",
            "\n",
            "[36 rows x 8 columns]\n"
          ],
          "name": "stdout"
        },
        {
          "output_type": "execute_result",
          "data": {
            "text/plain": [
              ""
            ]
          },
          "metadata": {
            "tags": []
          },
          "execution_count": 32
        }
      ]
    },
    {
      "cell_type": "code",
      "metadata": {
        "id": "A4v4IEyv0RC8",
        "colab_type": "code",
        "outputId": "fad5c63d-09df-4243-ecbf-853b7591106c",
        "colab": {
          "base_uri": "https://localhost:8080/",
          "height": 1000
        }
      },
      "source": [
        "# Identify the best model generated with least error\n",
        "best_dl_model = dl_gridperf.models[0]\n",
        "best_dl_model"
      ],
      "execution_count": 0,
      "outputs": [
        {
          "output_type": "stream",
          "text": [
            "Model Details\n",
            "=============\n",
            "H2ODeepLearningEstimator :  Deep Learning\n",
            "Model Key:  dl_grid_model_21\n",
            "\n",
            "\n",
            "Status of Neuron Layers: predicting Rating, regression, quantile distribution, Quantile loss, 246,145 weights/biases, 2.9 MB, 59,874 training samples, mini-batch size 1\n"
          ],
          "name": "stdout"
        },
        {
          "output_type": "display_data",
          "data": {
            "text/html": [
              "<div>\n",
              "<style scoped>\n",
              "    .dataframe tbody tr th:only-of-type {\n",
              "        vertical-align: middle;\n",
              "    }\n",
              "\n",
              "    .dataframe tbody tr th {\n",
              "        vertical-align: top;\n",
              "    }\n",
              "\n",
              "    .dataframe thead th {\n",
              "        text-align: right;\n",
              "    }\n",
              "</style>\n",
              "<table border=\"1\" class=\"dataframe\">\n",
              "  <thead>\n",
              "    <tr style=\"text-align: right;\">\n",
              "      <th></th>\n",
              "      <th></th>\n",
              "      <th>layer</th>\n",
              "      <th>units</th>\n",
              "      <th>type</th>\n",
              "      <th>dropout</th>\n",
              "      <th>l1</th>\n",
              "      <th>l2</th>\n",
              "      <th>mean_rate</th>\n",
              "      <th>rate_rms</th>\n",
              "      <th>momentum</th>\n",
              "      <th>mean_weight</th>\n",
              "      <th>weight_rms</th>\n",
              "      <th>mean_bias</th>\n",
              "      <th>bias_rms</th>\n",
              "    </tr>\n",
              "  </thead>\n",
              "  <tbody>\n",
              "    <tr>\n",
              "      <th>0</th>\n",
              "      <td></td>\n",
              "      <td>1</td>\n",
              "      <td>1663</td>\n",
              "      <td>Input</td>\n",
              "      <td>0</td>\n",
              "      <td></td>\n",
              "      <td></td>\n",
              "      <td></td>\n",
              "      <td></td>\n",
              "      <td></td>\n",
              "      <td></td>\n",
              "      <td></td>\n",
              "      <td></td>\n",
              "      <td></td>\n",
              "    </tr>\n",
              "    <tr>\n",
              "      <th>1</th>\n",
              "      <td></td>\n",
              "      <td>2</td>\n",
              "      <td>128</td>\n",
              "      <td>RectifierDropout</td>\n",
              "      <td>10</td>\n",
              "      <td>1e-05</td>\n",
              "      <td>0</td>\n",
              "      <td>0.240381</td>\n",
              "      <td>0.385161</td>\n",
              "      <td>0</td>\n",
              "      <td>-0.000126946</td>\n",
              "      <td>0.0422272</td>\n",
              "      <td>0.0752932</td>\n",
              "      <td>0.23434</td>\n",
              "    </tr>\n",
              "    <tr>\n",
              "      <th>2</th>\n",
              "      <td></td>\n",
              "      <td>3</td>\n",
              "      <td>128</td>\n",
              "      <td>RectifierDropout</td>\n",
              "      <td>50</td>\n",
              "      <td>1e-05</td>\n",
              "      <td>0</td>\n",
              "      <td>0.103494</td>\n",
              "      <td>0.0428007</td>\n",
              "      <td>0</td>\n",
              "      <td>-0.0222852</td>\n",
              "      <td>0.100792</td>\n",
              "      <td>0.877607</td>\n",
              "      <td>0.0853134</td>\n",
              "    </tr>\n",
              "    <tr>\n",
              "      <th>3</th>\n",
              "      <td></td>\n",
              "      <td>4</td>\n",
              "      <td>128</td>\n",
              "      <td>RectifierDropout</td>\n",
              "      <td>50</td>\n",
              "      <td>1e-05</td>\n",
              "      <td>0</td>\n",
              "      <td>0.0984103</td>\n",
              "      <td>0.123797</td>\n",
              "      <td>0</td>\n",
              "      <td>-0.0216822</td>\n",
              "      <td>0.0955702</td>\n",
              "      <td>0.889312</td>\n",
              "      <td>0.0609968</td>\n",
              "    </tr>\n",
              "    <tr>\n",
              "      <th>4</th>\n",
              "      <td></td>\n",
              "      <td>5</td>\n",
              "      <td>1</td>\n",
              "      <td>Linear</td>\n",
              "      <td></td>\n",
              "      <td>1e-05</td>\n",
              "      <td>0</td>\n",
              "      <td>0.00255746</td>\n",
              "      <td>0.000956825</td>\n",
              "      <td>0</td>\n",
              "      <td>-0.00226132</td>\n",
              "      <td>0.0650909</td>\n",
              "      <td>0.0652159</td>\n",
              "      <td>1.09713e-154</td>\n",
              "    </tr>\n",
              "  </tbody>\n",
              "</table>\n",
              "</div>"
            ],
            "text/plain": [
              "     layer  units  ... weight_rms  mean_bias      bias_rms\n",
              "0        1   1663  ...                                    \n",
              "1        2    128  ...  0.0422272  0.0752932       0.23434\n",
              "2        3    128  ...   0.100792   0.877607     0.0853134\n",
              "3        4    128  ...  0.0955702   0.889312     0.0609968\n",
              "4        5      1  ...  0.0650909  0.0652159  1.09713e-154\n",
              "\n",
              "[5 rows x 14 columns]"
            ]
          },
          "metadata": {
            "tags": []
          }
        },
        {
          "output_type": "stream",
          "text": [
            "\n",
            "\n",
            "ModelMetricsRegression: deeplearning\n",
            "** Reported on train data. **\n",
            "\n",
            "MSE: 0.0980078908179633\n",
            "RMSE: 0.31306211974297254\n",
            "MAE: 0.2346810749162339\n",
            "RMSLE: 0.08073193652290533\n",
            "Mean Residual Deviance: 0.11734053745811696\n",
            "\n",
            "ModelMetricsRegression: deeplearning\n",
            "** Reported on validation data. **\n",
            "\n",
            "MSE: 0.1932811947175297\n",
            "RMSE: 0.43963757200395154\n",
            "MAE: 0.3483090451350913\n",
            "RMSLE: 0.11007777198628049\n",
            "Mean Residual Deviance: 0.17415452256754566\n",
            "\n",
            "Scoring History: \n"
          ],
          "name": "stdout"
        },
        {
          "output_type": "display_data",
          "data": {
            "text/html": [
              "<div>\n",
              "<style scoped>\n",
              "    .dataframe tbody tr th:only-of-type {\n",
              "        vertical-align: middle;\n",
              "    }\n",
              "\n",
              "    .dataframe tbody tr th {\n",
              "        vertical-align: top;\n",
              "    }\n",
              "\n",
              "    .dataframe thead th {\n",
              "        text-align: right;\n",
              "    }\n",
              "</style>\n",
              "<table border=\"1\" class=\"dataframe\">\n",
              "  <thead>\n",
              "    <tr style=\"text-align: right;\">\n",
              "      <th></th>\n",
              "      <th></th>\n",
              "      <th>timestamp</th>\n",
              "      <th>duration</th>\n",
              "      <th>training_speed</th>\n",
              "      <th>epochs</th>\n",
              "      <th>iterations</th>\n",
              "      <th>samples</th>\n",
              "      <th>training_rmse</th>\n",
              "      <th>training_deviance</th>\n",
              "      <th>training_mae</th>\n",
              "      <th>training_r2</th>\n",
              "      <th>validation_rmse</th>\n",
              "      <th>validation_deviance</th>\n",
              "      <th>validation_mae</th>\n",
              "      <th>validation_r2</th>\n",
              "    </tr>\n",
              "  </thead>\n",
              "  <tbody>\n",
              "    <tr>\n",
              "      <th>0</th>\n",
              "      <td></td>\n",
              "      <td>2020-05-11 08:28:28</td>\n",
              "      <td>0.000 sec</td>\n",
              "      <td>None</td>\n",
              "      <td>0.000000</td>\n",
              "      <td>0</td>\n",
              "      <td>0.0</td>\n",
              "      <td>NaN</td>\n",
              "      <td>NaN</td>\n",
              "      <td>NaN</td>\n",
              "      <td>NaN</td>\n",
              "      <td>NaN</td>\n",
              "      <td>NaN</td>\n",
              "      <td>NaN</td>\n",
              "      <td>NaN</td>\n",
              "    </tr>\n",
              "    <tr>\n",
              "      <th>1</th>\n",
              "      <td></td>\n",
              "      <td>2020-05-11 08:28:28</td>\n",
              "      <td>9 min 30.268 sec</td>\n",
              "      <td>1422 obs/sec</td>\n",
              "      <td>0.822884</td>\n",
              "      <td>1</td>\n",
              "      <td>1050.0</td>\n",
              "      <td>0.488803</td>\n",
              "      <td>0.193474</td>\n",
              "      <td>0.386948</td>\n",
              "      <td>-0.057771</td>\n",
              "      <td>0.488256</td>\n",
              "      <td>0.193544</td>\n",
              "      <td>0.387088</td>\n",
              "      <td>-0.101771</td>\n",
              "    </tr>\n",
              "    <tr>\n",
              "      <th>2</th>\n",
              "      <td></td>\n",
              "      <td>2020-05-11 08:28:35</td>\n",
              "      <td>9 min 37.162 sec</td>\n",
              "      <td>1677 obs/sec</td>\n",
              "      <td>9.176332</td>\n",
              "      <td>11</td>\n",
              "      <td>11709.0</td>\n",
              "      <td>0.455616</td>\n",
              "      <td>0.180648</td>\n",
              "      <td>0.361297</td>\n",
              "      <td>0.080988</td>\n",
              "      <td>0.467729</td>\n",
              "      <td>0.184704</td>\n",
              "      <td>0.369408</td>\n",
              "      <td>-0.011078</td>\n",
              "    </tr>\n",
              "    <tr>\n",
              "      <th>3</th>\n",
              "      <td></td>\n",
              "      <td>2020-05-11 08:28:42</td>\n",
              "      <td>9 min 44.130 sec</td>\n",
              "      <td>1761 obs/sec</td>\n",
              "      <td>18.399687</td>\n",
              "      <td>22</td>\n",
              "      <td>23478.0</td>\n",
              "      <td>0.369497</td>\n",
              "      <td>0.139865</td>\n",
              "      <td>0.279731</td>\n",
              "      <td>0.395571</td>\n",
              "      <td>0.444071</td>\n",
              "      <td>0.176265</td>\n",
              "      <td>0.352529</td>\n",
              "      <td>0.088620</td>\n",
              "    </tr>\n",
              "    <tr>\n",
              "      <th>4</th>\n",
              "      <td></td>\n",
              "      <td>2020-05-11 08:28:49</td>\n",
              "      <td>9 min 50.816 sec</td>\n",
              "      <td>1818 obs/sec</td>\n",
              "      <td>27.634013</td>\n",
              "      <td>33</td>\n",
              "      <td>35261.0</td>\n",
              "      <td>0.313062</td>\n",
              "      <td>0.117341</td>\n",
              "      <td>0.234681</td>\n",
              "      <td>0.566104</td>\n",
              "      <td>0.439638</td>\n",
              "      <td>0.174155</td>\n",
              "      <td>0.348309</td>\n",
              "      <td>0.106726</td>\n",
              "    </tr>\n",
              "    <tr>\n",
              "      <th>5</th>\n",
              "      <td></td>\n",
              "      <td>2020-05-11 08:28:55</td>\n",
              "      <td>9 min 57.111 sec</td>\n",
              "      <td>1877 obs/sec</td>\n",
              "      <td>36.856583</td>\n",
              "      <td>44</td>\n",
              "      <td>47029.0</td>\n",
              "      <td>0.269748</td>\n",
              "      <td>0.095298</td>\n",
              "      <td>0.190596</td>\n",
              "      <td>0.677863</td>\n",
              "      <td>0.449554</td>\n",
              "      <td>0.177198</td>\n",
              "      <td>0.354395</td>\n",
              "      <td>0.065975</td>\n",
              "    </tr>\n",
              "    <tr>\n",
              "      <th>6</th>\n",
              "      <td></td>\n",
              "      <td>2020-05-11 08:29:02</td>\n",
              "      <td>10 min  3.807 sec</td>\n",
              "      <td>1923 obs/sec</td>\n",
              "      <td>46.923197</td>\n",
              "      <td>56</td>\n",
              "      <td>59874.0</td>\n",
              "      <td>0.264339</td>\n",
              "      <td>0.098744</td>\n",
              "      <td>0.197488</td>\n",
              "      <td>0.690652</td>\n",
              "      <td>0.447489</td>\n",
              "      <td>0.176250</td>\n",
              "      <td>0.352500</td>\n",
              "      <td>0.074535</td>\n",
              "    </tr>\n",
              "    <tr>\n",
              "      <th>7</th>\n",
              "      <td></td>\n",
              "      <td>2020-05-11 08:29:03</td>\n",
              "      <td>10 min  4.440 sec</td>\n",
              "      <td>1921 obs/sec</td>\n",
              "      <td>46.923197</td>\n",
              "      <td>56</td>\n",
              "      <td>59874.0</td>\n",
              "      <td>0.313062</td>\n",
              "      <td>0.117341</td>\n",
              "      <td>0.234681</td>\n",
              "      <td>0.566104</td>\n",
              "      <td>0.439638</td>\n",
              "      <td>0.174155</td>\n",
              "      <td>0.348309</td>\n",
              "      <td>0.106726</td>\n",
              "    </tr>\n",
              "  </tbody>\n",
              "</table>\n",
              "</div>"
            ],
            "text/plain": [
              "               timestamp  ... validation_mae validation_r2\n",
              "0    2020-05-11 08:28:28  ...            NaN           NaN\n",
              "1    2020-05-11 08:28:28  ...       0.387088     -0.101771\n",
              "2    2020-05-11 08:28:35  ...       0.369408     -0.011078\n",
              "3    2020-05-11 08:28:42  ...       0.352529      0.088620\n",
              "4    2020-05-11 08:28:49  ...       0.348309      0.106726\n",
              "5    2020-05-11 08:28:55  ...       0.354395      0.065975\n",
              "6    2020-05-11 08:29:02  ...       0.352500      0.074535\n",
              "7    2020-05-11 08:29:03  ...       0.348309      0.106726\n",
              "\n",
              "[8 rows x 15 columns]"
            ]
          },
          "metadata": {
            "tags": []
          }
        },
        {
          "output_type": "stream",
          "text": [
            "\n",
            "Variable Importances: \n"
          ],
          "name": "stdout"
        },
        {
          "output_type": "display_data",
          "data": {
            "text/html": [
              "<div>\n",
              "<style scoped>\n",
              "    .dataframe tbody tr th:only-of-type {\n",
              "        vertical-align: middle;\n",
              "    }\n",
              "\n",
              "    .dataframe tbody tr th {\n",
              "        vertical-align: top;\n",
              "    }\n",
              "\n",
              "    .dataframe thead th {\n",
              "        text-align: right;\n",
              "    }\n",
              "</style>\n",
              "<table border=\"1\" class=\"dataframe\">\n",
              "  <thead>\n",
              "    <tr style=\"text-align: right;\">\n",
              "      <th></th>\n",
              "      <th>variable</th>\n",
              "      <th>relative_importance</th>\n",
              "      <th>scaled_importance</th>\n",
              "      <th>percentage</th>\n",
              "    </tr>\n",
              "  </thead>\n",
              "  <tbody>\n",
              "    <tr>\n",
              "      <th>0</th>\n",
              "      <td>Maker.Pralus</td>\n",
              "      <td>1.000000</td>\n",
              "      <td>1.000000</td>\n",
              "      <td>0.001650</td>\n",
              "    </tr>\n",
              "    <tr>\n",
              "      <th>1</th>\n",
              "      <td>Maker.Soma</td>\n",
              "      <td>0.975563</td>\n",
              "      <td>0.975563</td>\n",
              "      <td>0.001610</td>\n",
              "    </tr>\n",
              "    <tr>\n",
              "      <th>2</th>\n",
              "      <td>Maker.Amedei</td>\n",
              "      <td>0.972269</td>\n",
              "      <td>0.972269</td>\n",
              "      <td>0.001605</td>\n",
              "    </tr>\n",
              "    <tr>\n",
              "      <th>3</th>\n",
              "      <td>Cocoa Percent</td>\n",
              "      <td>0.921537</td>\n",
              "      <td>0.921537</td>\n",
              "      <td>0.001521</td>\n",
              "    </tr>\n",
              "    <tr>\n",
              "      <th>4</th>\n",
              "      <td>Maker.Patric</td>\n",
              "      <td>0.854808</td>\n",
              "      <td>0.854808</td>\n",
              "      <td>0.001411</td>\n",
              "    </tr>\n",
              "    <tr>\n",
              "      <th>5</th>\n",
              "      <td>Maker Location.Spain</td>\n",
              "      <td>0.837840</td>\n",
              "      <td>0.837840</td>\n",
              "      <td>0.001383</td>\n",
              "    </tr>\n",
              "    <tr>\n",
              "      <th>6</th>\n",
              "      <td>Maker.Arete</td>\n",
              "      <td>0.831736</td>\n",
              "      <td>0.831736</td>\n",
              "      <td>0.001373</td>\n",
              "    </tr>\n",
              "    <tr>\n",
              "      <th>7</th>\n",
              "      <td>Maker.Rogue</td>\n",
              "      <td>0.822172</td>\n",
              "      <td>0.822172</td>\n",
              "      <td>0.001357</td>\n",
              "    </tr>\n",
              "    <tr>\n",
              "      <th>8</th>\n",
              "      <td>Maker.Cacao Sampaka</td>\n",
              "      <td>0.803912</td>\n",
              "      <td>0.803912</td>\n",
              "      <td>0.001327</td>\n",
              "    </tr>\n",
              "    <tr>\n",
              "      <th>9</th>\n",
              "      <td>Maker.Alain Ducasse</td>\n",
              "      <td>0.796226</td>\n",
              "      <td>0.796226</td>\n",
              "      <td>0.001314</td>\n",
              "    </tr>\n",
              "    <tr>\n",
              "      <th>10</th>\n",
              "      <td>Maker.Altus aka Cao Artisan</td>\n",
              "      <td>0.794458</td>\n",
              "      <td>0.794458</td>\n",
              "      <td>0.001311</td>\n",
              "    </tr>\n",
              "    <tr>\n",
              "      <th>11</th>\n",
              "      <td>REF</td>\n",
              "      <td>0.734535</td>\n",
              "      <td>0.734535</td>\n",
              "      <td>0.001212</td>\n",
              "    </tr>\n",
              "    <tr>\n",
              "      <th>12</th>\n",
              "      <td>Maker.Ritual</td>\n",
              "      <td>0.729466</td>\n",
              "      <td>0.729466</td>\n",
              "      <td>0.001204</td>\n",
              "    </tr>\n",
              "    <tr>\n",
              "      <th>13</th>\n",
              "      <td>Maker.Guittard</td>\n",
              "      <td>0.726065</td>\n",
              "      <td>0.726065</td>\n",
              "      <td>0.001198</td>\n",
              "    </tr>\n",
              "    <tr>\n",
              "      <th>14</th>\n",
              "      <td>Maker.Brasstown aka It's Chocolate</td>\n",
              "      <td>0.721704</td>\n",
              "      <td>0.721704</td>\n",
              "      <td>0.001191</td>\n",
              "    </tr>\n",
              "    <tr>\n",
              "      <th>15</th>\n",
              "      <td>Maker.Bonnat</td>\n",
              "      <td>0.713370</td>\n",
              "      <td>0.713370</td>\n",
              "      <td>0.001177</td>\n",
              "    </tr>\n",
              "    <tr>\n",
              "      <th>16</th>\n",
              "      <td>Maker.Fresco</td>\n",
              "      <td>0.708965</td>\n",
              "      <td>0.708965</td>\n",
              "      <td>0.001170</td>\n",
              "    </tr>\n",
              "    <tr>\n",
              "      <th>17</th>\n",
              "      <td>Maker.Pierre Marcolini</td>\n",
              "      <td>0.708368</td>\n",
              "      <td>0.708368</td>\n",
              "      <td>0.001169</td>\n",
              "    </tr>\n",
              "    <tr>\n",
              "      <th>18</th>\n",
              "      <td>Maker.Duffy's</td>\n",
              "      <td>0.697126</td>\n",
              "      <td>0.697126</td>\n",
              "      <td>0.001151</td>\n",
              "    </tr>\n",
              "    <tr>\n",
              "      <th>19</th>\n",
              "      <td>Maker.Mutari</td>\n",
              "      <td>0.696290</td>\n",
              "      <td>0.696290</td>\n",
              "      <td>0.001149</td>\n",
              "    </tr>\n",
              "  </tbody>\n",
              "</table>\n",
              "</div>"
            ],
            "text/plain": [
              "                              variable  ...  percentage\n",
              "0                         Maker.Pralus  ...    0.001650\n",
              "1                           Maker.Soma  ...    0.001610\n",
              "2                         Maker.Amedei  ...    0.001605\n",
              "3                        Cocoa Percent  ...    0.001521\n",
              "4                         Maker.Patric  ...    0.001411\n",
              "5                 Maker Location.Spain  ...    0.001383\n",
              "6                          Maker.Arete  ...    0.001373\n",
              "7                          Maker.Rogue  ...    0.001357\n",
              "8                  Maker.Cacao Sampaka  ...    0.001327\n",
              "9                  Maker.Alain Ducasse  ...    0.001314\n",
              "10         Maker.Altus aka Cao Artisan  ...    0.001311\n",
              "11                                 REF  ...    0.001212\n",
              "12                        Maker.Ritual  ...    0.001204\n",
              "13                      Maker.Guittard  ...    0.001198\n",
              "14  Maker.Brasstown aka It's Chocolate  ...    0.001191\n",
              "15                        Maker.Bonnat  ...    0.001177\n",
              "16                        Maker.Fresco  ...    0.001170\n",
              "17              Maker.Pierre Marcolini  ...    0.001169\n",
              "18                       Maker.Duffy's  ...    0.001151\n",
              "19                        Maker.Mutari  ...    0.001149\n",
              "\n",
              "[20 rows x 4 columns]"
            ]
          },
          "metadata": {
            "tags": []
          }
        },
        {
          "output_type": "stream",
          "text": [
            "\n",
            "See the whole table with table.as_data_frame()\n"
          ],
          "name": "stdout"
        },
        {
          "output_type": "execute_result",
          "data": {
            "text/plain": [
              ""
            ]
          },
          "metadata": {
            "tags": []
          },
          "execution_count": 33
        }
      ]
    },
    {
      "cell_type": "code",
      "metadata": {
        "id": "WbtijhoA0UQr",
        "colab_type": "code",
        "colab": {}
      },
      "source": [
        "best_dl_perf = best_dl_model.model_performance(test)   # deep Learning Model"
      ],
      "execution_count": 0,
      "outputs": []
    },
    {
      "cell_type": "code",
      "metadata": {
        "id": "QTaI2ZFv0VBm",
        "colab_type": "code",
        "outputId": "851982be-88f6-4889-8777-ba594c354e03",
        "colab": {
          "base_uri": "https://localhost:8080/",
          "height": 187
        }
      },
      "source": [
        "print(best_dl_perf)"
      ],
      "execution_count": 0,
      "outputs": [
        {
          "output_type": "stream",
          "text": [
            "\n",
            "ModelMetricsRegression: deeplearning\n",
            "** Reported on test data. **\n",
            "\n",
            "MSE: 0.18768438695030687\n",
            "RMSE: 0.4332255612845425\n",
            "MAE: 0.3429761503940244\n",
            "RMSLE: 0.10991864243584253\n",
            "Mean Residual Deviance: 0.1714880751970122\n",
            "\n"
          ],
          "name": "stdout"
        }
      ]
    },
    {
      "cell_type": "code",
      "metadata": {
        "id": "tMOkMRAY0ZJG",
        "colab_type": "code",
        "outputId": "80515d4d-f638-4a00-f420-4282b43e9f03",
        "colab": {
          "base_uri": "https://localhost:8080/",
          "height": 34
        }
      },
      "source": [
        "print(\"Best dl R2: %.4f\" % (best_dl_perf.r2()))"
      ],
      "execution_count": 0,
      "outputs": [
        {
          "output_type": "stream",
          "text": [
            "Best dl R2: 0.2503\n"
          ],
          "name": "stdout"
        }
      ]
    },
    {
      "cell_type": "markdown",
      "metadata": {
        "id": "u81PKP7HwXNS",
        "colab_type": "text"
      },
      "source": [
        "## Step five\n",
        "Step five is to save both your models, to your local disk, and they should be submitted with your script. Use saveModel() (in R) or save_model() (Python), to export the binary version of the model. (Do not export a POJO.)\n",
        "\n"
      ]
    },
    {
      "cell_type": "markdown",
      "metadata": {
        "id": "7rOz414S2Uht",
        "colab_type": "text"
      },
      "source": [
        "### Save/Download a basedline deep learning model"
      ]
    },
    {
      "cell_type": "code",
      "metadata": {
        "id": "lm0rM6oV09Xg",
        "colab_type": "code",
        "colab": {}
      },
      "source": [
        "# save the model\n",
        "model_path = h2o.save_model(model=dl_fit1, path=\"/tmp/mymodel\", force=True)"
      ],
      "execution_count": 0,
      "outputs": []
    },
    {
      "cell_type": "code",
      "metadata": {
        "id": "1HIY-u_X09-N",
        "colab_type": "code",
        "outputId": "c5200bc5-0a40-457c-d80b-78f830d52727",
        "colab": {
          "base_uri": "https://localhost:8080/",
          "height": 34
        }
      },
      "source": [
        "print(model_path)"
      ],
      "execution_count": 0,
      "outputs": [
        {
          "output_type": "stream",
          "text": [
            "/tmp/mymodel/dl_fit1\n"
          ],
          "name": "stdout"
        }
      ]
    },
    {
      "cell_type": "code",
      "metadata": {
        "id": "uqrdfhET1BD3",
        "colab_type": "code",
        "colab": {}
      },
      "source": [
        "# load the model\n",
        "saved_model = h2o.load_model(model_path)"
      ],
      "execution_count": 0,
      "outputs": []
    },
    {
      "cell_type": "code",
      "metadata": {
        "id": "FLrD4axW6gaj",
        "colab_type": "code",
        "colab": {}
      },
      "source": [
        "# import os\n",
        "# from google.colab import drive\n",
        "# drive.mount('/content/gdrive')\n",
        "# !pwd\n",
        "# os.chdir('gdrive/My Drive/Colab Notebooks')\n",
        "# !pwd"
      ],
      "execution_count": 0,
      "outputs": []
    },
    {
      "cell_type": "code",
      "metadata": {
        "id": "It9GjuPS1Ckv",
        "colab_type": "code",
        "colab": {}
      },
      "source": [
        "# download the model built above to your local machine\n",
        "my_local_model = h2o.download_model(dl_fit1, path=\"/Users/Downloads\")"
      ],
      "execution_count": 0,
      "outputs": []
    },
    {
      "cell_type": "code",
      "metadata": {
        "id": "IyviX7E31FP7",
        "colab_type": "code",
        "colab": {}
      },
      "source": [
        "# upload the model that you just downloded above\n",
        "# to the H2O cluster\n",
        "uploaded_model = h2o.upload_model(my_local_model)"
      ],
      "execution_count": 0,
      "outputs": []
    },
    {
      "cell_type": "markdown",
      "metadata": {
        "id": "fffnTFcA2eZy",
        "colab_type": "text"
      },
      "source": [
        "### Save/Download a tuned deep learning model"
      ]
    },
    {
      "cell_type": "code",
      "metadata": {
        "id": "XDA_PIH52ijo",
        "colab_type": "code",
        "colab": {}
      },
      "source": [
        "# save the model\n",
        "model_path = h2o.save_model(model=dl_fit2, path=\"/tmp/mymodel\", force=True)"
      ],
      "execution_count": 0,
      "outputs": []
    },
    {
      "cell_type": "code",
      "metadata": {
        "id": "x2ptNMfs2jpi",
        "colab_type": "code",
        "outputId": "c4a50854-6ba9-4110-a944-e12d086d2530",
        "colab": {
          "base_uri": "https://localhost:8080/",
          "height": 34
        }
      },
      "source": [
        "print(model_path)"
      ],
      "execution_count": 0,
      "outputs": [
        {
          "output_type": "stream",
          "text": [
            "/tmp/mymodel/dl_fit2\n"
          ],
          "name": "stdout"
        }
      ]
    },
    {
      "cell_type": "code",
      "metadata": {
        "id": "jGB33l4P2lL1",
        "colab_type": "code",
        "colab": {}
      },
      "source": [
        "# load the model\n",
        "saved_model = h2o.load_model(model_path)"
      ],
      "execution_count": 0,
      "outputs": []
    },
    {
      "cell_type": "code",
      "metadata": {
        "id": "C6WaNbtT2rKp",
        "colab_type": "code",
        "colab": {}
      },
      "source": [
        "# download the model built above to your local machine\n",
        "my_local_model = h2o.download_model(dl_fit2, path=\"/Users/Downloads\")"
      ],
      "execution_count": 0,
      "outputs": []
    },
    {
      "cell_type": "code",
      "metadata": {
        "id": "2VOcS2e22s9c",
        "colab_type": "code",
        "colab": {}
      },
      "source": [
        "# upload the model that you just downloded above\n",
        "# to the H2O cluster\n",
        "uploaded_model = h2o.upload_model(my_local_model)"
      ],
      "execution_count": 0,
      "outputs": []
    },
    {
      "cell_type": "markdown",
      "metadata": {
        "id": "zs6XLF9CxK8b",
        "colab_type": "text"
      },
      "source": [
        "## Step six\n",
        "Step six is to save your script, shutdown h2o, and run your script again in a fresh session to be sure the results are reproducible, and that there are no bugs. This is a very important step: scripts that do not run might fail to be graded."
      ]
    },
    {
      "cell_type": "code",
      "metadata": {
        "id": "BiNSChKd0dU7",
        "colab_type": "code",
        "outputId": "a060c62c-4cba-47a1-9d0f-7b46afabd6cb",
        "colab": {
          "base_uri": "https://localhost:8080/",
          "height": 34
        }
      },
      "source": [
        "h2o.cluster().shutdown()"
      ],
      "execution_count": 0,
      "outputs": [
        {
          "output_type": "stream",
          "text": [
            "H2O session _sid_bc53 closed.\n"
          ],
          "name": "stdout"
        }
      ]
    },
    {
      "cell_type": "code",
      "metadata": {
        "id": "TzhVHvZj0hA_",
        "colab_type": "code",
        "outputId": "18685c61-2ad4-4b2d-81e8-918745d9e69e",
        "colab": {
          "base_uri": "https://localhost:8080/",
          "height": 51
        }
      },
      "source": [
        "h2o.shutdown(prompt=False)"
      ],
      "execution_count": 0,
      "outputs": [
        {
          "output_type": "stream",
          "text": [
            "/usr/local/lib/python3.6/dist-packages/ipykernel_launcher.py:1: DeprecationWarning: Deprecated, use ``h2o.cluster().shutdown()``.\n",
            "  \"\"\"Entry point for launching an IPython kernel.\n"
          ],
          "name": "stderr"
        }
      ]
    }
  ]
}