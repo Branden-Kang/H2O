{
  "nbformat": 4,
  "nbformat_minor": 0,
  "metadata": {
    "colab": {
      "name": "Final_Project.ipynb",
      "provenance": [],
      "collapsed_sections": []
    },
    "kernelspec": {
      "display_name": "Python 3",
      "language": "python",
      "name": "python3"
    },
    "language_info": {
      "codemirror_mode": {
        "name": "ipython",
        "version": 3
      },
      "file_extension": ".py",
      "mimetype": "text/x-python",
      "name": "python",
      "nbconvert_exporter": "python",
      "pygments_lexer": "ipython3",
      "version": "3.7.3"
    }
  },
  "cells": [
    {
      "cell_type": "markdown",
      "metadata": {
        "colab_type": "text",
        "id": "PkjJ9Z0b9c-X"
      },
      "source": [
        "This is a regression problem. You have to predict \"price\".\n",
        "We should split date into year and month columns. You can then optionally combine them into a numeric date column.\n",
        "Split the data into train and test, using 0.9 for the ratio, and a seed of 123. That should give you 19,462 training rows and 2,151 test rows. If you decide you want a valid data set, too, split that from train after doing the above split.\n",
        "\n",
        "Your target is an RMSE below $123,000."
      ]
    },
    {
      "cell_type": "code",
      "metadata": {
        "colab_type": "code",
        "id": "JXzb89CTDHkS",
        "outputId": "f1786596-2ee7-4c48-f609-75e0506f01ac",
        "colab": {
          "base_uri": "https://localhost:8080/",
          "height": 851
        }
      },
      "source": [
        "!pip install h2o\n",
        "# Load the H2O library and start up the H2O cluter locally on your machine\n",
        "import h2o\n",
        "\n",
        "# Number of threads, nthreads = -1, means use all cores on your machine\n",
        "# max_mem_size is the maximum memory (in GB) to allocate to H2O\n",
        "h2o.init(nthreads = -1, max_mem_size = 8)"
      ],
      "execution_count": 0,
      "outputs": [
        {
          "output_type": "stream",
          "text": [
            "Requirement already satisfied: h2o in /Users/kang/anaconda3/lib/python3.7/site-packages (3.30.0.2)\n",
            "Requirement already satisfied: colorama>=0.3.8 in /Users/kang/anaconda3/lib/python3.7/site-packages (from h2o) (0.4.1)\n",
            "Requirement already satisfied: future in /Users/kang/anaconda3/lib/python3.7/site-packages (from h2o) (0.17.1)\n",
            "Requirement already satisfied: tabulate in /Users/kang/anaconda3/lib/python3.7/site-packages (from h2o) (0.8.7)\n",
            "Requirement already satisfied: requests in /Users/kang/anaconda3/lib/python3.7/site-packages (from h2o) (2.22.0)\n",
            "Requirement already satisfied: urllib3!=1.25.0,!=1.25.1,<1.26,>=1.21.1 in /Users/kang/anaconda3/lib/python3.7/site-packages (from requests->h2o) (1.24.2)\n",
            "Requirement already satisfied: certifi>=2017.4.17 in /Users/kang/anaconda3/lib/python3.7/site-packages (from requests->h2o) (2019.6.16)\n",
            "Requirement already satisfied: idna<2.9,>=2.5 in /Users/kang/anaconda3/lib/python3.7/site-packages (from requests->h2o) (2.8)\n",
            "Requirement already satisfied: chardet<3.1.0,>=3.0.2 in /Users/kang/anaconda3/lib/python3.7/site-packages (from requests->h2o) (3.0.4)\n",
            "Checking whether there is an H2O instance running at http://localhost:54321 ..... not found.\n",
            "Attempting to start a local H2O server...\n",
            "  Java Version: java version \"1.8.0_201\"; Java(TM) SE Runtime Environment (build 1.8.0_201-b09); Java HotSpot(TM) 64-Bit Server VM (build 25.201-b09, mixed mode)\n",
            "  Starting server from /Users/kang/anaconda3/lib/python3.7/site-packages/h2o/backend/bin/h2o.jar\n",
            "  Ice root: /var/folders/59/k6h68_m55b9fd44rrtd3st840000gn/T/tmp9a61fl0a\n",
            "  JVM stdout: /var/folders/59/k6h68_m55b9fd44rrtd3st840000gn/T/tmp9a61fl0a/h2o_sangyunkang_started_from_python.out\n",
            "  JVM stderr: /var/folders/59/k6h68_m55b9fd44rrtd3st840000gn/T/tmp9a61fl0a/h2o_sangyunkang_started_from_python.err\n",
            "  Server is running at http://127.0.0.1:54321\n",
            "Connecting to H2O server at http://127.0.0.1:54321 ... successful.\n"
          ],
          "name": "stdout"
        },
        {
          "output_type": "display_data",
          "data": {
            "text/html": [
              "<div style=\"overflow:auto\"><table style=\"width:50%\"><tr><td>H2O_cluster_uptime:</td>\n",
              "<td>05 secs</td></tr>\n",
              "<tr><td>H2O_cluster_timezone:</td>\n",
              "<td>America/New_York</td></tr>\n",
              "<tr><td>H2O_data_parsing_timezone:</td>\n",
              "<td>UTC</td></tr>\n",
              "<tr><td>H2O_cluster_version:</td>\n",
              "<td>3.30.0.2</td></tr>\n",
              "<tr><td>H2O_cluster_version_age:</td>\n",
              "<td>14 days, 4 hours and 39 minutes </td></tr>\n",
              "<tr><td>H2O_cluster_name:</td>\n",
              "<td>H2O_from_python_sangyunkang_235kdn</td></tr>\n",
              "<tr><td>H2O_cluster_total_nodes:</td>\n",
              "<td>1</td></tr>\n",
              "<tr><td>H2O_cluster_free_memory:</td>\n",
              "<td>7.101 Gb</td></tr>\n",
              "<tr><td>H2O_cluster_total_cores:</td>\n",
              "<td>4</td></tr>\n",
              "<tr><td>H2O_cluster_allowed_cores:</td>\n",
              "<td>4</td></tr>\n",
              "<tr><td>H2O_cluster_status:</td>\n",
              "<td>accepting new members, healthy</td></tr>\n",
              "<tr><td>H2O_connection_url:</td>\n",
              "<td>http://127.0.0.1:54321</td></tr>\n",
              "<tr><td>H2O_connection_proxy:</td>\n",
              "<td>{\"http\": null, \"https\": null}</td></tr>\n",
              "<tr><td>H2O_internal_security:</td>\n",
              "<td>False</td></tr>\n",
              "<tr><td>H2O_API_Extensions:</td>\n",
              "<td>Amazon S3, XGBoost, Algos, AutoML, Core V3, TargetEncoder, Core V4</td></tr>\n",
              "<tr><td>Python_version:</td>\n",
              "<td>3.7.3 final</td></tr></table></div>"
            ],
            "text/plain": [
              "--------------------------  ------------------------------------------------------------------\n",
              "H2O_cluster_uptime:         05 secs\n",
              "H2O_cluster_timezone:       America/New_York\n",
              "H2O_data_parsing_timezone:  UTC\n",
              "H2O_cluster_version:        3.30.0.2\n",
              "H2O_cluster_version_age:    14 days, 4 hours and 39 minutes\n",
              "H2O_cluster_name:           H2O_from_python_sangyunkang_235kdn\n",
              "H2O_cluster_total_nodes:    1\n",
              "H2O_cluster_free_memory:    7.101 Gb\n",
              "H2O_cluster_total_cores:    4\n",
              "H2O_cluster_allowed_cores:  4\n",
              "H2O_cluster_status:         accepting new members, healthy\n",
              "H2O_connection_url:         http://127.0.0.1:54321\n",
              "H2O_connection_proxy:       {\"http\": null, \"https\": null}\n",
              "H2O_internal_security:      False\n",
              "H2O_API_Extensions:         Amazon S3, XGBoost, Algos, AutoML, Core V3, TargetEncoder, Core V4\n",
              "Python_version:             3.7.3 final\n",
              "--------------------------  ------------------------------------------------------------------"
            ]
          },
          "metadata": {
            "tags": []
          }
        }
      ]
    },
    {
      "cell_type": "code",
      "metadata": {
        "colab_type": "code",
        "id": "-wSUUdBMDRu6",
        "outputId": "9de62aa7-39a2-41ad-aff3-0bd1e2f57368",
        "colab": {
          "base_uri": "https://localhost:8080/",
          "height": 34
        }
      },
      "source": [
        "h2o.remove_all  # clean slate, in case cluster was already running"
      ],
      "execution_count": 0,
      "outputs": [
        {
          "output_type": "execute_result",
          "data": {
            "text/plain": [
              "<function h2o.h2o.remove_all(retained=None)>"
            ]
          },
          "metadata": {
            "tags": []
          },
          "execution_count": 2
        }
      ]
    },
    {
      "cell_type": "code",
      "metadata": {
        "colab_type": "code",
        "id": "xVmOOaYe7Sjc",
        "outputId": "39ecdcaf-8335-4fbc-c8fc-362bff55d0fb",
        "colab": {
          "base_uri": "https://localhost:8080/",
          "height": 34
        }
      },
      "source": [
        "url = \"http://coursera.h2o.ai/house_data.3487.csv\"\n",
        "data = h2o.import_file(path=url)"
      ],
      "execution_count": 0,
      "outputs": [
        {
          "output_type": "stream",
          "text": [
            "Parse progress: |█████████████████████████████████████████████████████████| 100%\n"
          ],
          "name": "stdout"
        }
      ]
    },
    {
      "cell_type": "markdown",
      "metadata": {
        "colab_type": "text",
        "id": "isZQ8R1oF1cj"
      },
      "source": [
        "Step one is to start h2o, load your chosen data set(s) and follow the project-specific data manipulation steps. At the end of this step you will have `train`, `test`, `x` and `y` variables, and possibly `valid` also. Check you have the correct number of rows and columns (as specified in the project description) before moving on."
      ]
    },
    {
      "cell_type": "code",
      "metadata": {
        "colab_type": "code",
        "id": "Ig_XsU0fDh8I",
        "outputId": "22a7cbba-9afa-4916-fd50-554008d35f71",
        "colab": {
          "base_uri": "https://localhost:8080/",
          "height": 270
        }
      },
      "source": [
        "data.head()"
      ],
      "execution_count": 0,
      "outputs": [
        {
          "output_type": "display_data",
          "data": {
            "text/html": [
              "<table>\n",
              "<thead>\n",
              "<tr><th style=\"text-align: right;\">         id</th><th>date           </th><th style=\"text-align: right;\">         price</th><th style=\"text-align: right;\">  bedrooms</th><th style=\"text-align: right;\">  bathrooms</th><th style=\"text-align: right;\">  sqft_living</th><th style=\"text-align: right;\">  sqft_lot</th><th style=\"text-align: right;\">  floors</th><th style=\"text-align: right;\">  waterfront</th><th style=\"text-align: right;\">  view</th><th style=\"text-align: right;\">  condition</th><th style=\"text-align: right;\">  grade</th><th style=\"text-align: right;\">  sqft_above</th><th style=\"text-align: right;\">  sqft_basement</th><th style=\"text-align: right;\">  yr_built</th><th style=\"text-align: right;\">  yr_renovated</th><th style=\"text-align: right;\">  zipcode</th><th style=\"text-align: right;\">    lat</th><th style=\"text-align: right;\">    long</th><th style=\"text-align: right;\">  sqft_living15</th><th style=\"text-align: right;\">  sqft_lot15</th></tr>\n",
              "</thead>\n",
              "<tbody>\n",
              "<tr><td style=\"text-align: right;\">7.1293e+09 </td><td>20141013T000000</td><td style=\"text-align: right;\">221900        </td><td style=\"text-align: right;\">         3</td><td style=\"text-align: right;\">       1   </td><td style=\"text-align: right;\">         1180</td><td style=\"text-align: right;\">      5650</td><td style=\"text-align: right;\">       1</td><td style=\"text-align: right;\">           0</td><td style=\"text-align: right;\">     0</td><td style=\"text-align: right;\">          3</td><td style=\"text-align: right;\">      7</td><td style=\"text-align: right;\">        1180</td><td style=\"text-align: right;\">              0</td><td style=\"text-align: right;\">      1955</td><td style=\"text-align: right;\">             0</td><td style=\"text-align: right;\">    98178</td><td style=\"text-align: right;\">47.5112</td><td style=\"text-align: right;\">-122.257</td><td style=\"text-align: right;\">           1340</td><td style=\"text-align: right;\">        5650</td></tr>\n",
              "<tr><td style=\"text-align: right;\">6.4141e+09 </td><td>20141209T000000</td><td style=\"text-align: right;\">538000        </td><td style=\"text-align: right;\">         3</td><td style=\"text-align: right;\">       2.25</td><td style=\"text-align: right;\">         2570</td><td style=\"text-align: right;\">      7242</td><td style=\"text-align: right;\">       2</td><td style=\"text-align: right;\">           0</td><td style=\"text-align: right;\">     0</td><td style=\"text-align: right;\">          3</td><td style=\"text-align: right;\">      7</td><td style=\"text-align: right;\">        2170</td><td style=\"text-align: right;\">            400</td><td style=\"text-align: right;\">      1951</td><td style=\"text-align: right;\">          1991</td><td style=\"text-align: right;\">    98125</td><td style=\"text-align: right;\">47.721 </td><td style=\"text-align: right;\">-122.319</td><td style=\"text-align: right;\">           1690</td><td style=\"text-align: right;\">        7639</td></tr>\n",
              "<tr><td style=\"text-align: right;\">5.6315e+09 </td><td>20150225T000000</td><td style=\"text-align: right;\">180000        </td><td style=\"text-align: right;\">         2</td><td style=\"text-align: right;\">       1   </td><td style=\"text-align: right;\">          770</td><td style=\"text-align: right;\">     10000</td><td style=\"text-align: right;\">       1</td><td style=\"text-align: right;\">           0</td><td style=\"text-align: right;\">     0</td><td style=\"text-align: right;\">          3</td><td style=\"text-align: right;\">      6</td><td style=\"text-align: right;\">         770</td><td style=\"text-align: right;\">              0</td><td style=\"text-align: right;\">      1933</td><td style=\"text-align: right;\">             0</td><td style=\"text-align: right;\">    98028</td><td style=\"text-align: right;\">47.7379</td><td style=\"text-align: right;\">-122.233</td><td style=\"text-align: right;\">           2720</td><td style=\"text-align: right;\">        8062</td></tr>\n",
              "<tr><td style=\"text-align: right;\">2.4872e+09 </td><td>20141209T000000</td><td style=\"text-align: right;\">604000        </td><td style=\"text-align: right;\">         4</td><td style=\"text-align: right;\">       3   </td><td style=\"text-align: right;\">         1960</td><td style=\"text-align: right;\">      5000</td><td style=\"text-align: right;\">       1</td><td style=\"text-align: right;\">           0</td><td style=\"text-align: right;\">     0</td><td style=\"text-align: right;\">          5</td><td style=\"text-align: right;\">      7</td><td style=\"text-align: right;\">        1050</td><td style=\"text-align: right;\">            910</td><td style=\"text-align: right;\">      1965</td><td style=\"text-align: right;\">             0</td><td style=\"text-align: right;\">    98136</td><td style=\"text-align: right;\">47.5208</td><td style=\"text-align: right;\">-122.393</td><td style=\"text-align: right;\">           1360</td><td style=\"text-align: right;\">        5000</td></tr>\n",
              "<tr><td style=\"text-align: right;\">1.9544e+09 </td><td>20150218T000000</td><td style=\"text-align: right;\">510000        </td><td style=\"text-align: right;\">         3</td><td style=\"text-align: right;\">       2   </td><td style=\"text-align: right;\">         1680</td><td style=\"text-align: right;\">      8080</td><td style=\"text-align: right;\">       1</td><td style=\"text-align: right;\">           0</td><td style=\"text-align: right;\">     0</td><td style=\"text-align: right;\">          3</td><td style=\"text-align: right;\">      8</td><td style=\"text-align: right;\">        1680</td><td style=\"text-align: right;\">              0</td><td style=\"text-align: right;\">      1987</td><td style=\"text-align: right;\">             0</td><td style=\"text-align: right;\">    98074</td><td style=\"text-align: right;\">47.6168</td><td style=\"text-align: right;\">-122.045</td><td style=\"text-align: right;\">           1800</td><td style=\"text-align: right;\">        7503</td></tr>\n",
              "<tr><td style=\"text-align: right;\">7.23755e+09</td><td>20140512T000000</td><td style=\"text-align: right;\">     1.225e+06</td><td style=\"text-align: right;\">         4</td><td style=\"text-align: right;\">       4.5 </td><td style=\"text-align: right;\">         5420</td><td style=\"text-align: right;\">    101930</td><td style=\"text-align: right;\">       1</td><td style=\"text-align: right;\">           0</td><td style=\"text-align: right;\">     0</td><td style=\"text-align: right;\">          3</td><td style=\"text-align: right;\">     11</td><td style=\"text-align: right;\">        3890</td><td style=\"text-align: right;\">           1530</td><td style=\"text-align: right;\">      2001</td><td style=\"text-align: right;\">             0</td><td style=\"text-align: right;\">    98053</td><td style=\"text-align: right;\">47.6561</td><td style=\"text-align: right;\">-122.005</td><td style=\"text-align: right;\">           4760</td><td style=\"text-align: right;\">      101930</td></tr>\n",
              "<tr><td style=\"text-align: right;\">1.3214e+09 </td><td>20140627T000000</td><td style=\"text-align: right;\">257500        </td><td style=\"text-align: right;\">         3</td><td style=\"text-align: right;\">       2.25</td><td style=\"text-align: right;\">         1715</td><td style=\"text-align: right;\">      6819</td><td style=\"text-align: right;\">       2</td><td style=\"text-align: right;\">           0</td><td style=\"text-align: right;\">     0</td><td style=\"text-align: right;\">          3</td><td style=\"text-align: right;\">      7</td><td style=\"text-align: right;\">        1715</td><td style=\"text-align: right;\">              0</td><td style=\"text-align: right;\">      1995</td><td style=\"text-align: right;\">             0</td><td style=\"text-align: right;\">    98003</td><td style=\"text-align: right;\">47.3097</td><td style=\"text-align: right;\">-122.327</td><td style=\"text-align: right;\">           2238</td><td style=\"text-align: right;\">        6819</td></tr>\n",
              "<tr><td style=\"text-align: right;\">2.008e+09  </td><td>20150115T000000</td><td style=\"text-align: right;\">291850        </td><td style=\"text-align: right;\">         3</td><td style=\"text-align: right;\">       1.5 </td><td style=\"text-align: right;\">         1060</td><td style=\"text-align: right;\">      9711</td><td style=\"text-align: right;\">       1</td><td style=\"text-align: right;\">           0</td><td style=\"text-align: right;\">     0</td><td style=\"text-align: right;\">          3</td><td style=\"text-align: right;\">      7</td><td style=\"text-align: right;\">        1060</td><td style=\"text-align: right;\">              0</td><td style=\"text-align: right;\">      1963</td><td style=\"text-align: right;\">             0</td><td style=\"text-align: right;\">    98198</td><td style=\"text-align: right;\">47.4095</td><td style=\"text-align: right;\">-122.315</td><td style=\"text-align: right;\">           1650</td><td style=\"text-align: right;\">        9711</td></tr>\n",
              "<tr><td style=\"text-align: right;\">2.4146e+09 </td><td>20150415T000000</td><td style=\"text-align: right;\">229500        </td><td style=\"text-align: right;\">         3</td><td style=\"text-align: right;\">       1   </td><td style=\"text-align: right;\">         1780</td><td style=\"text-align: right;\">      7470</td><td style=\"text-align: right;\">       1</td><td style=\"text-align: right;\">           0</td><td style=\"text-align: right;\">     0</td><td style=\"text-align: right;\">          3</td><td style=\"text-align: right;\">      7</td><td style=\"text-align: right;\">        1050</td><td style=\"text-align: right;\">            730</td><td style=\"text-align: right;\">      1960</td><td style=\"text-align: right;\">             0</td><td style=\"text-align: right;\">    98146</td><td style=\"text-align: right;\">47.5123</td><td style=\"text-align: right;\">-122.337</td><td style=\"text-align: right;\">           1780</td><td style=\"text-align: right;\">        8113</td></tr>\n",
              "<tr><td style=\"text-align: right;\">3.7935e+09 </td><td>20150312T000000</td><td style=\"text-align: right;\">323000        </td><td style=\"text-align: right;\">         3</td><td style=\"text-align: right;\">       2.5 </td><td style=\"text-align: right;\">         1890</td><td style=\"text-align: right;\">      6560</td><td style=\"text-align: right;\">       2</td><td style=\"text-align: right;\">           0</td><td style=\"text-align: right;\">     0</td><td style=\"text-align: right;\">          3</td><td style=\"text-align: right;\">      7</td><td style=\"text-align: right;\">        1890</td><td style=\"text-align: right;\">              0</td><td style=\"text-align: right;\">      2003</td><td style=\"text-align: right;\">             0</td><td style=\"text-align: right;\">    98038</td><td style=\"text-align: right;\">47.3684</td><td style=\"text-align: right;\">-122.031</td><td style=\"text-align: right;\">           2390</td><td style=\"text-align: right;\">        7570</td></tr>\n",
              "</tbody>\n",
              "</table>"
            ]
          },
          "metadata": {
            "tags": []
          }
        },
        {
          "output_type": "execute_result",
          "data": {
            "text/plain": [
              ""
            ]
          },
          "metadata": {
            "tags": []
          },
          "execution_count": 4
        }
      ]
    },
    {
      "cell_type": "code",
      "metadata": {
        "colab_type": "code",
        "id": "muEGjrrCEQWo",
        "colab": {}
      },
      "source": [
        "data[\"year\"] = data[\"date\"].year()"
      ],
      "execution_count": 0,
      "outputs": []
    },
    {
      "cell_type": "code",
      "metadata": {
        "colab_type": "code",
        "id": "Fw5HLdSoEThl",
        "colab": {}
      },
      "source": [
        "data[\"month\"] = data[\"date\"].month()"
      ],
      "execution_count": 0,
      "outputs": []
    },
    {
      "cell_type": "code",
      "metadata": {
        "colab_type": "code",
        "id": "n9VTVCbDEsTU",
        "outputId": "80cde124-654c-4f42-9ef5-4e51684822ac",
        "colab": {
          "base_uri": "https://localhost:8080/",
          "height": 270
        }
      },
      "source": [
        "data.head()"
      ],
      "execution_count": 0,
      "outputs": [
        {
          "output_type": "display_data",
          "data": {
            "text/html": [
              "<table>\n",
              "<thead>\n",
              "<tr><th style=\"text-align: right;\">         id</th><th>date           </th><th style=\"text-align: right;\">         price</th><th style=\"text-align: right;\">  bedrooms</th><th style=\"text-align: right;\">  bathrooms</th><th style=\"text-align: right;\">  sqft_living</th><th style=\"text-align: right;\">  sqft_lot</th><th style=\"text-align: right;\">  floors</th><th style=\"text-align: right;\">  waterfront</th><th style=\"text-align: right;\">  view</th><th style=\"text-align: right;\">  condition</th><th style=\"text-align: right;\">  grade</th><th style=\"text-align: right;\">  sqft_above</th><th style=\"text-align: right;\">  sqft_basement</th><th style=\"text-align: right;\">  yr_built</th><th style=\"text-align: right;\">  yr_renovated</th><th style=\"text-align: right;\">  zipcode</th><th style=\"text-align: right;\">    lat</th><th style=\"text-align: right;\">    long</th><th style=\"text-align: right;\">  sqft_living15</th><th style=\"text-align: right;\">  sqft_lot15</th><th style=\"text-align: right;\">  year</th><th style=\"text-align: right;\">  month</th></tr>\n",
              "</thead>\n",
              "<tbody>\n",
              "<tr><td style=\"text-align: right;\">7.1293e+09 </td><td>20141013T000000</td><td style=\"text-align: right;\">221900        </td><td style=\"text-align: right;\">         3</td><td style=\"text-align: right;\">       1   </td><td style=\"text-align: right;\">         1180</td><td style=\"text-align: right;\">      5650</td><td style=\"text-align: right;\">       1</td><td style=\"text-align: right;\">           0</td><td style=\"text-align: right;\">     0</td><td style=\"text-align: right;\">          3</td><td style=\"text-align: right;\">      7</td><td style=\"text-align: right;\">        1180</td><td style=\"text-align: right;\">              0</td><td style=\"text-align: right;\">      1955</td><td style=\"text-align: right;\">             0</td><td style=\"text-align: right;\">    98178</td><td style=\"text-align: right;\">47.5112</td><td style=\"text-align: right;\">-122.257</td><td style=\"text-align: right;\">           1340</td><td style=\"text-align: right;\">        5650</td><td style=\"text-align: right;\">  1970</td><td style=\"text-align: right;\">      1</td></tr>\n",
              "<tr><td style=\"text-align: right;\">6.4141e+09 </td><td>20141209T000000</td><td style=\"text-align: right;\">538000        </td><td style=\"text-align: right;\">         3</td><td style=\"text-align: right;\">       2.25</td><td style=\"text-align: right;\">         2570</td><td style=\"text-align: right;\">      7242</td><td style=\"text-align: right;\">       2</td><td style=\"text-align: right;\">           0</td><td style=\"text-align: right;\">     0</td><td style=\"text-align: right;\">          3</td><td style=\"text-align: right;\">      7</td><td style=\"text-align: right;\">        2170</td><td style=\"text-align: right;\">            400</td><td style=\"text-align: right;\">      1951</td><td style=\"text-align: right;\">          1991</td><td style=\"text-align: right;\">    98125</td><td style=\"text-align: right;\">47.721 </td><td style=\"text-align: right;\">-122.319</td><td style=\"text-align: right;\">           1690</td><td style=\"text-align: right;\">        7639</td><td style=\"text-align: right;\">  1970</td><td style=\"text-align: right;\">      1</td></tr>\n",
              "<tr><td style=\"text-align: right;\">5.6315e+09 </td><td>20150225T000000</td><td style=\"text-align: right;\">180000        </td><td style=\"text-align: right;\">         2</td><td style=\"text-align: right;\">       1   </td><td style=\"text-align: right;\">          770</td><td style=\"text-align: right;\">     10000</td><td style=\"text-align: right;\">       1</td><td style=\"text-align: right;\">           0</td><td style=\"text-align: right;\">     0</td><td style=\"text-align: right;\">          3</td><td style=\"text-align: right;\">      6</td><td style=\"text-align: right;\">         770</td><td style=\"text-align: right;\">              0</td><td style=\"text-align: right;\">      1933</td><td style=\"text-align: right;\">             0</td><td style=\"text-align: right;\">    98028</td><td style=\"text-align: right;\">47.7379</td><td style=\"text-align: right;\">-122.233</td><td style=\"text-align: right;\">           2720</td><td style=\"text-align: right;\">        8062</td><td style=\"text-align: right;\">  1970</td><td style=\"text-align: right;\">      1</td></tr>\n",
              "<tr><td style=\"text-align: right;\">2.4872e+09 </td><td>20141209T000000</td><td style=\"text-align: right;\">604000        </td><td style=\"text-align: right;\">         4</td><td style=\"text-align: right;\">       3   </td><td style=\"text-align: right;\">         1960</td><td style=\"text-align: right;\">      5000</td><td style=\"text-align: right;\">       1</td><td style=\"text-align: right;\">           0</td><td style=\"text-align: right;\">     0</td><td style=\"text-align: right;\">          5</td><td style=\"text-align: right;\">      7</td><td style=\"text-align: right;\">        1050</td><td style=\"text-align: right;\">            910</td><td style=\"text-align: right;\">      1965</td><td style=\"text-align: right;\">             0</td><td style=\"text-align: right;\">    98136</td><td style=\"text-align: right;\">47.5208</td><td style=\"text-align: right;\">-122.393</td><td style=\"text-align: right;\">           1360</td><td style=\"text-align: right;\">        5000</td><td style=\"text-align: right;\">  1970</td><td style=\"text-align: right;\">      1</td></tr>\n",
              "<tr><td style=\"text-align: right;\">1.9544e+09 </td><td>20150218T000000</td><td style=\"text-align: right;\">510000        </td><td style=\"text-align: right;\">         3</td><td style=\"text-align: right;\">       2   </td><td style=\"text-align: right;\">         1680</td><td style=\"text-align: right;\">      8080</td><td style=\"text-align: right;\">       1</td><td style=\"text-align: right;\">           0</td><td style=\"text-align: right;\">     0</td><td style=\"text-align: right;\">          3</td><td style=\"text-align: right;\">      8</td><td style=\"text-align: right;\">        1680</td><td style=\"text-align: right;\">              0</td><td style=\"text-align: right;\">      1987</td><td style=\"text-align: right;\">             0</td><td style=\"text-align: right;\">    98074</td><td style=\"text-align: right;\">47.6168</td><td style=\"text-align: right;\">-122.045</td><td style=\"text-align: right;\">           1800</td><td style=\"text-align: right;\">        7503</td><td style=\"text-align: right;\">  1970</td><td style=\"text-align: right;\">      1</td></tr>\n",
              "<tr><td style=\"text-align: right;\">7.23755e+09</td><td>20140512T000000</td><td style=\"text-align: right;\">     1.225e+06</td><td style=\"text-align: right;\">         4</td><td style=\"text-align: right;\">       4.5 </td><td style=\"text-align: right;\">         5420</td><td style=\"text-align: right;\">    101930</td><td style=\"text-align: right;\">       1</td><td style=\"text-align: right;\">           0</td><td style=\"text-align: right;\">     0</td><td style=\"text-align: right;\">          3</td><td style=\"text-align: right;\">     11</td><td style=\"text-align: right;\">        3890</td><td style=\"text-align: right;\">           1530</td><td style=\"text-align: right;\">      2001</td><td style=\"text-align: right;\">             0</td><td style=\"text-align: right;\">    98053</td><td style=\"text-align: right;\">47.6561</td><td style=\"text-align: right;\">-122.005</td><td style=\"text-align: right;\">           4760</td><td style=\"text-align: right;\">      101930</td><td style=\"text-align: right;\">  1970</td><td style=\"text-align: right;\">      1</td></tr>\n",
              "<tr><td style=\"text-align: right;\">1.3214e+09 </td><td>20140627T000000</td><td style=\"text-align: right;\">257500        </td><td style=\"text-align: right;\">         3</td><td style=\"text-align: right;\">       2.25</td><td style=\"text-align: right;\">         1715</td><td style=\"text-align: right;\">      6819</td><td style=\"text-align: right;\">       2</td><td style=\"text-align: right;\">           0</td><td style=\"text-align: right;\">     0</td><td style=\"text-align: right;\">          3</td><td style=\"text-align: right;\">      7</td><td style=\"text-align: right;\">        1715</td><td style=\"text-align: right;\">              0</td><td style=\"text-align: right;\">      1995</td><td style=\"text-align: right;\">             0</td><td style=\"text-align: right;\">    98003</td><td style=\"text-align: right;\">47.3097</td><td style=\"text-align: right;\">-122.327</td><td style=\"text-align: right;\">           2238</td><td style=\"text-align: right;\">        6819</td><td style=\"text-align: right;\">  1970</td><td style=\"text-align: right;\">      1</td></tr>\n",
              "<tr><td style=\"text-align: right;\">2.008e+09  </td><td>20150115T000000</td><td style=\"text-align: right;\">291850        </td><td style=\"text-align: right;\">         3</td><td style=\"text-align: right;\">       1.5 </td><td style=\"text-align: right;\">         1060</td><td style=\"text-align: right;\">      9711</td><td style=\"text-align: right;\">       1</td><td style=\"text-align: right;\">           0</td><td style=\"text-align: right;\">     0</td><td style=\"text-align: right;\">          3</td><td style=\"text-align: right;\">      7</td><td style=\"text-align: right;\">        1060</td><td style=\"text-align: right;\">              0</td><td style=\"text-align: right;\">      1963</td><td style=\"text-align: right;\">             0</td><td style=\"text-align: right;\">    98198</td><td style=\"text-align: right;\">47.4095</td><td style=\"text-align: right;\">-122.315</td><td style=\"text-align: right;\">           1650</td><td style=\"text-align: right;\">        9711</td><td style=\"text-align: right;\">  1970</td><td style=\"text-align: right;\">      1</td></tr>\n",
              "<tr><td style=\"text-align: right;\">2.4146e+09 </td><td>20150415T000000</td><td style=\"text-align: right;\">229500        </td><td style=\"text-align: right;\">         3</td><td style=\"text-align: right;\">       1   </td><td style=\"text-align: right;\">         1780</td><td style=\"text-align: right;\">      7470</td><td style=\"text-align: right;\">       1</td><td style=\"text-align: right;\">           0</td><td style=\"text-align: right;\">     0</td><td style=\"text-align: right;\">          3</td><td style=\"text-align: right;\">      7</td><td style=\"text-align: right;\">        1050</td><td style=\"text-align: right;\">            730</td><td style=\"text-align: right;\">      1960</td><td style=\"text-align: right;\">             0</td><td style=\"text-align: right;\">    98146</td><td style=\"text-align: right;\">47.5123</td><td style=\"text-align: right;\">-122.337</td><td style=\"text-align: right;\">           1780</td><td style=\"text-align: right;\">        8113</td><td style=\"text-align: right;\">  1970</td><td style=\"text-align: right;\">      1</td></tr>\n",
              "<tr><td style=\"text-align: right;\">3.7935e+09 </td><td>20150312T000000</td><td style=\"text-align: right;\">323000        </td><td style=\"text-align: right;\">         3</td><td style=\"text-align: right;\">       2.5 </td><td style=\"text-align: right;\">         1890</td><td style=\"text-align: right;\">      6560</td><td style=\"text-align: right;\">       2</td><td style=\"text-align: right;\">           0</td><td style=\"text-align: right;\">     0</td><td style=\"text-align: right;\">          3</td><td style=\"text-align: right;\">      7</td><td style=\"text-align: right;\">        1890</td><td style=\"text-align: right;\">              0</td><td style=\"text-align: right;\">      2003</td><td style=\"text-align: right;\">             0</td><td style=\"text-align: right;\">    98038</td><td style=\"text-align: right;\">47.3684</td><td style=\"text-align: right;\">-122.031</td><td style=\"text-align: right;\">           2390</td><td style=\"text-align: right;\">        7570</td><td style=\"text-align: right;\">  1970</td><td style=\"text-align: right;\">      1</td></tr>\n",
              "</tbody>\n",
              "</table>"
            ]
          },
          "metadata": {
            "tags": []
          }
        },
        {
          "output_type": "execute_result",
          "data": {
            "text/plain": [
              ""
            ]
          },
          "metadata": {
            "tags": []
          },
          "execution_count": 7
        }
      ]
    },
    {
      "cell_type": "code",
      "metadata": {
        "colab_type": "code",
        "id": "PxKHVSmSEvVI",
        "outputId": "08af3fc5-66e1-47e8-f8c6-379ed95be241",
        "colab": {
          "base_uri": "https://localhost:8080/",
          "height": 34
        }
      },
      "source": [
        "data.shape"
      ],
      "execution_count": 0,
      "outputs": [
        {
          "output_type": "execute_result",
          "data": {
            "text/plain": [
              "(21613, 23)"
            ]
          },
          "metadata": {
            "tags": []
          },
          "execution_count": 8
        }
      ]
    },
    {
      "cell_type": "code",
      "metadata": {
        "colab_type": "code",
        "id": "nsnFX9xx4Isr",
        "outputId": "eb8e4e3e-ef01-419a-dac5-682efda14166",
        "colab": {
          "base_uri": "https://localhost:8080/",
          "height": 485
        }
      },
      "source": [
        "data.describe()"
      ],
      "execution_count": 0,
      "outputs": [
        {
          "output_type": "stream",
          "text": [
            "Rows:21613\n",
            "Cols:23\n",
            "\n",
            "\n"
          ],
          "name": "stdout"
        },
        {
          "output_type": "display_data",
          "data": {
            "text/html": [
              "<table>\n",
              "<thead>\n",
              "<tr><th>       </th><th>id                </th><th>date           </th><th>price             </th><th>bedrooms         </th><th>bathrooms         </th><th>sqft_living      </th><th>sqft_lot         </th><th>floors            </th><th>waterfront          </th><th>view               </th><th>condition         </th><th>grade             </th><th>sqft_above        </th><th>sqft_basement     </th><th>yr_built          </th><th>yr_renovated      </th><th>zipcode          </th><th>lat                </th><th>long               </th><th>sqft_living15     </th><th>sqft_lot15        </th><th>year  </th><th>month  </th></tr>\n",
              "</thead>\n",
              "<tbody>\n",
              "<tr><td>type   </td><td>int               </td><td>enum           </td><td>int               </td><td>int              </td><td>real              </td><td>int              </td><td>int              </td><td>real              </td><td>int                 </td><td>int                </td><td>int               </td><td>int               </td><td>int               </td><td>int               </td><td>int               </td><td>int               </td><td>int              </td><td>real               </td><td>real               </td><td>int               </td><td>int               </td><td>int   </td><td>int    </td></tr>\n",
              "<tr><td>mins   </td><td>1000102.0         </td><td>               </td><td>75000.0           </td><td>0.0              </td><td>0.0               </td><td>290.0            </td><td>520.0            </td><td>1.0               </td><td>0.0                 </td><td>0.0                </td><td>1.0               </td><td>1.0               </td><td>290.0             </td><td>0.0               </td><td>1900.0            </td><td>0.0               </td><td>98001.0          </td><td>47.1559            </td><td>-122.519           </td><td>399.0             </td><td>651.0             </td><td>1970.0</td><td>1.0    </td></tr>\n",
              "<tr><td>mean   </td><td>4580301520.864987 </td><td>               </td><td>540088.1417665284 </td><td>3.370841623097218</td><td>2.114757321982139 </td><td>2079.899736269819</td><td>15106.96756581695</td><td>1.4943089807060526</td><td>0.007541757275713691</td><td>0.23430342849211097</td><td>3.4094295100171164</td><td>7.6568731781798105</td><td>1788.3906907879518</td><td>291.50904548188555</td><td>1971.0051357979064</td><td>84.4022579003377  </td><td>98077.93980474674</td><td>47.56005251931665  </td><td>-122.21389640494158</td><td>1986.5524915560036</td><td>12768.45565169118 </td><td>1970.0</td><td>1.0    </td></tr>\n",
              "<tr><td>maxs   </td><td>9900000190.0      </td><td>               </td><td>7700000.0         </td><td>33.0             </td><td>8.0               </td><td>13540.0          </td><td>1651359.0        </td><td>3.5               </td><td>1.0                 </td><td>4.0                </td><td>5.0               </td><td>13.0              </td><td>9410.0            </td><td>4820.0            </td><td>2015.0            </td><td>2015.0            </td><td>98199.0          </td><td>47.7776            </td><td>-121.315           </td><td>6210.0            </td><td>871200.0          </td><td>1970.0</td><td>1.0    </td></tr>\n",
              "<tr><td>sigma  </td><td>2876565571.3120522</td><td>               </td><td>367127.19648270035</td><td>0.930061831147451</td><td>0.7701631572177408</td><td>918.4408970468095</td><td>41420.51151513551</td><td>0.5399888951423489</td><td>0.08651719772788766 </td><td>0.7663175692736117 </td><td>0.6507430463662044</td><td>1.1754587569743344</td><td>828.0909776519175 </td><td>442.57504267746685</td><td>29.373410802386235</td><td>401.67924001917555</td><td>53.50502625747248</td><td>0.13856371024192365</td><td>0.14082834238139275</td><td>685.3913042527788 </td><td>27304.179631338524</td><td>0.0   </td><td>0.0    </td></tr>\n",
              "<tr><td>zeros  </td><td>0                 </td><td>               </td><td>0                 </td><td>13               </td><td>10                </td><td>0                </td><td>0                </td><td>0                 </td><td>21450               </td><td>19489              </td><td>0                 </td><td>0                 </td><td>0                 </td><td>13126             </td><td>0                 </td><td>20699             </td><td>0                </td><td>0                  </td><td>0                  </td><td>0                 </td><td>0                 </td><td>0     </td><td>0      </td></tr>\n",
              "<tr><td>missing</td><td>0                 </td><td>0              </td><td>0                 </td><td>0                </td><td>0                 </td><td>0                </td><td>0                </td><td>0                 </td><td>0                   </td><td>0                  </td><td>0                 </td><td>0                 </td><td>0                 </td><td>0                 </td><td>0                 </td><td>0                 </td><td>0                </td><td>0                  </td><td>0                  </td><td>0                 </td><td>0                 </td><td>0     </td><td>0      </td></tr>\n",
              "<tr><td>0      </td><td>7129300520.0      </td><td>20141013T000000</td><td>221900.0          </td><td>3.0              </td><td>1.0               </td><td>1180.0           </td><td>5650.0           </td><td>1.0               </td><td>0.0                 </td><td>0.0                </td><td>3.0               </td><td>7.0               </td><td>1180.0            </td><td>0.0               </td><td>1955.0            </td><td>0.0               </td><td>98178.0          </td><td>47.5112            </td><td>-122.257           </td><td>1340.0            </td><td>5650.0            </td><td>1970.0</td><td>1.0    </td></tr>\n",
              "<tr><td>1      </td><td>6414100192.0      </td><td>20141209T000000</td><td>538000.0          </td><td>3.0              </td><td>2.25              </td><td>2570.0           </td><td>7242.0           </td><td>2.0               </td><td>0.0                 </td><td>0.0                </td><td>3.0               </td><td>7.0               </td><td>2170.0            </td><td>400.0             </td><td>1951.0            </td><td>1991.0            </td><td>98125.0          </td><td>47.721             </td><td>-122.319           </td><td>1690.0            </td><td>7639.0            </td><td>1970.0</td><td>1.0    </td></tr>\n",
              "<tr><td>2      </td><td>5631500400.0      </td><td>20150225T000000</td><td>180000.0          </td><td>2.0              </td><td>1.0               </td><td>770.0            </td><td>10000.0          </td><td>1.0               </td><td>0.0                 </td><td>0.0                </td><td>3.0               </td><td>6.0               </td><td>770.0             </td><td>0.0               </td><td>1933.0            </td><td>0.0               </td><td>98028.0          </td><td>47.7379            </td><td>-122.233           </td><td>2720.0            </td><td>8062.0            </td><td>1970.0</td><td>1.0    </td></tr>\n",
              "<tr><td>3      </td><td>2487200875.0      </td><td>20141209T000000</td><td>604000.0          </td><td>4.0              </td><td>3.0               </td><td>1960.0           </td><td>5000.0           </td><td>1.0               </td><td>0.0                 </td><td>0.0                </td><td>5.0               </td><td>7.0               </td><td>1050.0            </td><td>910.0             </td><td>1965.0            </td><td>0.0               </td><td>98136.0          </td><td>47.5208            </td><td>-122.393           </td><td>1360.0            </td><td>5000.0            </td><td>1970.0</td><td>1.0    </td></tr>\n",
              "<tr><td>4      </td><td>1954400510.0      </td><td>20150218T000000</td><td>510000.0          </td><td>3.0              </td><td>2.0               </td><td>1680.0           </td><td>8080.0           </td><td>1.0               </td><td>0.0                 </td><td>0.0                </td><td>3.0               </td><td>8.0               </td><td>1680.0            </td><td>0.0               </td><td>1987.0            </td><td>0.0               </td><td>98074.0          </td><td>47.6168            </td><td>-122.045           </td><td>1800.0            </td><td>7503.0            </td><td>1970.0</td><td>1.0    </td></tr>\n",
              "<tr><td>5      </td><td>7237550310.0      </td><td>20140512T000000</td><td>1225000.0         </td><td>4.0              </td><td>4.5               </td><td>5420.0           </td><td>101930.0         </td><td>1.0               </td><td>0.0                 </td><td>0.0                </td><td>3.0               </td><td>11.0              </td><td>3890.0            </td><td>1530.0            </td><td>2001.0            </td><td>0.0               </td><td>98053.0          </td><td>47.6561            </td><td>-122.005           </td><td>4760.0            </td><td>101930.0          </td><td>1970.0</td><td>1.0    </td></tr>\n",
              "<tr><td>6      </td><td>1321400060.0      </td><td>20140627T000000</td><td>257500.0          </td><td>3.0              </td><td>2.25              </td><td>1715.0           </td><td>6819.0           </td><td>2.0               </td><td>0.0                 </td><td>0.0                </td><td>3.0               </td><td>7.0               </td><td>1715.0            </td><td>0.0               </td><td>1995.0            </td><td>0.0               </td><td>98003.0          </td><td>47.3097            </td><td>-122.327           </td><td>2238.0            </td><td>6819.0            </td><td>1970.0</td><td>1.0    </td></tr>\n",
              "<tr><td>7      </td><td>2008000270.0      </td><td>20150115T000000</td><td>291850.0          </td><td>3.0              </td><td>1.5               </td><td>1060.0           </td><td>9711.0           </td><td>1.0               </td><td>0.0                 </td><td>0.0                </td><td>3.0               </td><td>7.0               </td><td>1060.0            </td><td>0.0               </td><td>1963.0            </td><td>0.0               </td><td>98198.0          </td><td>47.4095            </td><td>-122.315           </td><td>1650.0            </td><td>9711.0            </td><td>1970.0</td><td>1.0    </td></tr>\n",
              "<tr><td>8      </td><td>2414600126.0      </td><td>20150415T000000</td><td>229500.0          </td><td>3.0              </td><td>1.0               </td><td>1780.0           </td><td>7470.0           </td><td>1.0               </td><td>0.0                 </td><td>0.0                </td><td>3.0               </td><td>7.0               </td><td>1050.0            </td><td>730.0             </td><td>1960.0            </td><td>0.0               </td><td>98146.0          </td><td>47.5123            </td><td>-122.337           </td><td>1780.0            </td><td>8113.0            </td><td>1970.0</td><td>1.0    </td></tr>\n",
              "<tr><td>9      </td><td>3793500160.0      </td><td>20150312T000000</td><td>323000.0          </td><td>3.0              </td><td>2.5               </td><td>1890.0           </td><td>6560.0           </td><td>2.0               </td><td>0.0                 </td><td>0.0                </td><td>3.0               </td><td>7.0               </td><td>1890.0            </td><td>0.0               </td><td>2003.0            </td><td>0.0               </td><td>98038.0          </td><td>47.3684            </td><td>-122.031           </td><td>2390.0            </td><td>7570.0            </td><td>1970.0</td><td>1.0    </td></tr>\n",
              "</tbody>\n",
              "</table>"
            ]
          },
          "metadata": {
            "tags": []
          }
        }
      ]
    },
    {
      "cell_type": "markdown",
      "metadata": {
        "colab_type": "text",
        "id": "soEZ5JngFAIS"
      },
      "source": [
        "Split the data into train and test, using 0.9 for the ratio, and a seed of 123. That should give you 19,462 training rows and 2,151 test rows"
      ]
    },
    {
      "cell_type": "code",
      "metadata": {
        "colab_type": "code",
        "id": "gaLMpXZUE2F4",
        "colab": {}
      },
      "source": [
        "splits = data.split_frame(ratios=[0.9], seed=123)  \n",
        "\n",
        "train = splits[0]\n",
        "test = splits[1]"
      ],
      "execution_count": 0,
      "outputs": []
    },
    {
      "cell_type": "code",
      "metadata": {
        "colab_type": "code",
        "id": "g5ZIKdYpFGJw",
        "outputId": "92fb3463-da75-4224-a8bc-6930d60550f2",
        "colab": {
          "base_uri": "https://localhost:8080/",
          "height": 51
        }
      },
      "source": [
        "print(train.nrow)\n",
        "print(test.nrow)"
      ],
      "execution_count": 0,
      "outputs": [
        {
          "output_type": "stream",
          "text": [
            "19462\n",
            "2151\n"
          ],
          "name": "stdout"
        }
      ]
    },
    {
      "cell_type": "markdown",
      "metadata": {
        "colab_type": "text",
        "id": "RUf9CGspFOIp"
      },
      "source": [
        "Identify response and predictor variables"
      ]
    },
    {
      "cell_type": "code",
      "metadata": {
        "colab_type": "code",
        "id": "BPNvCSHeFLKf",
        "colab": {}
      },
      "source": [
        "y = 'price'\n",
        "x = list(data.columns)"
      ],
      "execution_count": 0,
      "outputs": []
    },
    {
      "cell_type": "code",
      "metadata": {
        "colab_type": "code",
        "id": "9NtF5tF-FMjB",
        "colab": {}
      },
      "source": [
        "x.remove(y) #remove the response"
      ],
      "execution_count": 0,
      "outputs": []
    },
    {
      "cell_type": "markdown",
      "metadata": {
        "colab_type": "text",
        "id": "ffchtv9698sN"
      },
      "source": [
        "Step two is to train at least four different models, using at least three different supervised algorithms. Save all your models. You may use any data engineering you wish, but must not bring in any additional external data sources."
      ]
    },
    {
      "cell_type": "markdown",
      "metadata": {
        "colab_type": "text",
        "id": "v0D8k19hF9uR"
      },
      "source": [
        "#### H2O Machine Learning\n",
        "Now that we have prepared the data, we can train some models. We will start by training a single model from each of the H2O supervised algos:\n",
        "- Generalized Linear Model (GLM)\n",
        "- Random Forest (RF)\n",
        "- Gradient Boosting Machine (RF)\n",
        "- Deep Learning (DL)"
      ]
    },
    {
      "cell_type": "markdown",
      "metadata": {
        "colab_type": "text",
        "id": "dOnnX-rsGC_A"
      },
      "source": [
        "##### 1. Generalized Linear Model\n",
        "Let's start with a basic binomial Generalized Linear Model (GLM). By default, H2O's GLM uses a regularized, elastic net model."
      ]
    },
    {
      "cell_type": "code",
      "metadata": {
        "colab_type": "code",
        "id": "MQNqHspY9-UY",
        "colab": {}
      },
      "source": [
        "# Import H2O GLM:\n",
        "from h2o.estimators.glm import H2OGeneralizedLinearEstimator"
      ],
      "execution_count": 0,
      "outputs": []
    },
    {
      "cell_type": "code",
      "metadata": {
        "colab_type": "code",
        "id": "aCDC3jiiGFfT",
        "colab": {}
      },
      "source": [
        "# Initialize the GLM estimator:\n",
        "# Similar to R's glm() and H2O's R GLM, H2O's GLM has the \"family\" argument\n",
        "\n",
        "glm_fit1 = H2OGeneralizedLinearEstimator(model_id='glm_fit1')"
      ],
      "execution_count": 0,
      "outputs": []
    },
    {
      "cell_type": "code",
      "metadata": {
        "colab_type": "code",
        "id": "R_T-r46fGJGq",
        "outputId": "435a0cfe-767f-4bae-e61f-20012a7dbb97",
        "colab": {
          "base_uri": "https://localhost:8080/"
        }
      },
      "source": [
        "glm_fit1.train(x=x, y=y, training_frame=train)"
      ],
      "execution_count": 0,
      "outputs": [
        {
          "output_type": "stream",
          "text": [
            "glm Model Build progress: |███████████████████████████████████████████████| 100%\n"
          ],
          "name": "stdout"
        }
      ]
    },
    {
      "cell_type": "code",
      "metadata": {
        "colab_type": "code",
        "id": "tg-39zgqGJx4",
        "outputId": "e09ad0f4-18fe-4b52-f1f1-2c39e4bf6a2f",
        "colab": {
          "base_uri": "https://localhost:8080/",
          "height": 612
        }
      },
      "source": [
        "glm_fit1.varimp_plot()"
      ],
      "execution_count": 0,
      "outputs": [
        {
          "output_type": "display_data",
          "data": {
            "image/png": "[encoded data removed]",
            "text/plain": [
              "<Figure size 1008x720 with 1 Axes>"
            ]
          },
          "metadata": {
            "tags": [],
            "needs_background": "light"
          }
        }
      ]
    },
    {
      "cell_type": "code",
      "metadata": {
        "colab_type": "code",
        "id": "N92LOOdMGNKM",
        "outputId": "4cd8eaea-9fba-4155-a543-d57437fe1920",
        "colab": {
          "base_uri": "https://localhost:8080/",
          "height": 419
        }
      },
      "source": [
        "glm_fit1.varimp(use_pandas=True)"
      ],
      "execution_count": 0,
      "outputs": [
        {
          "output_type": "execute_result",
          "data": {
            "text/html": [
              "<div>\n",
              "<style scoped>\n",
              "    .dataframe tbody tr th:only-of-type {\n",
              "        vertical-align: middle;\n",
              "    }\n",
              "\n",
              "    .dataframe tbody tr th {\n",
              "        vertical-align: top;\n",
              "    }\n",
              "\n",
              "    .dataframe thead th {\n",
              "        text-align: right;\n",
              "    }\n",
              "</style>\n",
              "<table border=\"1\" class=\"dataframe\">\n",
              "  <thead>\n",
              "    <tr style=\"text-align: right;\">\n",
              "      <th></th>\n",
              "      <th>variable</th>\n",
              "      <th>relative_importance</th>\n",
              "      <th>scaled_importance</th>\n",
              "      <th>percentage</th>\n",
              "    </tr>\n",
              "  </thead>\n",
              "  <tbody>\n",
              "    <tr>\n",
              "      <th>0</th>\n",
              "      <td>sqft_living</td>\n",
              "      <td>981.618966</td>\n",
              "      <td>1.000000</td>\n",
              "      <td>0.129898</td>\n",
              "    </tr>\n",
              "    <tr>\n",
              "      <th>1</th>\n",
              "      <td>grade</td>\n",
              "      <td>931.684390</td>\n",
              "      <td>0.949130</td>\n",
              "      <td>0.123290</td>\n",
              "    </tr>\n",
              "    <tr>\n",
              "      <th>2</th>\n",
              "      <td>sqft_above</td>\n",
              "      <td>844.518037</td>\n",
              "      <td>0.860332</td>\n",
              "      <td>0.111755</td>\n",
              "    </tr>\n",
              "    <tr>\n",
              "      <th>3</th>\n",
              "      <td>sqft_living15</td>\n",
              "      <td>815.767224</td>\n",
              "      <td>0.831043</td>\n",
              "      <td>0.107951</td>\n",
              "    </tr>\n",
              "    <tr>\n",
              "      <th>4</th>\n",
              "      <td>bathrooms</td>\n",
              "      <td>728.227635</td>\n",
              "      <td>0.741864</td>\n",
              "      <td>0.096366</td>\n",
              "    </tr>\n",
              "    <tr>\n",
              "      <th>...</th>\n",
              "      <td>...</td>\n",
              "      <td>...</td>\n",
              "      <td>...</td>\n",
              "      <td>...</td>\n",
              "    </tr>\n",
              "    <tr>\n",
              "      <th>386</th>\n",
              "      <td>date.20150513T000000</td>\n",
              "      <td>0.000000</td>\n",
              "      <td>0.000000</td>\n",
              "      <td>0.000000</td>\n",
              "    </tr>\n",
              "    <tr>\n",
              "      <th>387</th>\n",
              "      <td>date.20150514T000000</td>\n",
              "      <td>0.000000</td>\n",
              "      <td>0.000000</td>\n",
              "      <td>0.000000</td>\n",
              "    </tr>\n",
              "    <tr>\n",
              "      <th>388</th>\n",
              "      <td>date.20150515T000000</td>\n",
              "      <td>0.000000</td>\n",
              "      <td>0.000000</td>\n",
              "      <td>0.000000</td>\n",
              "    </tr>\n",
              "    <tr>\n",
              "      <th>389</th>\n",
              "      <td>date.20150524T000000</td>\n",
              "      <td>0.000000</td>\n",
              "      <td>0.000000</td>\n",
              "      <td>0.000000</td>\n",
              "    </tr>\n",
              "    <tr>\n",
              "      <th>390</th>\n",
              "      <td>date.20150527T000000</td>\n",
              "      <td>0.000000</td>\n",
              "      <td>0.000000</td>\n",
              "      <td>0.000000</td>\n",
              "    </tr>\n",
              "  </tbody>\n",
              "</table>\n",
              "<p>391 rows × 4 columns</p>\n",
              "</div>"
            ],
            "text/plain": [
              "                 variable  relative_importance  scaled_importance  percentage\n",
              "0             sqft_living           981.618966           1.000000    0.129898\n",
              "1                   grade           931.684390           0.949130    0.123290\n",
              "2              sqft_above           844.518037           0.860332    0.111755\n",
              "3           sqft_living15           815.767224           0.831043    0.107951\n",
              "4               bathrooms           728.227635           0.741864    0.096366\n",
              "..                    ...                  ...                ...         ...\n",
              "386  date.20150513T000000             0.000000           0.000000    0.000000\n",
              "387  date.20150514T000000             0.000000           0.000000    0.000000\n",
              "388  date.20150515T000000             0.000000           0.000000    0.000000\n",
              "389  date.20150524T000000             0.000000           0.000000    0.000000\n",
              "390  date.20150527T000000             0.000000           0.000000    0.000000\n",
              "\n",
              "[391 rows x 4 columns]"
            ]
          },
          "metadata": {
            "tags": []
          },
          "execution_count": 18
        }
      ]
    },
    {
      "cell_type": "code",
      "metadata": {
        "colab_type": "code",
        "id": "I3o9ZKV_GO3k",
        "outputId": "8b28ed58-21ec-48d5-a3ef-b1e7c151625e",
        "colab": {
          "base_uri": "https://localhost:8080/",
          "height": 1000
        }
      },
      "source": [
        "glm_fit1.coef()"
      ],
      "execution_count": 0,
      "outputs": [
        {
          "output_type": "execute_result",
          "data": {
            "text/plain": [
              "{'Intercept': 505160.43078150746,\n",
              " 'bathrooms': 946.6217603077557,\n",
              " 'bedrooms': 455.0009104096635,\n",
              " 'condition': 84.24606999167887,\n",
              " 'date.20140502T000000': 0.0,\n",
              " 'date.20140503T000000': 0.0,\n",
              " 'date.20140504T000000': 0.0,\n",
              " 'date.20140505T000000': 0.0,\n",
              " 'date.20140506T000000': 0.0,\n",
              " 'date.20140507T000000': 0.0,\n",
              " 'date.20140508T000000': 0.0,\n",
              " 'date.20140509T000000': 0.0,\n",
              " 'date.20140510T000000': 0.0,\n",
              " 'date.20140511T000000': 0.0,\n",
              " 'date.20140512T000000': 0.0,\n",
              " 'date.20140513T000000': 0.0,\n",
              " 'date.20140514T000000': 0.0,\n",
              " 'date.20140515T000000': 0.0,\n",
              " 'date.20140516T000000': 0.0,\n",
              " 'date.20140517T000000': 0.0,\n",
              " 'date.20140518T000000': 0.0,\n",
              " 'date.20140519T000000': 0.0,\n",
              " 'date.20140520T000000': 0.0,\n",
              " 'date.20140521T000000': 0.0,\n",
              " 'date.20140522T000000': 0.0,\n",
              " 'date.20140523T000000': 0.0,\n",
              " 'date.20140524T000000': 0.0,\n",
              " 'date.20140525T000000': 0.0,\n",
              " 'date.20140526T000000': 0.0,\n",
              " 'date.20140527T000000': 0.0,\n",
              " 'date.20140528T000000': 0.0,\n",
              " 'date.20140529T000000': 0.0,\n",
              " 'date.20140530T000000': 0.0,\n",
              " 'date.20140531T000000': 0.0,\n",
              " 'date.20140601T000000': 0.0,\n",
              " 'date.20140602T000000': 0.0,\n",
              " 'date.20140603T000000': 0.0,\n",
              " 'date.20140604T000000': 0.0,\n",
              " 'date.20140605T000000': 0.0,\n",
              " 'date.20140606T000000': 0.0,\n",
              " 'date.20140607T000000': 0.0,\n",
              " 'date.20140608T000000': 0.0,\n",
              " 'date.20140609T000000': 0.0,\n",
              " 'date.20140610T000000': 0.0,\n",
              " 'date.20140611T000000': 0.0,\n",
              " 'date.20140612T000000': 0.0,\n",
              " 'date.20140613T000000': 0.0,\n",
              " 'date.20140614T000000': 0.0,\n",
              " 'date.20140615T000000': 0.0,\n",
              " 'date.20140616T000000': 0.0,\n",
              " 'date.20140617T000000': 0.0,\n",
              " 'date.20140618T000000': 0.0,\n",
              " 'date.20140619T000000': 0.0,\n",
              " 'date.20140620T000000': 0.0,\n",
              " 'date.20140621T000000': 0.0,\n",
              " 'date.20140622T000000': 0.0,\n",
              " 'date.20140623T000000': 0.0,\n",
              " 'date.20140624T000000': 0.0,\n",
              " 'date.20140625T000000': 0.0,\n",
              " 'date.20140626T000000': 0.0,\n",
              " 'date.20140627T000000': 0.0,\n",
              " 'date.20140628T000000': 0.0,\n",
              " 'date.20140629T000000': 0.0,\n",
              " 'date.20140630T000000': 0.0,\n",
              " 'date.20140701T000000': 1.1612881227283403,\n",
              " 'date.20140702T000000': 0.0,\n",
              " 'date.20140703T000000': 0.0,\n",
              " 'date.20140704T000000': 0.0,\n",
              " 'date.20140705T000000': 0.0,\n",
              " 'date.20140706T000000': 0.0,\n",
              " 'date.20140707T000000': 0.0,\n",
              " 'date.20140708T000000': 0.0,\n",
              " 'date.20140709T000000': 0.0,\n",
              " 'date.20140710T000000': 0.0,\n",
              " 'date.20140711T000000': 0.0,\n",
              " 'date.20140712T000000': 0.0,\n",
              " 'date.20140713T000000': 0.0,\n",
              " 'date.20140714T000000': 0.0,\n",
              " 'date.20140715T000000': 0.0,\n",
              " 'date.20140716T000000': 0.0,\n",
              " 'date.20140717T000000': 0.0,\n",
              " 'date.20140718T000000': 0.0,\n",
              " 'date.20140719T000000': 0.0,\n",
              " 'date.20140720T000000': 0.0,\n",
              " 'date.20140721T000000': 0.0,\n",
              " 'date.20140722T000000': 0.0,\n",
              " 'date.20140723T000000': 0.0,\n",
              " 'date.20140724T000000': 0.0,\n",
              " 'date.20140725T000000': 0.0,\n",
              " 'date.20140726T000000': 0.0,\n",
              " 'date.20140727T000000': 0.0,\n",
              " 'date.20140728T000000': 0.0,\n",
              " 'date.20140729T000000': 0.0,\n",
              " 'date.20140730T000000': 0.0,\n",
              " 'date.20140731T000000': 0.0,\n",
              " 'date.20140801T000000': 0.0,\n",
              " 'date.20140802T000000': 0.0,\n",
              " 'date.20140803T000000': 0.0,\n",
              " 'date.20140804T000000': 0.0,\n",
              " 'date.20140805T000000': 0.0,\n",
              " 'date.20140806T000000': 0.0,\n",
              " 'date.20140807T000000': 0.0,\n",
              " 'date.20140808T000000': 0.0,\n",
              " 'date.20140809T000000': 0.0,\n",
              " 'date.20140810T000000': 0.0,\n",
              " 'date.20140811T000000': 0.0,\n",
              " 'date.20140812T000000': 0.0,\n",
              " 'date.20140813T000000': 0.0,\n",
              " 'date.20140814T000000': 0.0,\n",
              " 'date.20140815T000000': 0.0,\n",
              " 'date.20140816T000000': 0.0,\n",
              " 'date.20140817T000000': 0.0,\n",
              " 'date.20140818T000000': 0.0,\n",
              " 'date.20140819T000000': 0.0,\n",
              " 'date.20140820T000000': 0.0,\n",
              " 'date.20140821T000000': 0.0,\n",
              " 'date.20140822T000000': 0.0,\n",
              " 'date.20140823T000000': 0.0,\n",
              " 'date.20140824T000000': 0.0,\n",
              " 'date.20140825T000000': 0.0,\n",
              " 'date.20140826T000000': 0.0,\n",
              " 'date.20140827T000000': 0.0,\n",
              " 'date.20140828T000000': 0.0,\n",
              " 'date.20140829T000000': 0.0,\n",
              " 'date.20140830T000000': 0.0,\n",
              " 'date.20140831T000000': 0.0,\n",
              " 'date.20140901T000000': 0.0,\n",
              " 'date.20140902T000000': 0.0,\n",
              " 'date.20140903T000000': 0.0,\n",
              " 'date.20140904T000000': 0.0,\n",
              " 'date.20140905T000000': 0.0,\n",
              " 'date.20140906T000000': 0.0,\n",
              " 'date.20140907T000000': 0.0,\n",
              " 'date.20140908T000000': 0.0,\n",
              " 'date.20140909T000000': 0.0,\n",
              " 'date.20140910T000000': 0.0,\n",
              " 'date.20140911T000000': 1.3782751319496676,\n",
              " 'date.20140912T000000': 0.0,\n",
              " 'date.20140913T000000': 0.0,\n",
              " 'date.20140914T000000': 0.0,\n",
              " 'date.20140915T000000': 0.0,\n",
              " 'date.20140916T000000': 0.0,\n",
              " 'date.20140917T000000': 0.0,\n",
              " 'date.20140918T000000': 0.0,\n",
              " 'date.20140919T000000': 0.0,\n",
              " 'date.20140920T000000': 0.0,\n",
              " 'date.20140921T000000': 0.0,\n",
              " 'date.20140922T000000': 0.0,\n",
              " 'date.20140923T000000': 0.0,\n",
              " 'date.20140924T000000': 0.0,\n",
              " 'date.20140925T000000': 0.0,\n",
              " 'date.20140926T000000': 0.0,\n",
              " 'date.20140927T000000': 0.0,\n",
              " 'date.20140928T000000': 0.0,\n",
              " 'date.20140929T000000': 0.0,\n",
              " 'date.20140930T000000': 0.0,\n",
              " 'date.20141001T000000': 0.0,\n",
              " 'date.20141002T000000': 0.0,\n",
              " 'date.20141003T000000': 0.0,\n",
              " 'date.20141004T000000': 0.0,\n",
              " 'date.20141005T000000': 0.0,\n",
              " 'date.20141006T000000': 0.0,\n",
              " 'date.20141007T000000': 0.0,\n",
              " 'date.20141008T000000': 0.0,\n",
              " 'date.20141009T000000': 0.0,\n",
              " 'date.20141010T000000': 0.0,\n",
              " 'date.20141011T000000': 0.0,\n",
              " 'date.20141012T000000': 0.0,\n",
              " 'date.20141013T000000': 0.0,\n",
              " 'date.20141014T000000': 0.0,\n",
              " 'date.20141015T000000': 0.0,\n",
              " 'date.20141016T000000': 0.0,\n",
              " 'date.20141017T000000': 0.0,\n",
              " 'date.20141018T000000': 0.0,\n",
              " 'date.20141019T000000': 0.0,\n",
              " 'date.20141020T000000': 0.0,\n",
              " 'date.20141021T000000': 0.0,\n",
              " 'date.20141022T000000': 0.0,\n",
              " 'date.20141023T000000': 0.0,\n",
              " 'date.20141024T000000': 0.0,\n",
              " 'date.20141025T000000': 0.0,\n",
              " 'date.20141026T000000': 0.0,\n",
              " 'date.20141027T000000': 0.0,\n",
              " 'date.20141028T000000': 0.0,\n",
              " 'date.20141029T000000': 0.0,\n",
              " 'date.20141030T000000': 0.0,\n",
              " 'date.20141031T000000': 0.0,\n",
              " 'date.20141101T000000': 0.0,\n",
              " 'date.20141102T000000': 0.0,\n",
              " 'date.20141103T000000': 0.0,\n",
              " 'date.20141104T000000': 0.0,\n",
              " 'date.20141105T000000': 0.0,\n",
              " 'date.20141106T000000': 0.0,\n",
              " 'date.20141107T000000': 0.0,\n",
              " 'date.20141108T000000': 0.0,\n",
              " 'date.20141109T000000': 0.0,\n",
              " 'date.20141110T000000': 0.0,\n",
              " 'date.20141111T000000': 0.0,\n",
              " 'date.20141112T000000': 0.0,\n",
              " 'date.20141113T000000': 0.0,\n",
              " 'date.20141114T000000': 0.0,\n",
              " 'date.20141115T000000': 0.0,\n",
              " 'date.20141116T000000': 0.0,\n",
              " 'date.20141117T000000': 0.0,\n",
              " 'date.20141118T000000': 0.0,\n",
              " 'date.20141119T000000': 0.0,\n",
              " 'date.20141120T000000': 0.0,\n",
              " 'date.20141121T000000': 0.0,\n",
              " 'date.20141122T000000': 0.0,\n",
              " 'date.20141123T000000': 0.0,\n",
              " 'date.20141124T000000': 0.0,\n",
              " 'date.20141125T000000': 0.0,\n",
              " 'date.20141126T000000': 0.0,\n",
              " 'date.20141128T000000': 0.0,\n",
              " 'date.20141129T000000': 0.0,\n",
              " 'date.20141130T000000': 0.0,\n",
              " 'date.20141201T000000': 0.0,\n",
              " 'date.20141202T000000': 0.0,\n",
              " 'date.20141203T000000': 0.0,\n",
              " 'date.20141204T000000': 0.0,\n",
              " 'date.20141205T000000': 0.0,\n",
              " 'date.20141206T000000': 0.0,\n",
              " 'date.20141207T000000': 0.0,\n",
              " 'date.20141208T000000': 0.0,\n",
              " 'date.20141209T000000': 0.0,\n",
              " 'date.20141210T000000': 0.0,\n",
              " 'date.20141211T000000': 0.0,\n",
              " 'date.20141212T000000': 0.0,\n",
              " 'date.20141213T000000': 0.0,\n",
              " 'date.20141214T000000': 0.0,\n",
              " 'date.20141215T000000': 0.0,\n",
              " 'date.20141216T000000': 0.0,\n",
              " 'date.20141217T000000': 0.0,\n",
              " 'date.20141218T000000': 0.0,\n",
              " 'date.20141219T000000': 0.0,\n",
              " 'date.20141220T000000': 0.0,\n",
              " 'date.20141221T000000': 0.0,\n",
              " 'date.20141222T000000': 0.0,\n",
              " 'date.20141223T000000': 0.0,\n",
              " 'date.20141224T000000': 0.0,\n",
              " 'date.20141226T000000': 0.0,\n",
              " 'date.20141227T000000': 0.0,\n",
              " 'date.20141229T000000': 0.0,\n",
              " 'date.20141230T000000': 0.0,\n",
              " 'date.20141231T000000': 0.0,\n",
              " 'date.20150102T000000': 0.0,\n",
              " 'date.20150105T000000': 0.0,\n",
              " 'date.20150106T000000': 0.0,\n",
              " 'date.20150107T000000': 0.0,\n",
              " 'date.20150108T000000': 0.0,\n",
              " 'date.20150109T000000': 0.0,\n",
              " 'date.20150110T000000': 0.0,\n",
              " 'date.20150112T000000': 0.0,\n",
              " 'date.20150113T000000': 0.0,\n",
              " 'date.20150114T000000': 0.0,\n",
              " 'date.20150115T000000': 0.0,\n",
              " 'date.20150116T000000': 0.0,\n",
              " 'date.20150117T000000': 0.0,\n",
              " 'date.20150119T000000': 0.0,\n",
              " 'date.20150120T000000': 0.0,\n",
              " 'date.20150121T000000': 0.0,\n",
              " 'date.20150122T000000': 0.0,\n",
              " 'date.20150123T000000': 0.0,\n",
              " 'date.20150124T000000': 0.0,\n",
              " 'date.20150125T000000': 0.0,\n",
              " 'date.20150126T000000': 0.0,\n",
              " 'date.20150127T000000': 0.0,\n",
              " 'date.20150128T000000': 0.0,\n",
              " 'date.20150129T000000': 0.0,\n",
              " 'date.20150130T000000': 0.0,\n",
              " 'date.20150131T000000': 0.0,\n",
              " 'date.20150201T000000': 0.0,\n",
              " 'date.20150202T000000': 0.0,\n",
              " 'date.20150203T000000': 0.0,\n",
              " 'date.20150204T000000': 0.0,\n",
              " 'date.20150205T000000': 0.0,\n",
              " 'date.20150206T000000': 0.0,\n",
              " 'date.20150207T000000': 0.0,\n",
              " 'date.20150209T000000': 0.0,\n",
              " 'date.20150210T000000': 0.0,\n",
              " 'date.20150211T000000': 0.0,\n",
              " 'date.20150212T000000': 0.0,\n",
              " 'date.20150213T000000': 0.0,\n",
              " 'date.20150214T000000': 0.0,\n",
              " 'date.20150215T000000': 0.0,\n",
              " 'date.20150216T000000': 0.0,\n",
              " 'date.20150217T000000': 0.0,\n",
              " 'date.20150218T000000': 0.0,\n",
              " 'date.20150219T000000': 0.0,\n",
              " 'date.20150220T000000': 0.0,\n",
              " 'date.20150221T000000': 0.0,\n",
              " 'date.20150222T000000': 0.0,\n",
              " 'date.20150223T000000': 0.0,\n",
              " 'date.20150224T000000': 0.0,\n",
              " 'date.20150225T000000': 0.0,\n",
              " 'date.20150226T000000': 0.0,\n",
              " 'date.20150227T000000': 0.0,\n",
              " 'date.20150228T000000': 0.0,\n",
              " 'date.20150301T000000': 0.0,\n",
              " 'date.20150302T000000': 0.0,\n",
              " 'date.20150303T000000': 0.0,\n",
              " 'date.20150304T000000': 0.0,\n",
              " 'date.20150305T000000': 0.0,\n",
              " 'date.20150306T000000': 0.0,\n",
              " 'date.20150307T000000': 0.0,\n",
              " 'date.20150308T000000': 0.0,\n",
              " 'date.20150309T000000': 0.0,\n",
              " 'date.20150310T000000': 0.0,\n",
              " 'date.20150311T000000': 0.0,\n",
              " 'date.20150312T000000': 0.0,\n",
              " 'date.20150313T000000': 0.0,\n",
              " 'date.20150314T000000': 0.0,\n",
              " 'date.20150315T000000': 0.0,\n",
              " 'date.20150316T000000': 0.0,\n",
              " 'date.20150317T000000': 0.0,\n",
              " 'date.20150318T000000': 0.0,\n",
              " 'date.20150319T000000': 0.0,\n",
              " 'date.20150320T000000': 0.0,\n",
              " 'date.20150321T000000': 0.0,\n",
              " 'date.20150322T000000': 0.0,\n",
              " 'date.20150323T000000': 0.0,\n",
              " 'date.20150324T000000': 0.0,\n",
              " 'date.20150325T000000': 0.0,\n",
              " 'date.20150326T000000': 0.0,\n",
              " 'date.20150327T000000': 0.0,\n",
              " 'date.20150328T000000': 0.0,\n",
              " 'date.20150329T000000': 0.0,\n",
              " 'date.20150330T000000': 0.0,\n",
              " 'date.20150331T000000': 0.0,\n",
              " 'date.20150401T000000': 0.0,\n",
              " 'date.20150402T000000': 0.0,\n",
              " 'date.20150403T000000': 0.0,\n",
              " 'date.20150404T000000': 0.0,\n",
              " 'date.20150405T000000': 0.0,\n",
              " 'date.20150406T000000': 0.0,\n",
              " 'date.20150407T000000': 0.0,\n",
              " 'date.20150408T000000': 0.0,\n",
              " 'date.20150409T000000': 0.0,\n",
              " 'date.20150410T000000': 0.0,\n",
              " 'date.20150411T000000': 0.0,\n",
              " 'date.20150412T000000': 0.0,\n",
              " 'date.20150413T000000': 0.0,\n",
              " 'date.20150414T000000': 0.0,\n",
              " 'date.20150415T000000': 0.0,\n",
              " 'date.20150416T000000': 0.0,\n",
              " 'date.20150417T000000': 0.0,\n",
              " 'date.20150418T000000': 0.0,\n",
              " 'date.20150419T000000': 0.0,\n",
              " 'date.20150420T000000': 0.0,\n",
              " 'date.20150421T000000': 0.0,\n",
              " 'date.20150422T000000': 0.0,\n",
              " 'date.20150423T000000': 0.0,\n",
              " 'date.20150424T000000': 0.0,\n",
              " 'date.20150425T000000': 0.0,\n",
              " 'date.20150426T000000': 0.0,\n",
              " 'date.20150427T000000': 0.0,\n",
              " 'date.20150428T000000': 0.0,\n",
              " 'date.20150429T000000': 0.0,\n",
              " 'date.20150430T000000': 0.0,\n",
              " 'date.20150501T000000': 0.0,\n",
              " 'date.20150502T000000': 0.0,\n",
              " 'date.20150503T000000': 0.0,\n",
              " 'date.20150504T000000': 0.0,\n",
              " 'date.20150505T000000': 0.0,\n",
              " 'date.20150506T000000': 0.0,\n",
              " 'date.20150507T000000': 0.0,\n",
              " 'date.20150508T000000': 0.0,\n",
              " 'date.20150509T000000': 0.0,\n",
              " 'date.20150510T000000': 0.0,\n",
              " 'date.20150511T000000': 0.0,\n",
              " 'date.20150512T000000': 0.0,\n",
              " 'date.20150513T000000': 0.0,\n",
              " 'date.20150514T000000': 0.0,\n",
              " 'date.20150515T000000': 0.0,\n",
              " 'date.20150524T000000': 0.0,\n",
              " 'date.20150527T000000': 0.0,\n",
              " 'floors': 664.450341974995,\n",
              " 'grade': 794.5609606169156,\n",
              " 'id': -9.174412285988307e-09,\n",
              " 'lat': 3138.88206869403,\n",
              " 'long': 144.0135102760898,\n",
              " 'sqft_above': 1.0249798063408075,\n",
              " 'sqft_basement': 1.0367472554356838,\n",
              " 'sqft_living': 1.071526336692734,\n",
              " 'sqft_living15': 1.1965796084675593,\n",
              " 'sqft_lot': 0.002964358652519673,\n",
              " 'sqft_lot15': 0.004043901107087871,\n",
              " 'view': 727.1111387001899,\n",
              " 'waterfront': 4232.4725786625,\n",
              " 'yr_built': 2.2043911977373427,\n",
              " 'yr_renovated': 0.444732180938511,\n",
              " 'zipcode': -1.214756612444514}"
            ]
          },
          "metadata": {
            "tags": []
          },
          "execution_count": 19
        }
      ]
    },
    {
      "cell_type": "code",
      "metadata": {
        "colab_type": "code",
        "id": "uqV6lcgRGRVY",
        "outputId": "36ef1ce7-4ba8-4007-a78e-1cd37d6c59d8",
        "colab": {
          "base_uri": "https://localhost:8080/",
          "height": 585
        }
      },
      "source": [
        "print(glm_fit1)"
      ],
      "execution_count": 0,
      "outputs": [
        {
          "output_type": "stream",
          "text": [
            "Model Details\n",
            "=============\n",
            "H2OGeneralizedLinearEstimator :  Generalized Linear Modeling\n",
            "Model Key:  glm_fit1\n",
            "\n",
            "\n",
            "GLM Model: summary\n"
          ],
          "name": "stdout"
        },
        {
          "output_type": "display_data",
          "data": {
            "text/html": [
              "<div>\n",
              "<style scoped>\n",
              "    .dataframe tbody tr th:only-of-type {\n",
              "        vertical-align: middle;\n",
              "    }\n",
              "\n",
              "    .dataframe tbody tr th {\n",
              "        vertical-align: top;\n",
              "    }\n",
              "\n",
              "    .dataframe thead th {\n",
              "        text-align: right;\n",
              "    }\n",
              "</style>\n",
              "<table border=\"1\" class=\"dataframe\">\n",
              "  <thead>\n",
              "    <tr style=\"text-align: right;\">\n",
              "      <th></th>\n",
              "      <th></th>\n",
              "      <th>family</th>\n",
              "      <th>link</th>\n",
              "      <th>regularization</th>\n",
              "      <th>number_of_predictors_total</th>\n",
              "      <th>number_of_active_predictors</th>\n",
              "      <th>number_of_iterations</th>\n",
              "      <th>training_frame</th>\n",
              "    </tr>\n",
              "  </thead>\n",
              "  <tbody>\n",
              "    <tr>\n",
              "      <th>0</th>\n",
              "      <td></td>\n",
              "      <td>gaussian</td>\n",
              "      <td>identity</td>\n",
              "      <td>Elastic Net (alpha = 0.5, lambda = 515.21 )</td>\n",
              "      <td>391</td>\n",
              "      <td>21</td>\n",
              "      <td>1</td>\n",
              "      <td>py_6_sid_a2b1</td>\n",
              "    </tr>\n",
              "  </tbody>\n",
              "</table>\n",
              "</div>"
            ],
            "text/plain": [
              "       family  ... number_of_iterations training_frame\n",
              "0    gaussian  ...                    1  py_6_sid_a2b1\n",
              "\n",
              "[1 rows x 8 columns]"
            ]
          },
          "metadata": {
            "tags": []
          }
        },
        {
          "output_type": "stream",
          "text": [
            "\n",
            "\n",
            "ModelMetricsRegressionGLM: glm\n",
            "** Reported on train data. **\n",
            "\n",
            "MSE: 132392212845.53535\n",
            "RMSE: 363857.40729788004\n",
            "MAE: 230690.99173205651\n",
            "RMSLE: 0.5406741461752895\n",
            "R^2: 0.019172093037720384\n",
            "Mean Residual Deviance: 132392212845.53535\n",
            "Null degrees of freedom: 19461\n",
            "Residual degrees of freedom: 19440\n",
            "Null deviance: 2626981989511147.5\n",
            "Residual deviance: 2576617246399809.0\n",
            "AIC: 553679.7960846461\n",
            "\n",
            "Scoring History: \n"
          ],
          "name": "stdout"
        },
        {
          "output_type": "display_data",
          "data": {
            "text/html": [
              "<div>\n",
              "<style scoped>\n",
              "    .dataframe tbody tr th:only-of-type {\n",
              "        vertical-align: middle;\n",
              "    }\n",
              "\n",
              "    .dataframe tbody tr th {\n",
              "        vertical-align: top;\n",
              "    }\n",
              "\n",
              "    .dataframe thead th {\n",
              "        text-align: right;\n",
              "    }\n",
              "</style>\n",
              "<table border=\"1\" class=\"dataframe\">\n",
              "  <thead>\n",
              "    <tr style=\"text-align: right;\">\n",
              "      <th></th>\n",
              "      <th></th>\n",
              "      <th>timestamp</th>\n",
              "      <th>duration</th>\n",
              "      <th>iterations</th>\n",
              "      <th>negative_log_likelihood</th>\n",
              "      <th>objective</th>\n",
              "    </tr>\n",
              "  </thead>\n",
              "  <tbody>\n",
              "    <tr>\n",
              "      <th>0</th>\n",
              "      <td></td>\n",
              "      <td>2020-05-13 07:56:05</td>\n",
              "      <td>0.000 sec</td>\n",
              "      <td>0</td>\n",
              "      <td>2.626982e+15</td>\n",
              "      <td>1.349801e+11</td>\n",
              "    </tr>\n",
              "  </tbody>\n",
              "</table>\n",
              "</div>"
            ],
            "text/plain": [
              "               timestamp  ... negative_log_likelihood     objective\n",
              "0    2020-05-13 07:56:05  ...            2.626982e+15  1.349801e+11\n",
              "\n",
              "[1 rows x 6 columns]"
            ]
          },
          "metadata": {
            "tags": []
          }
        },
        {
          "output_type": "stream",
          "text": [
            "\n"
          ],
          "name": "stdout"
        }
      ]
    },
    {
      "cell_type": "markdown",
      "metadata": {
        "colab_type": "text",
        "id": "m0evrf_cGWSD"
      },
      "source": [
        "##### Train a GLM with lambda search\n",
        "Next we will do some automatic tuning by passing in a validation frame and setting lambda_search = True. Since we are training a GLM with regularization, we should try to find the right amount of regularization (to avoid overfitting). The model parameter, lambda, controls the amount of regularization in a GLM model and we can find the optimal value for lambda automatically by setting lambda_search = True and passing in a validation frame (which is used to evaluate model performance using a particular value of lambda)."
      ]
    },
    {
      "cell_type": "code",
      "metadata": {
        "colab_type": "code",
        "id": "lCcZeSDmGXAO",
        "outputId": "27eb10e7-7d60-408e-fb49-4bad0ca6b334",
        "colab": {
          "base_uri": "https://localhost:8080/",
          "height": 34
        }
      },
      "source": [
        "glm_fit2 = H2OGeneralizedLinearEstimator(model_id='glm_fit2', lambda_search=True)\n",
        "glm_fit2.train(x=x, y=y, training_frame=train, validation_frame=test)"
      ],
      "execution_count": 0,
      "outputs": [
        {
          "output_type": "stream",
          "text": [
            "glm Model Build progress: |███████████████████████████████████████████████| 100%\n"
          ],
          "name": "stdout"
        }
      ]
    },
    {
      "cell_type": "code",
      "metadata": {
        "colab_type": "code",
        "id": "KayS16i5Gx1_",
        "outputId": "8388b26e-a348-4041-aad3-bfeeb8824a57",
        "colab": {
          "base_uri": "https://localhost:8080/",
          "height": 1000
        }
      },
      "source": [
        "glm_fit2.coef()"
      ],
      "execution_count": 0,
      "outputs": [
        {
          "output_type": "execute_result",
          "data": {
            "text/plain": [
              "{'Intercept': 539977.7851421824,\n",
              " 'bathrooms': 0.10366902849092603,\n",
              " 'bedrooms': 0.0,\n",
              " 'condition': 0.0,\n",
              " 'date.20140502T000000': 0.0,\n",
              " 'date.20140503T000000': 0.0,\n",
              " 'date.20140504T000000': 0.0,\n",
              " 'date.20140505T000000': 0.0,\n",
              " 'date.20140506T000000': 0.0,\n",
              " 'date.20140507T000000': 0.0,\n",
              " 'date.20140508T000000': 0.0,\n",
              " 'date.20140509T000000': 0.0,\n",
              " 'date.20140510T000000': 0.0,\n",
              " 'date.20140511T000000': 0.0,\n",
              " 'date.20140512T000000': 0.0,\n",
              " 'date.20140513T000000': 0.0,\n",
              " 'date.20140514T000000': 0.0,\n",
              " 'date.20140515T000000': 0.0,\n",
              " 'date.20140516T000000': 0.0,\n",
              " 'date.20140517T000000': 0.0,\n",
              " 'date.20140518T000000': 0.0,\n",
              " 'date.20140519T000000': 0.0,\n",
              " 'date.20140520T000000': 0.0,\n",
              " 'date.20140521T000000': 0.0,\n",
              " 'date.20140522T000000': 0.0,\n",
              " 'date.20140523T000000': 0.0,\n",
              " 'date.20140524T000000': 0.0,\n",
              " 'date.20140525T000000': 0.0,\n",
              " 'date.20140526T000000': 0.0,\n",
              " 'date.20140527T000000': 0.0,\n",
              " 'date.20140528T000000': 0.0,\n",
              " 'date.20140529T000000': 0.0,\n",
              " 'date.20140530T000000': 0.0,\n",
              " 'date.20140531T000000': 0.0,\n",
              " 'date.20140601T000000': 0.0,\n",
              " 'date.20140602T000000': 0.0,\n",
              " 'date.20140603T000000': 0.0,\n",
              " 'date.20140604T000000': 0.0,\n",
              " 'date.20140605T000000': 0.0,\n",
              " 'date.20140606T000000': 0.0,\n",
              " 'date.20140607T000000': 0.0,\n",
              " 'date.20140608T000000': 0.0,\n",
              " 'date.20140609T000000': 0.0,\n",
              " 'date.20140610T000000': 0.0,\n",
              " 'date.20140611T000000': 0.0,\n",
              " 'date.20140612T000000': 0.0,\n",
              " 'date.20140613T000000': 0.0,\n",
              " 'date.20140614T000000': 0.0,\n",
              " 'date.20140615T000000': 0.0,\n",
              " 'date.20140616T000000': 0.0,\n",
              " 'date.20140617T000000': 0.0,\n",
              " 'date.20140618T000000': 0.0,\n",
              " 'date.20140619T000000': 0.0,\n",
              " 'date.20140620T000000': 0.0,\n",
              " 'date.20140621T000000': 0.0,\n",
              " 'date.20140622T000000': 0.0,\n",
              " 'date.20140623T000000': 0.0,\n",
              " 'date.20140624T000000': 0.0,\n",
              " 'date.20140625T000000': 0.0,\n",
              " 'date.20140626T000000': 0.0,\n",
              " 'date.20140627T000000': 0.0,\n",
              " 'date.20140628T000000': 0.0,\n",
              " 'date.20140629T000000': 0.0,\n",
              " 'date.20140630T000000': 0.0,\n",
              " 'date.20140701T000000': 0.0,\n",
              " 'date.20140702T000000': 0.0,\n",
              " 'date.20140703T000000': 0.0,\n",
              " 'date.20140704T000000': 0.0,\n",
              " 'date.20140705T000000': 0.0,\n",
              " 'date.20140706T000000': 0.0,\n",
              " 'date.20140707T000000': 0.0,\n",
              " 'date.20140708T000000': 0.0,\n",
              " 'date.20140709T000000': 0.0,\n",
              " 'date.20140710T000000': 0.0,\n",
              " 'date.20140711T000000': 0.0,\n",
              " 'date.20140712T000000': 0.0,\n",
              " 'date.20140713T000000': 0.0,\n",
              " 'date.20140714T000000': 0.0,\n",
              " 'date.20140715T000000': 0.0,\n",
              " 'date.20140716T000000': 0.0,\n",
              " 'date.20140717T000000': 0.0,\n",
              " 'date.20140718T000000': 0.0,\n",
              " 'date.20140719T000000': 0.0,\n",
              " 'date.20140720T000000': 0.0,\n",
              " 'date.20140721T000000': 0.0,\n",
              " 'date.20140722T000000': 0.0,\n",
              " 'date.20140723T000000': 0.0,\n",
              " 'date.20140724T000000': 0.0,\n",
              " 'date.20140725T000000': 0.0,\n",
              " 'date.20140726T000000': 0.0,\n",
              " 'date.20140727T000000': 0.0,\n",
              " 'date.20140728T000000': 0.0,\n",
              " 'date.20140729T000000': 0.0,\n",
              " 'date.20140730T000000': 0.0,\n",
              " 'date.20140731T000000': 0.0,\n",
              " 'date.20140801T000000': 0.0,\n",
              " 'date.20140802T000000': 0.0,\n",
              " 'date.20140803T000000': 0.0,\n",
              " 'date.20140804T000000': 0.0,\n",
              " 'date.20140805T000000': 0.0,\n",
              " 'date.20140806T000000': 0.0,\n",
              " 'date.20140807T000000': 0.0,\n",
              " 'date.20140808T000000': 0.0,\n",
              " 'date.20140809T000000': 0.0,\n",
              " 'date.20140810T000000': 0.0,\n",
              " 'date.20140811T000000': 0.0,\n",
              " 'date.20140812T000000': 0.0,\n",
              " 'date.20140813T000000': 0.0,\n",
              " 'date.20140814T000000': 0.0,\n",
              " 'date.20140815T000000': 0.0,\n",
              " 'date.20140816T000000': 0.0,\n",
              " 'date.20140817T000000': 0.0,\n",
              " 'date.20140818T000000': 0.0,\n",
              " 'date.20140819T000000': 0.0,\n",
              " 'date.20140820T000000': 0.0,\n",
              " 'date.20140821T000000': 0.0,\n",
              " 'date.20140822T000000': 0.0,\n",
              " 'date.20140823T000000': 0.0,\n",
              " 'date.20140824T000000': 0.0,\n",
              " 'date.20140825T000000': 0.0,\n",
              " 'date.20140826T000000': 0.0,\n",
              " 'date.20140827T000000': 0.0,\n",
              " 'date.20140828T000000': 0.0,\n",
              " 'date.20140829T000000': 0.0,\n",
              " 'date.20140830T000000': 0.0,\n",
              " 'date.20140831T000000': 0.0,\n",
              " 'date.20140901T000000': 0.0,\n",
              " 'date.20140902T000000': 0.0,\n",
              " 'date.20140903T000000': 0.0,\n",
              " 'date.20140904T000000': 0.0,\n",
              " 'date.20140905T000000': 0.0,\n",
              " 'date.20140906T000000': 0.0,\n",
              " 'date.20140907T000000': 0.0,\n",
              " 'date.20140908T000000': 0.0,\n",
              " 'date.20140909T000000': 0.0,\n",
              " 'date.20140910T000000': 0.0,\n",
              " 'date.20140911T000000': 0.0,\n",
              " 'date.20140912T000000': 0.0,\n",
              " 'date.20140913T000000': 0.0,\n",
              " 'date.20140914T000000': 0.0,\n",
              " 'date.20140915T000000': 0.0,\n",
              " 'date.20140916T000000': 0.0,\n",
              " 'date.20140917T000000': 0.0,\n",
              " 'date.20140918T000000': 0.0,\n",
              " 'date.20140919T000000': 0.0,\n",
              " 'date.20140920T000000': 0.0,\n",
              " 'date.20140921T000000': 0.0,\n",
              " 'date.20140922T000000': 0.0,\n",
              " 'date.20140923T000000': 0.0,\n",
              " 'date.20140924T000000': 0.0,\n",
              " 'date.20140925T000000': 0.0,\n",
              " 'date.20140926T000000': 0.0,\n",
              " 'date.20140927T000000': 0.0,\n",
              " 'date.20140928T000000': 0.0,\n",
              " 'date.20140929T000000': 0.0,\n",
              " 'date.20140930T000000': 0.0,\n",
              " 'date.20141001T000000': 0.0,\n",
              " 'date.20141002T000000': 0.0,\n",
              " 'date.20141003T000000': 0.0,\n",
              " 'date.20141004T000000': 0.0,\n",
              " 'date.20141005T000000': 0.0,\n",
              " 'date.20141006T000000': 0.0,\n",
              " 'date.20141007T000000': 0.0,\n",
              " 'date.20141008T000000': 0.0,\n",
              " 'date.20141009T000000': 0.0,\n",
              " 'date.20141010T000000': 0.0,\n",
              " 'date.20141011T000000': 0.0,\n",
              " 'date.20141012T000000': 0.0,\n",
              " 'date.20141013T000000': 0.0,\n",
              " 'date.20141014T000000': 0.0,\n",
              " 'date.20141015T000000': 0.0,\n",
              " 'date.20141016T000000': 0.0,\n",
              " 'date.20141017T000000': 0.0,\n",
              " 'date.20141018T000000': 0.0,\n",
              " 'date.20141019T000000': 0.0,\n",
              " 'date.20141020T000000': 0.0,\n",
              " 'date.20141021T000000': 0.0,\n",
              " 'date.20141022T000000': 0.0,\n",
              " 'date.20141023T000000': 0.0,\n",
              " 'date.20141024T000000': 0.0,\n",
              " 'date.20141025T000000': 0.0,\n",
              " 'date.20141026T000000': 0.0,\n",
              " 'date.20141027T000000': 0.0,\n",
              " 'date.20141028T000000': 0.0,\n",
              " 'date.20141029T000000': 0.0,\n",
              " 'date.20141030T000000': 0.0,\n",
              " 'date.20141031T000000': 0.0,\n",
              " 'date.20141101T000000': 0.0,\n",
              " 'date.20141102T000000': 0.0,\n",
              " 'date.20141103T000000': 0.0,\n",
              " 'date.20141104T000000': 0.0,\n",
              " 'date.20141105T000000': 0.0,\n",
              " 'date.20141106T000000': 0.0,\n",
              " 'date.20141107T000000': 0.0,\n",
              " 'date.20141108T000000': 0.0,\n",
              " 'date.20141109T000000': 0.0,\n",
              " 'date.20141110T000000': 0.0,\n",
              " 'date.20141111T000000': 0.0,\n",
              " 'date.20141112T000000': 0.0,\n",
              " 'date.20141113T000000': 0.0,\n",
              " 'date.20141114T000000': 0.0,\n",
              " 'date.20141115T000000': 0.0,\n",
              " 'date.20141116T000000': 0.0,\n",
              " 'date.20141117T000000': 0.0,\n",
              " 'date.20141118T000000': 0.0,\n",
              " 'date.20141119T000000': 0.0,\n",
              " 'date.20141120T000000': 0.0,\n",
              " 'date.20141121T000000': 0.0,\n",
              " 'date.20141122T000000': 0.0,\n",
              " 'date.20141123T000000': 0.0,\n",
              " 'date.20141124T000000': 0.0,\n",
              " 'date.20141125T000000': 0.0,\n",
              " 'date.20141126T000000': 0.0,\n",
              " 'date.20141128T000000': 0.0,\n",
              " 'date.20141129T000000': 0.0,\n",
              " 'date.20141130T000000': 0.0,\n",
              " 'date.20141201T000000': 0.0,\n",
              " 'date.20141202T000000': 0.0,\n",
              " 'date.20141203T000000': 0.0,\n",
              " 'date.20141204T000000': 0.0,\n",
              " 'date.20141205T000000': 0.0,\n",
              " 'date.20141206T000000': 0.0,\n",
              " 'date.20141207T000000': 0.0,\n",
              " 'date.20141208T000000': 0.0,\n",
              " 'date.20141209T000000': 0.0,\n",
              " 'date.20141210T000000': 0.0,\n",
              " 'date.20141211T000000': 0.0,\n",
              " 'date.20141212T000000': 0.0,\n",
              " 'date.20141213T000000': 0.0,\n",
              " 'date.20141214T000000': 0.0,\n",
              " 'date.20141215T000000': 0.0,\n",
              " 'date.20141216T000000': 0.0,\n",
              " 'date.20141217T000000': 0.0,\n",
              " 'date.20141218T000000': 0.0,\n",
              " 'date.20141219T000000': 0.0,\n",
              " 'date.20141220T000000': 0.0,\n",
              " 'date.20141221T000000': 0.0,\n",
              " 'date.20141222T000000': 0.0,\n",
              " 'date.20141223T000000': 0.0,\n",
              " 'date.20141224T000000': 0.0,\n",
              " 'date.20141226T000000': 0.0,\n",
              " 'date.20141227T000000': 0.0,\n",
              " 'date.20141229T000000': 0.0,\n",
              " 'date.20141230T000000': 0.0,\n",
              " 'date.20141231T000000': 0.0,\n",
              " 'date.20150102T000000': 0.0,\n",
              " 'date.20150105T000000': 0.0,\n",
              " 'date.20150106T000000': 0.0,\n",
              " 'date.20150107T000000': 0.0,\n",
              " 'date.20150108T000000': 0.0,\n",
              " 'date.20150109T000000': 0.0,\n",
              " 'date.20150110T000000': 0.0,\n",
              " 'date.20150112T000000': 0.0,\n",
              " 'date.20150113T000000': 0.0,\n",
              " 'date.20150114T000000': 0.0,\n",
              " 'date.20150115T000000': 0.0,\n",
              " 'date.20150116T000000': 0.0,\n",
              " 'date.20150117T000000': 0.0,\n",
              " 'date.20150119T000000': 0.0,\n",
              " 'date.20150120T000000': 0.0,\n",
              " 'date.20150121T000000': 0.0,\n",
              " 'date.20150122T000000': 0.0,\n",
              " 'date.20150123T000000': 0.0,\n",
              " 'date.20150124T000000': 0.0,\n",
              " 'date.20150125T000000': 0.0,\n",
              " 'date.20150126T000000': 0.0,\n",
              " 'date.20150127T000000': 0.0,\n",
              " 'date.20150128T000000': 0.0,\n",
              " 'date.20150129T000000': 0.0,\n",
              " 'date.20150130T000000': 0.0,\n",
              " 'date.20150131T000000': 0.0,\n",
              " 'date.20150201T000000': 0.0,\n",
              " 'date.20150202T000000': 0.0,\n",
              " 'date.20150203T000000': 0.0,\n",
              " 'date.20150204T000000': 0.0,\n",
              " 'date.20150205T000000': 0.0,\n",
              " 'date.20150206T000000': 0.0,\n",
              " 'date.20150207T000000': 0.0,\n",
              " 'date.20150209T000000': 0.0,\n",
              " 'date.20150210T000000': 0.0,\n",
              " 'date.20150211T000000': 0.0,\n",
              " 'date.20150212T000000': 0.0,\n",
              " 'date.20150213T000000': 0.0,\n",
              " 'date.20150214T000000': 0.0,\n",
              " 'date.20150215T000000': 0.0,\n",
              " 'date.20150216T000000': 0.0,\n",
              " 'date.20150217T000000': 0.0,\n",
              " 'date.20150218T000000': 0.0,\n",
              " 'date.20150219T000000': 0.0,\n",
              " 'date.20150220T000000': 0.0,\n",
              " 'date.20150221T000000': 0.0,\n",
              " 'date.20150222T000000': 0.0,\n",
              " 'date.20150223T000000': 0.0,\n",
              " 'date.20150224T000000': 0.0,\n",
              " 'date.20150225T000000': 0.0,\n",
              " 'date.20150226T000000': 0.0,\n",
              " 'date.20150227T000000': 0.0,\n",
              " 'date.20150228T000000': 0.0,\n",
              " 'date.20150301T000000': 0.0,\n",
              " 'date.20150302T000000': 0.0,\n",
              " 'date.20150303T000000': 0.0,\n",
              " 'date.20150304T000000': 0.0,\n",
              " 'date.20150305T000000': 0.0,\n",
              " 'date.20150306T000000': 0.0,\n",
              " 'date.20150307T000000': 0.0,\n",
              " 'date.20150308T000000': 0.0,\n",
              " 'date.20150309T000000': 0.0,\n",
              " 'date.20150310T000000': 0.0,\n",
              " 'date.20150311T000000': 0.0,\n",
              " 'date.20150312T000000': 0.0,\n",
              " 'date.20150313T000000': 0.0,\n",
              " 'date.20150314T000000': 0.0,\n",
              " 'date.20150315T000000': 0.0,\n",
              " 'date.20150316T000000': 0.0,\n",
              " 'date.20150317T000000': 0.0,\n",
              " 'date.20150318T000000': 0.0,\n",
              " 'date.20150319T000000': 0.0,\n",
              " 'date.20150320T000000': 0.0,\n",
              " 'date.20150321T000000': 0.0,\n",
              " 'date.20150322T000000': 0.0,\n",
              " 'date.20150323T000000': 0.0,\n",
              " 'date.20150324T000000': 0.0,\n",
              " 'date.20150325T000000': 0.0,\n",
              " 'date.20150326T000000': 0.0,\n",
              " 'date.20150327T000000': 0.0,\n",
              " 'date.20150328T000000': 0.0,\n",
              " 'date.20150329T000000': 0.0,\n",
              " 'date.20150330T000000': 0.0,\n",
              " 'date.20150331T000000': 0.0,\n",
              " 'date.20150401T000000': 0.0,\n",
              " 'date.20150402T000000': 0.0,\n",
              " 'date.20150403T000000': 0.0,\n",
              " 'date.20150404T000000': 0.0,\n",
              " 'date.20150405T000000': 0.0,\n",
              " 'date.20150406T000000': 0.0,\n",
              " 'date.20150407T000000': 0.0,\n",
              " 'date.20150408T000000': 0.0,\n",
              " 'date.20150409T000000': 0.0,\n",
              " 'date.20150410T000000': 0.0,\n",
              " 'date.20150411T000000': 0.0,\n",
              " 'date.20150412T000000': 0.0,\n",
              " 'date.20150413T000000': 0.0,\n",
              " 'date.20150414T000000': 0.0,\n",
              " 'date.20150415T000000': 0.0,\n",
              " 'date.20150416T000000': 0.0,\n",
              " 'date.20150417T000000': 0.0,\n",
              " 'date.20150418T000000': 0.0,\n",
              " 'date.20150419T000000': 0.0,\n",
              " 'date.20150420T000000': 0.0,\n",
              " 'date.20150421T000000': 0.0,\n",
              " 'date.20150422T000000': 0.0,\n",
              " 'date.20150423T000000': 0.0,\n",
              " 'date.20150424T000000': 0.0,\n",
              " 'date.20150425T000000': 0.0,\n",
              " 'date.20150426T000000': 0.0,\n",
              " 'date.20150427T000000': 0.0,\n",
              " 'date.20150428T000000': 0.0,\n",
              " 'date.20150429T000000': 0.0,\n",
              " 'date.20150430T000000': 0.0,\n",
              " 'date.20150501T000000': 0.0,\n",
              " 'date.20150502T000000': 0.0,\n",
              " 'date.20150503T000000': 0.0,\n",
              " 'date.20150504T000000': 0.0,\n",
              " 'date.20150505T000000': 0.0,\n",
              " 'date.20150506T000000': 0.0,\n",
              " 'date.20150507T000000': 0.0,\n",
              " 'date.20150508T000000': 0.0,\n",
              " 'date.20150509T000000': 0.0,\n",
              " 'date.20150510T000000': 0.0,\n",
              " 'date.20150511T000000': 0.0,\n",
              " 'date.20150512T000000': 0.0,\n",
              " 'date.20150513T000000': 0.0,\n",
              " 'date.20150514T000000': 0.0,\n",
              " 'date.20150515T000000': 0.0,\n",
              " 'date.20150524T000000': 0.0,\n",
              " 'date.20150527T000000': 0.0,\n",
              " 'floors': 0.0,\n",
              " 'grade': 0.32067111868299775,\n",
              " 'id': 0.0,\n",
              " 'lat': 0.0,\n",
              " 'long': 0.0,\n",
              " 'sqft_above': 0.0003030517553417482,\n",
              " 'sqft_basement': 0.0,\n",
              " 'sqft_living': 0.0004921150571292313,\n",
              " 'sqft_living15': 0.00030356344913172684,\n",
              " 'sqft_lot': 0.0,\n",
              " 'sqft_lot15': 0.0,\n",
              " 'view': 0.0,\n",
              " 'waterfront': 0.0,\n",
              " 'yr_built': 0.0,\n",
              " 'yr_renovated': 0.0,\n",
              " 'zipcode': 0.0}"
            ]
          },
          "metadata": {
            "tags": []
          },
          "execution_count": 22
        }
      ]
    },
    {
      "cell_type": "markdown",
      "metadata": {
        "colab_type": "text",
        "id": "GQYdaoYqG3-m"
      },
      "source": [
        "###### Evaluate model performance\n",
        "Let's compare the performance of the two GLMs that were just trained."
      ]
    },
    {
      "cell_type": "code",
      "metadata": {
        "colab_type": "code",
        "id": "uGBABuVMG6Eg",
        "colab": {}
      },
      "source": [
        "glm_perf1 = glm_fit1.model_performance(test)\n",
        "glm_perf2 = glm_fit2.model_performance(test)"
      ],
      "execution_count": 0,
      "outputs": []
    },
    {
      "cell_type": "code",
      "metadata": {
        "colab_type": "code",
        "id": "wZ-D2ZKTG60q",
        "outputId": "7ec4af8c-ee6a-41ed-e516-89f97341384a",
        "colab": {
          "base_uri": "https://localhost:8080/",
          "height": 561
        }
      },
      "source": [
        "# Print model performance\n",
        "print(glm_perf1)\n",
        "print(glm_perf2)"
      ],
      "execution_count": 0,
      "outputs": [
        {
          "output_type": "stream",
          "text": [
            "\n",
            "ModelMetricsRegressionGLM: glm\n",
            "** Reported on test data. **\n",
            "\n",
            "MSE: 130255413052.53004\n",
            "RMSE: 360909.14792026265\n",
            "MAE: 235457.25949786027\n",
            "RMSLE: 0.549307075840044\n",
            "R^2: 0.020120832190522075\n",
            "Mean Residual Deviance: 130255413052.53004\n",
            "Null degrees of freedom: 2150\n",
            "Residual degrees of freedom: 2129\n",
            "Null deviance: 285935013037402.56\n",
            "Residual deviance: 280179393475992.12\n",
            "AIC: 61200.30694559311\n",
            "\n",
            "\n",
            "ModelMetricsRegressionGLM: glm\n",
            "** Reported on test data. **\n",
            "\n",
            "MSE: 132930520870.77966\n",
            "RMSE: 364596.38077026996\n",
            "MAE: 238322.8732018713\n",
            "RMSLE: 0.5560023866922381\n",
            "R^2: -3.340473917923248e-06\n",
            "Mean Residual Deviance: 132930520870.77966\n",
            "Null degrees of freedom: 2150\n",
            "Residual degrees of freedom: 2145\n",
            "Null deviance: 285935013037402.56\n",
            "Residual deviance: 285933550393047.06\n",
            "AIC: 61212.03538506044\n",
            "\n"
          ],
          "name": "stdout"
        }
      ]
    },
    {
      "cell_type": "markdown",
      "metadata": {
        "colab_type": "text",
        "id": "0BUW108hG_G0"
      },
      "source": [
        "##### 2. Random Forest\n",
        "H2O's Random Forest (RF) is implements a distributed version of the standard Random Forest algorithm and variable importance measures."
      ]
    },
    {
      "cell_type": "code",
      "metadata": {
        "colab_type": "code",
        "id": "2ncloBoZHAf8",
        "colab": {}
      },
      "source": [
        "# Import H2O RF:\n",
        "from h2o.estimators.random_forest import H2ORandomForestEstimator"
      ],
      "execution_count": 0,
      "outputs": []
    },
    {
      "cell_type": "markdown",
      "metadata": {
        "colab_type": "text",
        "id": "KOITM6juHDt7"
      },
      "source": [
        "###### Train a default RF\n",
        "First we will train a basic Random Forest model with default parameters. Random Forest will infer the response distribution from the response encoding. A seed is required for reproducibility."
      ]
    },
    {
      "cell_type": "code",
      "metadata": {
        "colab_type": "code",
        "id": "QLL7WYNbHFQW",
        "colab": {}
      },
      "source": [
        "# Initialize the RF estimator:\n",
        "\n",
        "rf_fit1 = H2ORandomForestEstimator(model_id='rf_fit1', seed=1)"
      ],
      "execution_count": 0,
      "outputs": []
    },
    {
      "cell_type": "code",
      "metadata": {
        "colab_type": "code",
        "id": "26rfCBXBHGyk",
        "outputId": "3a820f4d-0384-4ab9-cde0-71b4cc1ec677",
        "colab": {
          "base_uri": "https://localhost:8080/",
          "height": 34
        }
      },
      "source": [
        "rf_fit1.train(x=x, y=y, training_frame=train)"
      ],
      "execution_count": 0,
      "outputs": [
        {
          "output_type": "stream",
          "text": [
            "drf Model Build progress: |███████████████████████████████████████████████| 100%\n"
          ],
          "name": "stdout"
        }
      ]
    },
    {
      "cell_type": "code",
      "metadata": {
        "colab_type": "code",
        "id": "O0h1dUBzHIyH",
        "outputId": "c6dd4df9-81ab-463b-c5bb-9d7f1397a5e7",
        "colab": {
          "base_uri": "https://localhost:8080/",
          "height": 296
        }
      },
      "source": [
        "rf_fit1.plot()"
      ],
      "execution_count": 0,
      "outputs": [
        {
          "output_type": "display_data",
          "data": {
            "image/png": "[encoded data removed]",
            "text/plain": [
              "<Figure size 432x288 with 1 Axes>"
            ]
          },
          "metadata": {
            "tags": [],
            "needs_background": "light"
          }
        }
      ]
    },
    {
      "cell_type": "code",
      "metadata": {
        "colab_type": "code",
        "id": "cmyrWdcvHLLV",
        "outputId": "5dd238bd-dffd-4b80-a891-f5ae41069035",
        "colab": {
          "base_uri": "https://localhost:8080/",
          "height": 612
        }
      },
      "source": [
        "rf_fit1.varimp_plot()"
      ],
      "execution_count": 0,
      "outputs": [
        {
          "output_type": "display_data",
          "data": {
            "image/png": "[encoded data removed]",
            "text/plain": [
              "<Figure size 1008x720 with 1 Axes>"
            ]
          },
          "metadata": {
            "tags": [],
            "needs_background": "light"
          }
        }
      ]
    },
    {
      "cell_type": "code",
      "metadata": {
        "colab_type": "code",
        "id": "YSshygv6HN2z",
        "outputId": "13c8d1ef-0e84-4f09-e5f3-e12b1fe9e409",
        "colab": {
          "base_uri": "https://localhost:8080/",
          "height": 297
        }
      },
      "source": [
        "rf_fit1.scoring_history()"
      ],
      "execution_count": 0,
      "outputs": [
        {
          "output_type": "execute_result",
          "data": {
            "text/html": [
              "<div>\n",
              "<style scoped>\n",
              "    .dataframe tbody tr th:only-of-type {\n",
              "        vertical-align: middle;\n",
              "    }\n",
              "\n",
              "    .dataframe tbody tr th {\n",
              "        vertical-align: top;\n",
              "    }\n",
              "\n",
              "    .dataframe thead th {\n",
              "        text-align: right;\n",
              "    }\n",
              "</style>\n",
              "<table border=\"1\" class=\"dataframe\">\n",
              "  <thead>\n",
              "    <tr style=\"text-align: right;\">\n",
              "      <th></th>\n",
              "      <th></th>\n",
              "      <th>timestamp</th>\n",
              "      <th>duration</th>\n",
              "      <th>number_of_trees</th>\n",
              "      <th>training_rmse</th>\n",
              "      <th>training_mae</th>\n",
              "      <th>training_deviance</th>\n",
              "    </tr>\n",
              "  </thead>\n",
              "  <tbody>\n",
              "    <tr>\n",
              "      <th>0</th>\n",
              "      <td></td>\n",
              "      <td>2020-05-13 07:56:09</td>\n",
              "      <td>0.333 sec</td>\n",
              "      <td>0.0</td>\n",
              "      <td>NaN</td>\n",
              "      <td>NaN</td>\n",
              "      <td>NaN</td>\n",
              "    </tr>\n",
              "    <tr>\n",
              "      <th>1</th>\n",
              "      <td></td>\n",
              "      <td>2020-05-13 07:56:13</td>\n",
              "      <td>4.295 sec</td>\n",
              "      <td>1.0</td>\n",
              "      <td>210020.313432</td>\n",
              "      <td>117129.877214</td>\n",
              "      <td>4.410853e+10</td>\n",
              "    </tr>\n",
              "    <tr>\n",
              "      <th>2</th>\n",
              "      <td></td>\n",
              "      <td>2020-05-13 07:56:17</td>\n",
              "      <td>8.676 sec</td>\n",
              "      <td>4.0</td>\n",
              "      <td>215185.274799</td>\n",
              "      <td>112221.835917</td>\n",
              "      <td>4.630470e+10</td>\n",
              "    </tr>\n",
              "    <tr>\n",
              "      <th>3</th>\n",
              "      <td></td>\n",
              "      <td>2020-05-13 07:56:21</td>\n",
              "      <td>12.964 sec</td>\n",
              "      <td>11.0</td>\n",
              "      <td>190836.607434</td>\n",
              "      <td>98244.736549</td>\n",
              "      <td>3.641861e+10</td>\n",
              "    </tr>\n",
              "    <tr>\n",
              "      <th>4</th>\n",
              "      <td></td>\n",
              "      <td>2020-05-13 07:56:26</td>\n",
              "      <td>17.266 sec</td>\n",
              "      <td>21.0</td>\n",
              "      <td>175115.648388</td>\n",
              "      <td>90445.370677</td>\n",
              "      <td>3.066549e+10</td>\n",
              "    </tr>\n",
              "    <tr>\n",
              "      <th>5</th>\n",
              "      <td></td>\n",
              "      <td>2020-05-13 07:56:30</td>\n",
              "      <td>21.363 sec</td>\n",
              "      <td>30.0</td>\n",
              "      <td>169620.967580</td>\n",
              "      <td>87303.290774</td>\n",
              "      <td>2.877127e+10</td>\n",
              "    </tr>\n",
              "    <tr>\n",
              "      <th>6</th>\n",
              "      <td></td>\n",
              "      <td>2020-05-13 07:56:34</td>\n",
              "      <td>25.487 sec</td>\n",
              "      <td>40.0</td>\n",
              "      <td>167461.224673</td>\n",
              "      <td>85948.698848</td>\n",
              "      <td>2.804326e+10</td>\n",
              "    </tr>\n",
              "    <tr>\n",
              "      <th>7</th>\n",
              "      <td></td>\n",
              "      <td>2020-05-13 07:56:38</td>\n",
              "      <td>29.497 sec</td>\n",
              "      <td>50.0</td>\n",
              "      <td>165868.154600</td>\n",
              "      <td>84883.552954</td>\n",
              "      <td>2.751224e+10</td>\n",
              "    </tr>\n",
              "  </tbody>\n",
              "</table>\n",
              "</div>"
            ],
            "text/plain": [
              "               timestamp  ...   training_mae  training_deviance\n",
              "0    2020-05-13 07:56:09  ...            NaN                NaN\n",
              "1    2020-05-13 07:56:13  ...  117129.877214       4.410853e+10\n",
              "2    2020-05-13 07:56:17  ...  112221.835917       4.630470e+10\n",
              "3    2020-05-13 07:56:21  ...   98244.736549       3.641861e+10\n",
              "4    2020-05-13 07:56:26  ...   90445.370677       3.066549e+10\n",
              "5    2020-05-13 07:56:30  ...   87303.290774       2.877127e+10\n",
              "6    2020-05-13 07:56:34  ...   85948.698848       2.804326e+10\n",
              "7    2020-05-13 07:56:38  ...   84883.552954       2.751224e+10\n",
              "\n",
              "[8 rows x 7 columns]"
            ]
          },
          "metadata": {
            "tags": []
          },
          "execution_count": 30
        }
      ]
    },
    {
      "cell_type": "markdown",
      "metadata": {
        "colab_type": "text",
        "id": "Cla8-_JrHRD1"
      },
      "source": [
        "###### Train an RF with more trees\n",
        "Next we will increase the number of trees used in the forest by setting ntrees = 100. The default number of trees in an H2O Random Forest is 50, so this RF will be twice as big as the default. Usually increasing the number of trees in an RF will increase performance as well. Unlike Gradient Boosting Machines (GBMs), Random Forests are fairly resistant (although not free from) overfitting by increasing the number of trees. See the GBM example below for additional guidance on preventing overfitting using H2O's early stopping functionality."
      ]
    },
    {
      "cell_type": "code",
      "metadata": {
        "colab_type": "code",
        "id": "qcB1P3YbHTTX",
        "outputId": "89b3cec2-1075-4ab5-e1b8-80c6446cb566",
        "colab": {
          "base_uri": "https://localhost:8080/",
          "height": 34
        }
      },
      "source": [
        "rf_fit2 = H2ORandomForestEstimator(model_id='rf_fit2', ntrees=100, seed=1)\n",
        "rf_fit2.train(x=x, y=y, training_frame=train)"
      ],
      "execution_count": 0,
      "outputs": [
        {
          "output_type": "stream",
          "text": [
            "drf Model Build progress: |███████████████████████████████████████████████| 100%\n"
          ],
          "name": "stdout"
        }
      ]
    },
    {
      "cell_type": "code",
      "metadata": {
        "colab_type": "code",
        "id": "HmOpRba_HWSp",
        "outputId": "7739b388-cf28-4b08-8d37-cd288d3a35f1",
        "colab": {
          "base_uri": "https://localhost:8080/",
          "height": 296
        }
      },
      "source": [
        "rf_fit2.plot()"
      ],
      "execution_count": 0,
      "outputs": [
        {
          "output_type": "display_data",
          "data": {
            "image/png": "[encoded data removed]",
            "text/plain": [
              "<Figure size 432x288 with 1 Axes>"
            ]
          },
          "metadata": {
            "tags": [],
            "needs_background": "light"
          }
        }
      ]
    },
    {
      "cell_type": "markdown",
      "metadata": {
        "colab_type": "text",
        "id": "KeY1uHE9HlEl"
      },
      "source": [
        "###### Compare model performance\n",
        "Let's compare the performance of the two RFs that were just trained."
      ]
    },
    {
      "cell_type": "code",
      "metadata": {
        "colab_type": "code",
        "id": "0-Zk40DQHcCf",
        "colab": {}
      },
      "source": [
        "rf_perf1 = rf_fit1.model_performance(test)\n",
        "rf_perf2 = rf_fit2.model_performance(test)"
      ],
      "execution_count": 0,
      "outputs": []
    },
    {
      "cell_type": "code",
      "metadata": {
        "colab_type": "code",
        "id": "H-KXRUnoHeIF",
        "outputId": "f2af99fa-68cb-45ef-a363-738b11182431",
        "colab": {
          "base_uri": "https://localhost:8080/",
          "height": 170
        }
      },
      "source": [
        "rf_perf1"
      ],
      "execution_count": 0,
      "outputs": [
        {
          "output_type": "stream",
          "text": [
            "\n",
            "ModelMetricsRegression: drf\n",
            "** Reported on test data. **\n",
            "\n",
            "MSE: 25384031630.253162\n",
            "RMSE: 159323.6693974036\n",
            "MAE: 84098.55131573972\n",
            "RMSLE: 0.1972731684728125\n",
            "Mean Residual Deviance: 25384031630.253162\n"
          ],
          "name": "stdout"
        },
        {
          "output_type": "execute_result",
          "data": {
            "text/plain": [
              ""
            ]
          },
          "metadata": {
            "tags": []
          },
          "execution_count": 34
        }
      ]
    },
    {
      "cell_type": "code",
      "metadata": {
        "colab_type": "code",
        "id": "dYZFV7elHgkC",
        "outputId": "97653252-db51-4512-d53b-e25de3eeaa8a",
        "colab": {
          "base_uri": "https://localhost:8080/",
          "height": 170
        }
      },
      "source": [
        "rf_perf2"
      ],
      "execution_count": 0,
      "outputs": [
        {
          "output_type": "stream",
          "text": [
            "\n",
            "ModelMetricsRegression: drf\n",
            "** Reported on test data. **\n",
            "\n",
            "MSE: 25840944128.817387\n",
            "RMSE: 160751.18702148792\n",
            "MAE: 83327.57650885492\n",
            "RMSLE: 0.19650195436450593\n",
            "Mean Residual Deviance: 25840944128.817387\n"
          ],
          "name": "stdout"
        },
        {
          "output_type": "execute_result",
          "data": {
            "text/plain": [
              ""
            ]
          },
          "metadata": {
            "tags": []
          },
          "execution_count": 35
        }
      ]
    },
    {
      "cell_type": "markdown",
      "metadata": {
        "colab_type": "text",
        "id": "Mk2PozxdHp-5"
      },
      "source": [
        "###### Cross-validate performance\n",
        "Rather than using held-out test set to evaluate model performance, a user may wish to estimate model performance using cross-validation. Using the RF algorithm (with default model parameters) as an example, we demonstrate how to perform k-fold cross-validation using H2O. No custom code or loops are required, you simply specify the number of desired folds in the nfolds argument.\n",
        "Since we are not going to use a test set here, we can use the original (full) dataset, which we called data rather than the subsampled train dataset. Note that this will take approximately k (nfolds) times longer than training a single RF model, since it will train k models in the cross-validation process (trained on n(k-1)/k rows), in addition to the final model trained on the full training_frame dataset with n rows."
      ]
    },
    {
      "cell_type": "code",
      "metadata": {
        "colab_type": "code",
        "id": "17iKNDjsHr4w",
        "outputId": "e06c08f9-2cd2-456e-81f5-5945a98f78dd",
        "colab": {
          "base_uri": "https://localhost:8080/",
          "height": 34
        }
      },
      "source": [
        "rf_fit3 = H2ORandomForestEstimator(model_id='rf_fit3', seed=1, nfolds=5)\n",
        "rf_fit3.train(x=x, y=y, training_frame=data)"
      ],
      "execution_count": 0,
      "outputs": [
        {
          "output_type": "stream",
          "text": [
            "drf Model Build progress: |███████████████████████████████████████████████| 100%\n"
          ],
          "name": "stdout"
        }
      ]
    },
    {
      "cell_type": "code",
      "metadata": {
        "colab_type": "code",
        "id": "EFIPYF5sHvax",
        "outputId": "11de1461-6e5c-4004-abf0-79503b1d3211",
        "colab": {
          "base_uri": "https://localhost:8080/",
          "height": 296
        }
      },
      "source": [
        "rf_fit3.plot()"
      ],
      "execution_count": 0,
      "outputs": [
        {
          "output_type": "display_data",
          "data": {
            "image/png": "[encoded data removed]",
            "text/plain": [
              "<Figure size 432x288 with 1 Axes>"
            ]
          },
          "metadata": {
            "tags": [],
            "needs_background": "light"
          }
        }
      ]
    },
    {
      "cell_type": "code",
      "metadata": {
        "colab_type": "code",
        "id": "vwfDlzr_Hxa3",
        "colab": {}
      },
      "source": [
        "rf_perf3 = rf_fit3.model_performance(test)"
      ],
      "execution_count": 0,
      "outputs": []
    },
    {
      "cell_type": "code",
      "metadata": {
        "colab_type": "code",
        "id": "9Khzy_N5HzFG",
        "outputId": "17c030e8-0b25-40d5-b7bf-d2698a010f03",
        "colab": {
          "base_uri": "https://localhost:8080/",
          "height": 170
        }
      },
      "source": [
        "rf_perf3"
      ],
      "execution_count": 0,
      "outputs": [
        {
          "output_type": "stream",
          "text": [
            "\n",
            "ModelMetricsRegression: drf\n",
            "** Reported on test data. **\n",
            "\n",
            "MSE: 3616650007.49419\n",
            "RMSE: 60138.59000254487\n",
            "MAE: 31746.42304633019\n",
            "RMSLE: 0.07843630306636075\n",
            "Mean Residual Deviance: 3616650007.49419\n"
          ],
          "name": "stdout"
        },
        {
          "output_type": "execute_result",
          "data": {
            "text/plain": [
              ""
            ]
          },
          "metadata": {
            "tags": []
          },
          "execution_count": 39
        }
      ]
    },
    {
      "cell_type": "code",
      "metadata": {
        "colab_type": "code",
        "id": "hPCZTC0SH0tP",
        "outputId": "487a13ef-e681-42e1-b8ea-f65a2dee93d6",
        "colab": {
          "base_uri": "https://localhost:8080/",
          "height": 68
        }
      },
      "source": [
        "print(\"Best rf model1 R^2: %.4f\" % (rf_perf1.r2()))\n",
        "print(\"Best rf model2 R^2: %.4f\" % (rf_perf2.r2()))\n",
        "print(\"Best rf model3 R^2: %.4f\" % (rf_perf3.r2()))"
      ],
      "execution_count": 0,
      "outputs": [
        {
          "output_type": "stream",
          "text": [
            "Best rf model1 R^2: 0.8090\n",
            "Best rf model2 R^2: 0.8056\n",
            "Best rf model3 R^2: 0.9728\n"
          ],
          "name": "stdout"
        }
      ]
    },
    {
      "cell_type": "markdown",
      "metadata": {
        "colab_type": "text",
        "id": "aWFUEL04H7Di"
      },
      "source": [
        "##### 3. Gradient Boosting Machine\n",
        "H2O's Gradient Boosting Machine (GBM) offers a Stochastic GBM, which can increase performance quite a bit compared to the original GBM implementation."
      ]
    },
    {
      "cell_type": "code",
      "metadata": {
        "colab_type": "code",
        "id": "-ov6CFl_H8l-",
        "colab": {}
      },
      "source": [
        "# Import H2O GBM:\n",
        "from h2o.estimators.gbm import H2OGradientBoostingEstimator"
      ],
      "execution_count": 0,
      "outputs": []
    },
    {
      "cell_type": "markdown",
      "metadata": {
        "colab_type": "text",
        "id": "-YsEJ84aH9IY"
      },
      "source": [
        "###### Train a default GBM\n",
        "First we will train a basic GBM model with default parameters. GBM will infer the response distribution from the response encoding if not specified explicitly through the distribution argument. A seed is required for reproducibility."
      ]
    },
    {
      "cell_type": "code",
      "metadata": {
        "colab_type": "code",
        "id": "Q_jHIdJZIA3w",
        "outputId": "608038b6-15fc-4035-bcee-f1b468a0a247",
        "colab": {
          "base_uri": "https://localhost:8080/"
        }
      },
      "source": [
        "# Initialize and train the GBM estimator:\n",
        "\n",
        "gbm_fit1 = H2OGradientBoostingEstimator(model_id='gbm_fit1', seed=1,nfolds=3)\n",
        "gbm_fit1.train(x=x, y=y, training_frame=train)"
      ],
      "execution_count": 0,
      "outputs": [
        {
          "output_type": "stream",
          "text": [
            "gbm Model Build progress: |███████████████████████████████████████████████| 100%\n"
          ],
          "name": "stdout"
        }
      ]
    },
    {
      "cell_type": "code",
      "metadata": {
        "colab_type": "code",
        "id": "zaAURySOIEU-",
        "outputId": "9a7c5eb9-7ab0-43e8-8c62-c329ada29f9e",
        "colab": {
          "base_uri": "https://localhost:8080/",
          "height": 267
        }
      },
      "source": [
        "gbm_fit1.predict(test_data=test)"
      ],
      "execution_count": 0,
      "outputs": [
        {
          "output_type": "stream",
          "text": [
            "gbm prediction progress: |████████████████████████████████████████████████| 100%\n"
          ],
          "name": "stdout"
        },
        {
          "output_type": "display_data",
          "data": {
            "text/html": [
              "<table>\n",
              "<thead>\n",
              "<tr><th style=\"text-align: right;\">         predict</th></tr>\n",
              "</thead>\n",
              "<tbody>\n",
              "<tr><td style=\"text-align: right;\">305262          </td></tr>\n",
              "<tr><td style=\"text-align: right;\">291291          </td></tr>\n",
              "<tr><td style=\"text-align: right;\">592687          </td></tr>\n",
              "<tr><td style=\"text-align: right;\">801035          </td></tr>\n",
              "<tr><td style=\"text-align: right;\">559252          </td></tr>\n",
              "<tr><td style=\"text-align: right;\">515324          </td></tr>\n",
              "<tr><td style=\"text-align: right;\">383217          </td></tr>\n",
              "<tr><td style=\"text-align: right;\">     1.03126e+06</td></tr>\n",
              "<tr><td style=\"text-align: right;\">215522          </td></tr>\n",
              "<tr><td style=\"text-align: right;\">810178          </td></tr>\n",
              "</tbody>\n",
              "</table>"
            ]
          },
          "metadata": {
            "tags": []
          }
        },
        {
          "output_type": "execute_result",
          "data": {
            "text/plain": [
              ""
            ]
          },
          "metadata": {
            "tags": []
          },
          "execution_count": 43
        }
      ]
    },
    {
      "cell_type": "code",
      "metadata": {
        "colab_type": "code",
        "id": "ydfJgfx2IGy8",
        "outputId": "ff82cb71-ef66-4cc5-9e0d-0bd994265763",
        "colab": {
          "base_uri": "https://localhost:8080/",
          "height": 296
        }
      },
      "source": [
        "gbm_fit1.plot()"
      ],
      "execution_count": 0,
      "outputs": [
        {
          "output_type": "display_data",
          "data": {
            "image/png": "[encoded data removed]",
            "text/plain": [
              "<Figure size 432x288 with 1 Axes>"
            ]
          },
          "metadata": {
            "tags": [],
            "needs_background": "light"
          }
        }
      ]
    },
    {
      "cell_type": "code",
      "metadata": {
        "colab_type": "code",
        "id": "6_hEa0IlIIlO",
        "outputId": "bb058956-aa35-41ec-dffd-23735de12826",
        "colab": {
          "base_uri": "https://localhost:8080/",
          "height": 612
        }
      },
      "source": [
        "gbm_fit1.varimp_plot()"
      ],
      "execution_count": 0,
      "outputs": [
        {
          "output_type": "display_data",
          "data": {
            "image/png": "[encoded data removed]",
            "text/plain": [
              "<Figure size 1008x720 with 1 Axes>"
            ]
          },
          "metadata": {
            "tags": [],
            "needs_background": "light"
          }
        }
      ]
    },
    {
      "cell_type": "code",
      "metadata": {
        "colab_type": "code",
        "id": "8p6RlAQSIMEu",
        "colab": {}
      },
      "source": [
        "gbm_perf1 = gbm_fit1.model_performance(test)"
      ],
      "execution_count": 0,
      "outputs": []
    },
    {
      "cell_type": "code",
      "metadata": {
        "colab_type": "code",
        "id": "PdcZQCO3IMxZ",
        "outputId": "fc0c7353-d6ca-41cd-fb5b-fa02b94b72a7",
        "colab": {
          "base_uri": "https://localhost:8080/",
          "height": 170
        }
      },
      "source": [
        "gbm_perf1"
      ],
      "execution_count": 0,
      "outputs": [
        {
          "output_type": "stream",
          "text": [
            "\n",
            "ModelMetricsRegression: gbm\n",
            "** Reported on test data. **\n",
            "\n",
            "MSE: 27069990019.18346\n",
            "RMSE: 164529.60225802366\n",
            "MAE: 85935.11978674817\n",
            "RMSLE: 0.20146329140222027\n",
            "Mean Residual Deviance: 27069990019.18346\n"
          ],
          "name": "stdout"
        },
        {
          "output_type": "execute_result",
          "data": {
            "text/plain": [
              ""
            ]
          },
          "metadata": {
            "tags": []
          },
          "execution_count": 47
        }
      ]
    },
    {
      "cell_type": "markdown",
      "metadata": {
        "colab_type": "text",
        "id": "ek3_w3toITfp"
      },
      "source": [
        "###### Train a GBM with more trees\n",
        "Next we will increase the number of trees used in the GBM by setting ntrees=500. The default number of trees in an H2O GBM is 50, so this GBM will trained using ten times the default. Increasing the number of trees in a GBM is one way to increase performance of the model, however, you have to be careful not to overfit your model to the training data by using too many trees. To automatically find the optimal number of trees, you must use H2O's early stopping functionality. This example will not do that, however, the following example will."
      ]
    },
    {
      "cell_type": "code",
      "metadata": {
        "colab_type": "code",
        "id": "yn_g7QtfIVFt",
        "outputId": "9cb3e6a2-2cd8-4b2f-a93d-8101a6bb576c",
        "colab": {
          "base_uri": "https://localhost:8080/",
          "height": 34
        }
      },
      "source": [
        "gbm_fit2 = H2OGradientBoostingEstimator(model_id='gbm_fit2', ntrees=500, seed=1)\n",
        "gbm_fit2.train(x=x, y=y, training_frame=train)"
      ],
      "execution_count": 0,
      "outputs": [
        {
          "output_type": "stream",
          "text": [
            "gbm Model Build progress: |███████████████████████████████████████████████| 100%\n"
          ],
          "name": "stdout"
        }
      ]
    },
    {
      "cell_type": "code",
      "metadata": {
        "colab_type": "code",
        "id": "cSAb3VIcIWrT",
        "outputId": "692ff097-d41c-4773-c7c7-cac17c91e14e",
        "colab": {
          "base_uri": "https://localhost:8080/",
          "height": 296
        }
      },
      "source": [
        "gbm_fit2.plot()"
      ],
      "execution_count": 0,
      "outputs": [
        {
          "output_type": "display_data",
          "data": {
            "image/png": "[encoded data removed]",
            "text/plain": [
              "<Figure size 432x288 with 1 Axes>"
            ]
          },
          "metadata": {
            "tags": [],
            "needs_background": "light"
          }
        }
      ]
    },
    {
      "cell_type": "code",
      "metadata": {
        "colab_type": "code",
        "id": "nuquG7DIIY-N",
        "colab": {}
      },
      "source": [
        "gbm_perf2 = gbm_fit2.model_performance(test)"
      ],
      "execution_count": 0,
      "outputs": []
    },
    {
      "cell_type": "code",
      "metadata": {
        "colab_type": "code",
        "id": "h1fOZeVkIa-G",
        "outputId": "28a45d7d-498d-4251-a9e4-0910cdef4e2b",
        "colab": {
          "base_uri": "https://localhost:8080/",
          "height": 170
        }
      },
      "source": [
        "gbm_perf2"
      ],
      "execution_count": 0,
      "outputs": [
        {
          "output_type": "stream",
          "text": [
            "\n",
            "ModelMetricsRegression: gbm\n",
            "** Reported on test data. **\n",
            "\n",
            "MSE: 25165706148.0514\n",
            "RMSE: 158637.02640950945\n",
            "MAE: 84964.869738381\n",
            "RMSLE: 0.20119808209519022\n",
            "Mean Residual Deviance: 25165706148.0514\n"
          ],
          "name": "stdout"
        },
        {
          "output_type": "execute_result",
          "data": {
            "text/plain": [
              ""
            ]
          },
          "metadata": {
            "tags": []
          },
          "execution_count": 51
        }
      ]
    },
    {
      "cell_type": "code",
      "metadata": {
        "colab_type": "code",
        "id": "XtkYIxhJIc8I",
        "outputId": "dd0fc277-ce6e-4f67-fa58-80973819e585",
        "colab": {
          "base_uri": "https://localhost:8080/",
          "height": 612
        }
      },
      "source": [
        "gbm_fit2.varimp_plot()"
      ],
      "execution_count": 0,
      "outputs": [
        {
          "output_type": "display_data",
          "data": {
            "image/png": "[encoded data removed]",
            "text/plain": [
              "<Figure size 1008x720 with 1 Axes>"
            ]
          },
          "metadata": {
            "tags": [],
            "needs_background": "light"
          }
        }
      ]
    },
    {
      "cell_type": "markdown",
      "metadata": {
        "colab_type": "text",
        "id": "WEuHxlWoIgQ8"
      },
      "source": [
        "###### Train a GBM with early stopping\n",
        "We will again set ntrees = 500, however, this time we will use early stopping in order to prevent overfitting (from too many trees). All of H2O's algorithms have early stopping available, however, with the exception of Deep Learning, it is not enabled by default.\n",
        "There are several parameters that should be used to control early stopping. The three that are generic to all the algorithms are: stopping_rounds, stopping_metric and stopping_tolerance. The stopping metric is the metric by which you'd like to measure performance, and so we will choose AUC here. The score_tree_interval is a parameter specific to Random Forest and GBM. Setting score_tree_interval=5 will score the model after every five trees. The parameters we have set below specify that the model will stop training after there have been three scoring intervals where the AUC has not increased more than 0.0005. Since we have specified a validation frame, the stopping tolerance will be computed on validation AUC rather than training AUC."
      ]
    },
    {
      "cell_type": "code",
      "metadata": {
        "colab_type": "code",
        "id": "b2Mk8p74IiU-",
        "outputId": "8606d948-b0f2-4867-c512-c5e61639bff2",
        "colab": {
          "base_uri": "https://localhost:8080/",
          "height": 34
        }
      },
      "source": [
        "# Now let's use early stopping to find optimal ntrees\n",
        "\n",
        "gbm_fit3 = H2OGradientBoostingEstimator(model_id='gbm_fit3', \n",
        "                                        ntrees=500, \n",
        "                                        score_tree_interval=5,     #used for early stopping\n",
        "                                        stopping_rounds=3,         #used for early stopping\n",
        "                                        stopping_metric='RMSE',     #used for early stopping\n",
        "                                        stopping_tolerance=0.0005, #used for early stopping\n",
        "                                        seed=1)\n",
        "\n",
        "# The use of a validation_frame is recommended with using early stopping\n",
        "gbm_fit3.train(x=x, y=y, training_frame=train, validation_frame=test)"
      ],
      "execution_count": 0,
      "outputs": [
        {
          "output_type": "stream",
          "text": [
            "gbm Model Build progress: |███████████████████████████████████████████████| 100%\n"
          ],
          "name": "stdout"
        }
      ]
    },
    {
      "cell_type": "code",
      "metadata": {
        "colab_type": "code",
        "id": "8VZiei16ImFR",
        "outputId": "0f372417-991f-41ca-f317-6b41b5ca5359",
        "colab": {
          "base_uri": "https://localhost:8080/",
          "height": 296
        }
      },
      "source": [
        "gbm_fit3.plot()"
      ],
      "execution_count": 0,
      "outputs": [
        {
          "output_type": "display_data",
          "data": {
            "image/png": "[encoded data removed]",
            "text/plain": [
              "<Figure size 432x288 with 1 Axes>"
            ]
          },
          "metadata": {
            "tags": [],
            "needs_background": "light"
          }
        }
      ]
    },
    {
      "cell_type": "code",
      "metadata": {
        "colab_type": "code",
        "id": "fGZ1FDR8IoCE",
        "outputId": "52e7f2cd-cf73-40c8-aae9-fda7b4310766",
        "colab": {
          "base_uri": "https://localhost:8080/",
          "height": 612
        }
      },
      "source": [
        "gbm_fit3.varimp_plot()"
      ],
      "execution_count": 0,
      "outputs": [
        {
          "output_type": "display_data",
          "data": {
            "image/png": "[encoded data removed]",
            "text/plain": [
              "<Figure size 1008x720 with 1 Axes>"
            ]
          },
          "metadata": {
            "tags": [],
            "needs_background": "light"
          }
        }
      ]
    },
    {
      "cell_type": "markdown",
      "metadata": {
        "colab_type": "text",
        "id": "_py4CU9XIsC2"
      },
      "source": [
        "###### Compare model performance\n",
        "Let's compare the performance of the three GBMs that were just trained."
      ]
    },
    {
      "cell_type": "code",
      "metadata": {
        "colab_type": "code",
        "id": "T0YQUmLgItNe",
        "colab": {}
      },
      "source": [
        "gbm_perf1 = gbm_fit1.model_performance(test)\n",
        "gbm_perf2 = gbm_fit2.model_performance(test)\n",
        "gbm_perf3 = gbm_fit3.model_performance(test)"
      ],
      "execution_count": 0,
      "outputs": []
    },
    {
      "cell_type": "code",
      "metadata": {
        "colab_type": "code",
        "id": "UfEZpfl0IxTp",
        "outputId": "86d2b8c0-a905-4ecb-dec6-afd5315ac4b6",
        "colab": {
          "base_uri": "https://localhost:8080/",
          "height": 527
        }
      },
      "source": [
        "# Retreive test set AUC\n",
        "print(gbm_perf1)\n",
        "print(gbm_perf2)\n",
        "print(gbm_perf3)"
      ],
      "execution_count": 0,
      "outputs": [
        {
          "output_type": "stream",
          "text": [
            "\n",
            "ModelMetricsRegression: gbm\n",
            "** Reported on test data. **\n",
            "\n",
            "MSE: 27069990019.18346\n",
            "RMSE: 164529.60225802366\n",
            "MAE: 85935.11978674817\n",
            "RMSLE: 0.20146329140222027\n",
            "Mean Residual Deviance: 27069990019.18346\n",
            "\n",
            "\n",
            "ModelMetricsRegression: gbm\n",
            "** Reported on test data. **\n",
            "\n",
            "MSE: 25165706148.0514\n",
            "RMSE: 158637.02640950945\n",
            "MAE: 84964.869738381\n",
            "RMSLE: 0.20119808209519022\n",
            "Mean Residual Deviance: 25165706148.0514\n",
            "\n",
            "\n",
            "ModelMetricsRegression: gbm\n",
            "** Reported on test data. **\n",
            "\n",
            "MSE: 25208164562.376556\n",
            "RMSE: 158770.79253558116\n",
            "MAE: 83290.98032462603\n",
            "RMSLE: 0.19604735989851624\n",
            "Mean Residual Deviance: 25208164562.376556\n",
            "\n"
          ],
          "name": "stdout"
        }
      ]
    },
    {
      "cell_type": "markdown",
      "metadata": {
        "colab_type": "text",
        "id": "7vvtTtauJNdS"
      },
      "source": [
        "###### Scoring History\n",
        "To examine the scoring history, use the scoring_history method on a trained model. If score_tree_interval is not specified, it will score at various intervals, as we can see for gbm_fit2.scoring_history() below. However, regular 5-tree intervals are used for gbm_fit3.scoring_history().\n",
        "The gbm_fit2 was trained only using a training set (no validation set), so the scoring history is calculated for training set performance metrics only."
      ]
    },
    {
      "cell_type": "code",
      "metadata": {
        "colab_type": "code",
        "id": "yw6JadHgI4ss",
        "outputId": "9b0eca37-6384-4c42-be60-ae445bceaf0e",
        "colab": {
          "base_uri": "https://localhost:8080/",
          "height": 419
        }
      },
      "source": [
        "gbm_fit2.scoring_history()"
      ],
      "execution_count": 0,
      "outputs": [
        {
          "output_type": "execute_result",
          "data": {
            "text/html": [
              "<div>\n",
              "<style scoped>\n",
              "    .dataframe tbody tr th:only-of-type {\n",
              "        vertical-align: middle;\n",
              "    }\n",
              "\n",
              "    .dataframe tbody tr th {\n",
              "        vertical-align: top;\n",
              "    }\n",
              "\n",
              "    .dataframe thead th {\n",
              "        text-align: right;\n",
              "    }\n",
              "</style>\n",
              "<table border=\"1\" class=\"dataframe\">\n",
              "  <thead>\n",
              "    <tr style=\"text-align: right;\">\n",
              "      <th></th>\n",
              "      <th></th>\n",
              "      <th>timestamp</th>\n",
              "      <th>duration</th>\n",
              "      <th>number_of_trees</th>\n",
              "      <th>training_rmse</th>\n",
              "      <th>training_mae</th>\n",
              "      <th>training_deviance</th>\n",
              "    </tr>\n",
              "  </thead>\n",
              "  <tbody>\n",
              "    <tr>\n",
              "      <th>0</th>\n",
              "      <td></td>\n",
              "      <td>2020-05-13 07:59:42</td>\n",
              "      <td>0.057 sec</td>\n",
              "      <td>0.0</td>\n",
              "      <td>367396.329833</td>\n",
              "      <td>233426.255360</td>\n",
              "      <td>1.349801e+11</td>\n",
              "    </tr>\n",
              "    <tr>\n",
              "      <th>1</th>\n",
              "      <td></td>\n",
              "      <td>2020-05-13 07:59:42</td>\n",
              "      <td>0.185 sec</td>\n",
              "      <td>1.0</td>\n",
              "      <td>340717.486036</td>\n",
              "      <td>215216.397322</td>\n",
              "      <td>1.160884e+11</td>\n",
              "    </tr>\n",
              "    <tr>\n",
              "      <th>2</th>\n",
              "      <td></td>\n",
              "      <td>2020-05-13 07:59:42</td>\n",
              "      <td>0.277 sec</td>\n",
              "      <td>2.0</td>\n",
              "      <td>316059.740604</td>\n",
              "      <td>199266.747815</td>\n",
              "      <td>9.989376e+10</td>\n",
              "    </tr>\n",
              "    <tr>\n",
              "      <th>3</th>\n",
              "      <td></td>\n",
              "      <td>2020-05-13 07:59:42</td>\n",
              "      <td>0.362 sec</td>\n",
              "      <td>3.0</td>\n",
              "      <td>294101.608452</td>\n",
              "      <td>184622.538657</td>\n",
              "      <td>8.649576e+10</td>\n",
              "    </tr>\n",
              "    <tr>\n",
              "      <th>4</th>\n",
              "      <td></td>\n",
              "      <td>2020-05-13 07:59:42</td>\n",
              "      <td>0.445 sec</td>\n",
              "      <td>4.0</td>\n",
              "      <td>274093.009218</td>\n",
              "      <td>172060.156088</td>\n",
              "      <td>7.512698e+10</td>\n",
              "    </tr>\n",
              "    <tr>\n",
              "      <th>...</th>\n",
              "      <td>...</td>\n",
              "      <td>...</td>\n",
              "      <td>...</td>\n",
              "      <td>...</td>\n",
              "      <td>...</td>\n",
              "      <td>...</td>\n",
              "      <td>...</td>\n",
              "    </tr>\n",
              "    <tr>\n",
              "      <th>66</th>\n",
              "      <td></td>\n",
              "      <td>2020-05-13 07:59:54</td>\n",
              "      <td>12.131 sec</td>\n",
              "      <td>227.0</td>\n",
              "      <td>45549.756250</td>\n",
              "      <td>31910.324395</td>\n",
              "      <td>2.074780e+09</td>\n",
              "    </tr>\n",
              "    <tr>\n",
              "      <th>67</th>\n",
              "      <td></td>\n",
              "      <td>2020-05-13 07:59:58</td>\n",
              "      <td>16.145 sec</td>\n",
              "      <td>304.0</td>\n",
              "      <td>38636.646677</td>\n",
              "      <td>27142.915539</td>\n",
              "      <td>1.492790e+09</td>\n",
              "    </tr>\n",
              "    <tr>\n",
              "      <th>68</th>\n",
              "      <td></td>\n",
              "      <td>2020-05-13 08:00:02</td>\n",
              "      <td>20.167 sec</td>\n",
              "      <td>388.0</td>\n",
              "      <td>33538.926791</td>\n",
              "      <td>23480.311031</td>\n",
              "      <td>1.124860e+09</td>\n",
              "    </tr>\n",
              "    <tr>\n",
              "      <th>69</th>\n",
              "      <td></td>\n",
              "      <td>2020-05-13 08:00:06</td>\n",
              "      <td>24.241 sec</td>\n",
              "      <td>475.0</td>\n",
              "      <td>29146.182941</td>\n",
              "      <td>20280.266845</td>\n",
              "      <td>8.495000e+08</td>\n",
              "    </tr>\n",
              "    <tr>\n",
              "      <th>70</th>\n",
              "      <td></td>\n",
              "      <td>2020-05-13 08:00:07</td>\n",
              "      <td>25.393 sec</td>\n",
              "      <td>500.0</td>\n",
              "      <td>28115.988967</td>\n",
              "      <td>19507.232700</td>\n",
              "      <td>7.905088e+08</td>\n",
              "    </tr>\n",
              "  </tbody>\n",
              "</table>\n",
              "<p>71 rows × 7 columns</p>\n",
              "</div>"
            ],
            "text/plain": [
              "                 timestamp  ...   training_mae  training_deviance\n",
              "0      2020-05-13 07:59:42  ...  233426.255360       1.349801e+11\n",
              "1      2020-05-13 07:59:42  ...  215216.397322       1.160884e+11\n",
              "2      2020-05-13 07:59:42  ...  199266.747815       9.989376e+10\n",
              "3      2020-05-13 07:59:42  ...  184622.538657       8.649576e+10\n",
              "4      2020-05-13 07:59:42  ...  172060.156088       7.512698e+10\n",
              ".. ..                  ...  ...            ...                ...\n",
              "66     2020-05-13 07:59:54  ...   31910.324395       2.074780e+09\n",
              "67     2020-05-13 07:59:58  ...   27142.915539       1.492790e+09\n",
              "68     2020-05-13 08:00:02  ...   23480.311031       1.124860e+09\n",
              "69     2020-05-13 08:00:06  ...   20280.266845       8.495000e+08\n",
              "70     2020-05-13 08:00:07  ...   19507.232700       7.905088e+08\n",
              "\n",
              "[71 rows x 7 columns]"
            ]
          },
          "metadata": {
            "tags": []
          },
          "execution_count": 58
        }
      ]
    },
    {
      "cell_type": "code",
      "metadata": {
        "colab_type": "code",
        "id": "NEA31_ArI-xY",
        "outputId": "fb260c6b-47b6-4076-ddfe-9aff0bde8137",
        "colab": {
          "base_uri": "https://localhost:8080/",
          "height": 68
        }
      },
      "source": [
        "print(\"Best gbm model1 R2: %.4f\" % (gbm_fit1.r2()))\n",
        "print(\"Best gbm model2 R2: %.4f\" % (gbm_fit2.r2()))\n",
        "print(\"Best gbm model3 R2: %.4f\" % (gbm_fit3.r2()))"
      ],
      "execution_count": 0,
      "outputs": [
        {
          "output_type": "stream",
          "text": [
            "Best gbm model1 R2: 0.9466\n",
            "Best gbm model2 R2: 0.9941\n",
            "Best gbm model3 R2: 0.9776\n"
          ],
          "name": "stdout"
        }
      ]
    },
    {
      "cell_type": "markdown",
      "metadata": {
        "colab_type": "text",
        "id": "uRUOjiATJEer"
      },
      "source": [
        "##### 4. Deep Learning\n",
        "H2O's Deep Learning algorithm is a multilayer feed-forward artificial neural network. It can also be used to train an autoencoder, however, in the example below we will train a standard supervised prediction model."
      ]
    },
    {
      "cell_type": "code",
      "metadata": {
        "colab_type": "code",
        "id": "g5U9VpAGJFxY",
        "colab": {}
      },
      "source": [
        "# Import H2O DL:\n",
        "from h2o.estimators.deeplearning import H2ODeepLearningEstimator"
      ],
      "execution_count": 0,
      "outputs": []
    },
    {
      "cell_type": "markdown",
      "metadata": {
        "colab_type": "text",
        "id": "2HkCjJEuJKcl"
      },
      "source": [
        "###### Train a default DL\n",
        "First we will train a basic DL model with default parameters. DL will infer the response distribution from the response encoding if not specified explicitly through the distribution argument. H2O's DL will not be reproducbible if run on more than a single core, so in this example, the performance metrics below may vary slightly from what you see on your machine.\n",
        "In H2O's DL, early stopping is enabled by default, so below, it will use the training set and default stopping parameters to perform early stopping."
      ]
    },
    {
      "cell_type": "code",
      "metadata": {
        "colab_type": "code",
        "id": "IYyccD2PJJ0u",
        "outputId": "9660a389-2e54-432c-88c2-7fbf6316439b",
        "colab": {
          "base_uri": "https://localhost:8080/",
          "height": 34
        }
      },
      "source": [
        "# Initialize and train the DL estimator:\n",
        "\n",
        "dl_fit1 = H2ODeepLearningEstimator(model_id='dl_fit1', seed=1)\n",
        "dl_fit1.train(x=x, y=y, training_frame=train)"
      ],
      "execution_count": 0,
      "outputs": [
        {
          "output_type": "stream",
          "text": [
            "deeplearning Model Build progress: |██████████████████████████████████████| 100%\n"
          ],
          "name": "stdout"
        }
      ]
    },
    {
      "cell_type": "code",
      "metadata": {
        "colab_type": "code",
        "id": "V-l8nLd6JR0e",
        "outputId": "10d26a44-ebfa-423d-ad4f-8d145349bc3c",
        "colab": {
          "base_uri": "https://localhost:8080/",
          "height": 295
        }
      },
      "source": [
        "dl_fit1.plot()"
      ],
      "execution_count": 0,
      "outputs": [
        {
          "output_type": "display_data",
          "data": {
            "image/png": "[encoded data removed]",
            "text/plain": [
              "<Figure size 432x288 with 1 Axes>"
            ]
          },
          "metadata": {
            "tags": [],
            "needs_background": "light"
          }
        }
      ]
    },
    {
      "cell_type": "code",
      "metadata": {
        "colab_type": "code",
        "id": "BxNFAnVZJUJo",
        "outputId": "ecc19974-016b-4940-c0c8-23ec5c4d638d",
        "colab": {
          "base_uri": "https://localhost:8080/",
          "height": 612
        }
      },
      "source": [
        "dl_fit1.varimp_plot()"
      ],
      "execution_count": 0,
      "outputs": [
        {
          "output_type": "display_data",
          "data": {
            "image/png": "[encoded data removed]",
            "text/plain": [
              "<Figure size 1008x720 with 1 Axes>"
            ]
          },
          "metadata": {
            "tags": [],
            "needs_background": "light"
          }
        }
      ]
    },
    {
      "cell_type": "markdown",
      "metadata": {
        "colab_type": "text",
        "id": "Id-OWvyAJY-B"
      },
      "source": [
        "###### Train a DL with new architecture and more epochs\n",
        "Next we will increase the number of epochs used in the GBM by setting epochs=20 (the default is 10). Increasing the number of epochs in a deep neural net may increase performance of the model, however, you have to be careful not to overfit your model. To automatically find the optimal number of epochs, you must use H2O's early stopping functionality. Unlike the rest of the H2O algorithms, H2O's DL will use early by default, so we will first turn it off in the next example by setting stopping_rounds=0, for comparison."
      ]
    },
    {
      "cell_type": "code",
      "metadata": {
        "colab_type": "code",
        "id": "5RheOZZjJVuP",
        "outputId": "2b1485cc-9031-476e-d77f-baa28a7e7297",
        "colab": {
          "base_uri": "https://localhost:8080/"
        }
      },
      "source": [
        "dl_fit2 = H2ODeepLearningEstimator(model_id='dl_fit2', \n",
        "                                   epochs=20, \n",
        "                                   hidden=[10,10], \n",
        "                                   stopping_rounds=0,  #disable early stopping\n",
        "                                   seed=1)\n",
        "dl_fit2.train(x=x, y=y, training_frame=train)"
      ],
      "execution_count": 0,
      "outputs": [
        {
          "output_type": "stream",
          "text": [
            "deeplearning Model Build progress: |██████████████████████████████████████| 100%\n"
          ],
          "name": "stdout"
        }
      ]
    },
    {
      "cell_type": "code",
      "metadata": {
        "colab_type": "code",
        "id": "Bs4R1yldJdH7",
        "outputId": "ee1f5ab0-bc0e-4f67-94e7-36c3d1c5127b",
        "colab": {
          "base_uri": "https://localhost:8080/",
          "height": 295
        }
      },
      "source": [
        "dl_fit2.plot()"
      ],
      "execution_count": 0,
      "outputs": [
        {
          "output_type": "display_data",
          "data": {
            "image/png": "[encoded data removed]",
            "text/plain": [
              "<Figure size 432x288 with 1 Axes>"
            ]
          },
          "metadata": {
            "tags": [],
            "needs_background": "light"
          }
        }
      ]
    },
    {
      "cell_type": "markdown",
      "metadata": {
        "colab_type": "text",
        "id": "JH-8jFs5JgT9"
      },
      "source": [
        "###### Train a DL with early stopping\n",
        "This example will use the same model parameters as dl_fit2, however, we will turn on early stopping and specify the stopping criterion. We will also pass a validation set, as is recommended for early stopping."
      ]
    },
    {
      "cell_type": "code",
      "metadata": {
        "colab_type": "code",
        "id": "UpiuKmX_JiFW",
        "outputId": "88b252b4-6ac0-4eec-aba2-74d81102e26b",
        "colab": {
          "base_uri": "https://localhost:8080/",
          "height": 34
        }
      },
      "source": [
        "dl_fit3 = H2ODeepLearningEstimator(model_id='dl_fit3', \n",
        "                                   epochs=20, \n",
        "                                   hidden=[10,10],\n",
        "                                   score_interval=1,          #used for early stopping\n",
        "                                   stopping_rounds=3,         #used for early stopping\n",
        "                                   stopping_metric='RMSE',     #used for early stopping\n",
        "                                   stopping_tolerance=0.0005, #used for early stopping\n",
        "                                   seed=1)\n",
        "dl_fit3.train(x=x, y=y, training_frame=train, validation_frame=test)"
      ],
      "execution_count": 0,
      "outputs": [
        {
          "output_type": "stream",
          "text": [
            "deeplearning Model Build progress: |██████████████████████████████████████| 100%\n"
          ],
          "name": "stdout"
        }
      ]
    },
    {
      "cell_type": "code",
      "metadata": {
        "colab_type": "code",
        "id": "wnpKsRxWJlha",
        "outputId": "1d3fe3d2-beb7-4b3b-f42a-a6446bb7503b",
        "colab": {
          "base_uri": "https://localhost:8080/",
          "height": 295
        }
      },
      "source": [
        "dl_fit3.plot()"
      ],
      "execution_count": 0,
      "outputs": [
        {
          "output_type": "display_data",
          "data": {
            "image/png": "[encoded data removed]",
            "text/plain": [
              "<Figure size 432x288 with 1 Axes>"
            ]
          },
          "metadata": {
            "tags": [],
            "needs_background": "light"
          }
        }
      ]
    },
    {
      "cell_type": "markdown",
      "metadata": {
        "colab_type": "text",
        "id": "ZatgDudOJvQ9"
      },
      "source": [
        "###### Compare model performance\n",
        "Again, we will compare the model performance of the three models using a test set and AUC."
      ]
    },
    {
      "cell_type": "code",
      "metadata": {
        "colab_type": "code",
        "id": "uSntL-0RJnRr",
        "colab": {}
      },
      "source": [
        "dl_perf1 = dl_fit1.model_performance(test)\n",
        "dl_perf2 = dl_fit2.model_performance(test)\n",
        "dl_perf3 = dl_fit3.model_performance(test)"
      ],
      "execution_count": 0,
      "outputs": []
    },
    {
      "cell_type": "code",
      "metadata": {
        "colab_type": "code",
        "id": "hxnF2ucSJ0My",
        "outputId": "eff22245-4ddb-4865-974b-56f688d8e80d",
        "colab": {
          "base_uri": "https://localhost:8080/",
          "height": 527
        }
      },
      "source": [
        "print(dl_perf1)\n",
        "print(dl_perf2)\n",
        "print(dl_perf3)"
      ],
      "execution_count": 0,
      "outputs": [
        {
          "output_type": "stream",
          "text": [
            "\n",
            "ModelMetricsRegression: deeplearning\n",
            "** Reported on test data. **\n",
            "\n",
            "MSE: 16112680871.456476\n",
            "RMSE: 126935.73520272561\n",
            "MAE: 74072.30198589471\n",
            "RMSLE: 0.18377073724806411\n",
            "Mean Residual Deviance: 16112680871.456476\n",
            "\n",
            "\n",
            "ModelMetricsRegression: deeplearning\n",
            "** Reported on test data. **\n",
            "\n",
            "MSE: 16825178509.335608\n",
            "RMSE: 129711.90581182441\n",
            "MAE: 78752.33921058403\n",
            "RMSLE: 0.19521386167304863\n",
            "Mean Residual Deviance: 16825178509.335608\n",
            "\n",
            "\n",
            "ModelMetricsRegression: deeplearning\n",
            "** Reported on test data. **\n",
            "\n",
            "MSE: 26562060084.779476\n",
            "RMSE: 162978.7105261895\n",
            "MAE: 101174.79946721286\n",
            "RMSLE: 0.24182139593393534\n",
            "Mean Residual Deviance: 26562060084.779476\n",
            "\n"
          ],
          "name": "stdout"
        }
      ]
    },
    {
      "cell_type": "code",
      "metadata": {
        "colab_type": "code",
        "id": "obWjmE0BJ37x",
        "outputId": "ad13d731-1dfc-469a-891a-9de3b2d36316",
        "colab": {
          "base_uri": "https://localhost:8080/",
          "height": 173
        }
      },
      "source": [
        "dl_fit2.scoring_history()"
      ],
      "execution_count": 0,
      "outputs": [
        {
          "output_type": "execute_result",
          "data": {
            "text/html": [
              "<div>\n",
              "<style scoped>\n",
              "    .dataframe tbody tr th:only-of-type {\n",
              "        vertical-align: middle;\n",
              "    }\n",
              "\n",
              "    .dataframe tbody tr th {\n",
              "        vertical-align: top;\n",
              "    }\n",
              "\n",
              "    .dataframe thead th {\n",
              "        text-align: right;\n",
              "    }\n",
              "</style>\n",
              "<table border=\"1\" class=\"dataframe\">\n",
              "  <thead>\n",
              "    <tr style=\"text-align: right;\">\n",
              "      <th></th>\n",
              "      <th></th>\n",
              "      <th>timestamp</th>\n",
              "      <th>duration</th>\n",
              "      <th>training_speed</th>\n",
              "      <th>epochs</th>\n",
              "      <th>iterations</th>\n",
              "      <th>samples</th>\n",
              "      <th>training_rmse</th>\n",
              "      <th>training_deviance</th>\n",
              "      <th>training_mae</th>\n",
              "      <th>training_r2</th>\n",
              "    </tr>\n",
              "  </thead>\n",
              "  <tbody>\n",
              "    <tr>\n",
              "      <th>0</th>\n",
              "      <td></td>\n",
              "      <td>2020-05-13 08:01:41</td>\n",
              "      <td>0.000 sec</td>\n",
              "      <td>None</td>\n",
              "      <td>0.000000</td>\n",
              "      <td>0</td>\n",
              "      <td>0.0</td>\n",
              "      <td>NaN</td>\n",
              "      <td>NaN</td>\n",
              "      <td>NaN</td>\n",
              "      <td>NaN</td>\n",
              "    </tr>\n",
              "    <tr>\n",
              "      <th>1</th>\n",
              "      <td></td>\n",
              "      <td>2020-05-13 08:01:42</td>\n",
              "      <td>0.522 sec</td>\n",
              "      <td>28856 obs/sec</td>\n",
              "      <td>0.391429</td>\n",
              "      <td>1</td>\n",
              "      <td>7618.0</td>\n",
              "      <td>209262.609923</td>\n",
              "      <td>4.379084e+10</td>\n",
              "      <td>117743.406827</td>\n",
              "      <td>0.683864</td>\n",
              "    </tr>\n",
              "    <tr>\n",
              "      <th>2</th>\n",
              "      <td></td>\n",
              "      <td>2020-05-13 08:01:47</td>\n",
              "      <td>5.528 sec</td>\n",
              "      <td>57116 obs/sec</td>\n",
              "      <td>15.155226</td>\n",
              "      <td>39</td>\n",
              "      <td>294951.0</td>\n",
              "      <td>134167.417166</td>\n",
              "      <td>1.800090e+10</td>\n",
              "      <td>83264.521316</td>\n",
              "      <td>0.870047</td>\n",
              "    </tr>\n",
              "    <tr>\n",
              "      <th>3</th>\n",
              "      <td></td>\n",
              "      <td>2020-05-13 08:01:48</td>\n",
              "      <td>7.190 sec</td>\n",
              "      <td>58428 obs/sec</td>\n",
              "      <td>20.198541</td>\n",
              "      <td>52</td>\n",
              "      <td>393104.0</td>\n",
              "      <td>122473.206352</td>\n",
              "      <td>1.499969e+10</td>\n",
              "      <td>77305.233256</td>\n",
              "      <td>0.891714</td>\n",
              "    </tr>\n",
              "  </tbody>\n",
              "</table>\n",
              "</div>"
            ],
            "text/plain": [
              "               timestamp  ...   training_mae training_r2\n",
              "0    2020-05-13 08:01:41  ...            NaN         NaN\n",
              "1    2020-05-13 08:01:42  ...  117743.406827    0.683864\n",
              "2    2020-05-13 08:01:47  ...   83264.521316    0.870047\n",
              "3    2020-05-13 08:01:48  ...   77305.233256    0.891714\n",
              "\n",
              "[4 rows x 11 columns]"
            ]
          },
          "metadata": {
            "tags": []
          },
          "execution_count": 70
        }
      ]
    },
    {
      "cell_type": "code",
      "metadata": {
        "colab_type": "code",
        "id": "NAGM9vcjJ7rn",
        "outputId": "afd3ef76-64e9-4e33-8e4e-37caa7e312a1",
        "colab": {
          "base_uri": "https://localhost:8080/",
          "height": 68
        }
      },
      "source": [
        "print(\"Best deep learning model1 R2: %.4f\" % (dl_fit1.r2()))\n",
        "print(\"Best deep learning model2 R2: %.4f\" % (dl_fit2.r2()))\n",
        "print(\"Best deep learning model3 R2: %.4f\" % (dl_fit3.r2()))"
      ],
      "execution_count": 0,
      "outputs": [
        {
          "output_type": "stream",
          "text": [
            "Best deep learning model1 R2: 0.9264\n",
            "Best deep learning model2 R2: 0.8917\n",
            "Best deep learning model3 R2: 0.8297\n"
          ],
          "name": "stdout"
        }
      ]
    },
    {
      "cell_type": "markdown",
      "metadata": {
        "colab_type": "text",
        "id": "v_Hr4fMhKI7F"
      },
      "source": [
        "## AutoML\n",
        "H2O provides the ability to perform automated machine learning. The process is very simple and is oriented on the users without much knowledge and experience in machine learning. AutoML will iterate through different models and parameters trying to find the best. There are several parameters to specify, but in most cases all you need to do is to set only the maximum runtime in seconds or maximum number of models. You can think about AutoML as something similar to GridSearch but on the level of models rather than on the level of parameters.\n",
        "<br>\n",
        "\n",
        "Automated machine learning (AutoML) is the process of automating the end-to-end process of applying machine learning to real-world problems. AutoML makes machine learning available in a true sense, even to people with no major expertise in this field. H2O’s AutoML tends to automate the training and the tuning part of the models."
      ]
    },
    {
      "cell_type": "code",
      "metadata": {
        "colab_type": "code",
        "id": "GQj6AVJQKLac",
        "outputId": "51bf0ea3-b63e-4526-c926-24e61f8531c4",
        "colab": {
          "base_uri": "https://localhost:8080/"
        }
      },
      "source": [
        "from h2o.automl import H2OAutoML\n",
        "autoML = H2OAutoML(max_models = 20, max_runtime_secs=120)\n",
        "autoML.train(x=x,\n",
        "             y=y,\n",
        "             training_frame=train,\n",
        "             validation_frame=test)"
      ],
      "execution_count": 0,
      "outputs": [
        {
          "output_type": "stream",
          "text": [
            "AutoML progress: |\n",
            "08:01:58.989: User specified a validation frame with cross-validation still enabled. Please note that the models will still be validated using cross-validation only, the validation frame will be used to provide purely informative validation metrics on the trained models.\n",
            "\n",
            "████████████████████████████████████████████████████████| 100%\n"
          ],
          "name": "stdout"
        }
      ]
    },
    {
      "cell_type": "code",
      "metadata": {
        "colab_type": "code",
        "id": "54epw68AKN7E",
        "outputId": "7af0ae0e-b274-4f35-917f-3234b81f6ae9",
        "colab": {
          "base_uri": "https://localhost:8080/",
          "height": 267
        }
      },
      "source": [
        "leaderboard = autoML.leaderboard\n",
        "print(leaderboard)"
      ],
      "execution_count": 0,
      "outputs": [
        {
          "output_type": "display_data",
          "data": {
            "text/html": [
              "<table>\n",
              "<thead>\n",
              "<tr><th>model_id                                           </th><th style=\"text-align: right;\">  mean_residual_deviance</th><th style=\"text-align: right;\">  rmse</th><th style=\"text-align: right;\">        mse</th><th style=\"text-align: right;\">     mae</th><th style=\"text-align: right;\">   rmsle</th></tr>\n",
              "</thead>\n",
              "<tbody>\n",
              "<tr><td>StackedEnsemble_AllModels_AutoML_20200513_080158   </td><td style=\"text-align: right;\">             1.55108e+10</td><td style=\"text-align: right;\">124542</td><td style=\"text-align: right;\">1.55108e+10</td><td style=\"text-align: right;\"> 68121.2</td><td style=\"text-align: right;\">0.171286</td></tr>\n",
              "<tr><td>StackedEnsemble_BestOfFamily_AutoML_20200513_080158</td><td style=\"text-align: right;\">             1.64536e+10</td><td style=\"text-align: right;\">128271</td><td style=\"text-align: right;\">1.64536e+10</td><td style=\"text-align: right;\"> 69334.4</td><td style=\"text-align: right;\">0.173338</td></tr>\n",
              "<tr><td>XGBoost_grid__1_AutoML_20200513_080158_model_1     </td><td style=\"text-align: right;\">             1.70373e+10</td><td style=\"text-align: right;\">130527</td><td style=\"text-align: right;\">1.70373e+10</td><td style=\"text-align: right;\"> 69878.3</td><td style=\"text-align: right;\">0.17531 </td></tr>\n",
              "<tr><td>XGBoost_grid__1_AutoML_20200513_080158_model_2     </td><td style=\"text-align: right;\">             1.92794e+10</td><td style=\"text-align: right;\">138850</td><td style=\"text-align: right;\">1.92794e+10</td><td style=\"text-align: right;\"> 77749.1</td><td style=\"text-align: right;\">0.191965</td></tr>\n",
              "<tr><td>GBM_grid__1_AutoML_20200513_080158_model_1         </td><td style=\"text-align: right;\">             2.10383e+10</td><td style=\"text-align: right;\">145046</td><td style=\"text-align: right;\">2.10383e+10</td><td style=\"text-align: right;\"> 81380.8</td><td style=\"text-align: right;\">0.197813</td></tr>\n",
              "<tr><td>XGBoost_3_AutoML_20200513_080158                   </td><td style=\"text-align: right;\">             2.56517e+10</td><td style=\"text-align: right;\">160161</td><td style=\"text-align: right;\">2.56517e+10</td><td style=\"text-align: right;\"> 89100.5</td><td style=\"text-align: right;\">0.21313 </td></tr>\n",
              "<tr><td>DeepLearning_grid__1_AutoML_20200513_080158_model_1</td><td style=\"text-align: right;\">             3.60829e+10</td><td style=\"text-align: right;\">189955</td><td style=\"text-align: right;\">3.60829e+10</td><td style=\"text-align: right;\">113963  </td><td style=\"text-align: right;\">0.264112</td></tr>\n",
              "<tr><td>DeepLearning_1_AutoML_20200513_080158              </td><td style=\"text-align: right;\">             3.70764e+10</td><td style=\"text-align: right;\">192552</td><td style=\"text-align: right;\">3.70764e+10</td><td style=\"text-align: right;\">114017  </td><td style=\"text-align: right;\">0.266124</td></tr>\n",
              "<tr><td>XGBoost_2_AutoML_20200513_080158                   </td><td style=\"text-align: right;\">             3.75551e+10</td><td style=\"text-align: right;\">193791</td><td style=\"text-align: right;\">3.75551e+10</td><td style=\"text-align: right;\">115962  </td><td style=\"text-align: right;\">0.269675</td></tr>\n",
              "<tr><td>XRT_1_AutoML_20200513_080158                       </td><td style=\"text-align: right;\">             5.32099e+10</td><td style=\"text-align: right;\">230673</td><td style=\"text-align: right;\">5.32099e+10</td><td style=\"text-align: right;\">115956  </td><td style=\"text-align: right;\">0.275389</td></tr>\n",
              "</tbody>\n",
              "</table>"
            ]
          },
          "metadata": {
            "tags": []
          }
        },
        {
          "output_type": "stream",
          "text": [
            "\n"
          ],
          "name": "stdout"
        }
      ]
    },
    {
      "cell_type": "code",
      "metadata": {
        "colab_type": "code",
        "id": "TYMjbvi3KRO3",
        "outputId": "d2ba5ac1-1c91-41a9-a152-bf30685a35f4",
        "colab": {
          "base_uri": "https://localhost:8080/",
          "height": 439
        }
      },
      "source": [
        "leaderboard.head(rows=leaderboard.nrows)  # Print all rows instead of default (10 rows)"
      ],
      "execution_count": 0,
      "outputs": [
        {
          "output_type": "display_data",
          "data": {
            "text/html": [
              "<table>\n",
              "<thead>\n",
              "<tr><th>model_id                                           </th><th style=\"text-align: right;\">  mean_residual_deviance</th><th style=\"text-align: right;\">  rmse</th><th style=\"text-align: right;\">        mse</th><th style=\"text-align: right;\">     mae</th><th style=\"text-align: right;\">   rmsle</th></tr>\n",
              "</thead>\n",
              "<tbody>\n",
              "<tr><td>StackedEnsemble_AllModels_AutoML_20200513_080158   </td><td style=\"text-align: right;\">             1.55108e+10</td><td style=\"text-align: right;\">124542</td><td style=\"text-align: right;\">1.55108e+10</td><td style=\"text-align: right;\"> 68121.2</td><td style=\"text-align: right;\">0.171286</td></tr>\n",
              "<tr><td>StackedEnsemble_BestOfFamily_AutoML_20200513_080158</td><td style=\"text-align: right;\">             1.64536e+10</td><td style=\"text-align: right;\">128271</td><td style=\"text-align: right;\">1.64536e+10</td><td style=\"text-align: right;\"> 69334.4</td><td style=\"text-align: right;\">0.173338</td></tr>\n",
              "<tr><td>XGBoost_grid__1_AutoML_20200513_080158_model_1     </td><td style=\"text-align: right;\">             1.70373e+10</td><td style=\"text-align: right;\">130527</td><td style=\"text-align: right;\">1.70373e+10</td><td style=\"text-align: right;\"> 69878.3</td><td style=\"text-align: right;\">0.17531 </td></tr>\n",
              "<tr><td>XGBoost_grid__1_AutoML_20200513_080158_model_2     </td><td style=\"text-align: right;\">             1.92794e+10</td><td style=\"text-align: right;\">138850</td><td style=\"text-align: right;\">1.92794e+10</td><td style=\"text-align: right;\"> 77749.1</td><td style=\"text-align: right;\">0.191965</td></tr>\n",
              "<tr><td>GBM_grid__1_AutoML_20200513_080158_model_1         </td><td style=\"text-align: right;\">             2.10383e+10</td><td style=\"text-align: right;\">145046</td><td style=\"text-align: right;\">2.10383e+10</td><td style=\"text-align: right;\"> 81380.8</td><td style=\"text-align: right;\">0.197813</td></tr>\n",
              "<tr><td>XGBoost_3_AutoML_20200513_080158                   </td><td style=\"text-align: right;\">             2.56517e+10</td><td style=\"text-align: right;\">160161</td><td style=\"text-align: right;\">2.56517e+10</td><td style=\"text-align: right;\"> 89100.5</td><td style=\"text-align: right;\">0.21313 </td></tr>\n",
              "<tr><td>DeepLearning_grid__1_AutoML_20200513_080158_model_1</td><td style=\"text-align: right;\">             3.60829e+10</td><td style=\"text-align: right;\">189955</td><td style=\"text-align: right;\">3.60829e+10</td><td style=\"text-align: right;\">113963  </td><td style=\"text-align: right;\">0.264112</td></tr>\n",
              "<tr><td>DeepLearning_1_AutoML_20200513_080158              </td><td style=\"text-align: right;\">             3.70764e+10</td><td style=\"text-align: right;\">192552</td><td style=\"text-align: right;\">3.70764e+10</td><td style=\"text-align: right;\">114017  </td><td style=\"text-align: right;\">0.266124</td></tr>\n",
              "<tr><td>XGBoost_2_AutoML_20200513_080158                   </td><td style=\"text-align: right;\">             3.75551e+10</td><td style=\"text-align: right;\">193791</td><td style=\"text-align: right;\">3.75551e+10</td><td style=\"text-align: right;\">115962  </td><td style=\"text-align: right;\">0.269675</td></tr>\n",
              "<tr><td>XRT_1_AutoML_20200513_080158                       </td><td style=\"text-align: right;\">             5.32099e+10</td><td style=\"text-align: right;\">230673</td><td style=\"text-align: right;\">5.32099e+10</td><td style=\"text-align: right;\">115956  </td><td style=\"text-align: right;\">0.275389</td></tr>\n",
              "<tr><td>DRF_1_AutoML_20200513_080158                       </td><td style=\"text-align: right;\">             5.93208e+10</td><td style=\"text-align: right;\">243559</td><td style=\"text-align: right;\">5.93208e+10</td><td style=\"text-align: right;\">128004  </td><td style=\"text-align: right;\">0.307919</td></tr>\n",
              "<tr><td>GBM_2_AutoML_20200513_080158                       </td><td style=\"text-align: right;\">             6.52476e+10</td><td style=\"text-align: right;\">255436</td><td style=\"text-align: right;\">6.52476e+10</td><td style=\"text-align: right;\">148703  </td><td style=\"text-align: right;\">0.362309</td></tr>\n",
              "<tr><td>GBM_3_AutoML_20200513_080158                       </td><td style=\"text-align: right;\">             7.08817e+10</td><td style=\"text-align: right;\">266236</td><td style=\"text-align: right;\">7.08817e+10</td><td style=\"text-align: right;\">156510  </td><td style=\"text-align: right;\">0.379918</td></tr>\n",
              "<tr><td>GBM_1_AutoML_20200513_080158                       </td><td style=\"text-align: right;\">             7.35355e+10</td><td style=\"text-align: right;\">271174</td><td style=\"text-align: right;\">7.35355e+10</td><td style=\"text-align: right;\">160382  </td><td style=\"text-align: right;\">0.388326</td></tr>\n",
              "<tr><td>GBM_5_AutoML_20200513_080158                       </td><td style=\"text-align: right;\">             7.91578e+10</td><td style=\"text-align: right;\">281350</td><td style=\"text-align: right;\">7.91578e+10</td><td style=\"text-align: right;\">164314  </td><td style=\"text-align: right;\">0.396178</td></tr>\n",
              "<tr><td>GBM_4_AutoML_20200513_080158                       </td><td style=\"text-align: right;\">             7.98136e+10</td><td style=\"text-align: right;\">282513</td><td style=\"text-align: right;\">7.98136e+10</td><td style=\"text-align: right;\">164704  </td><td style=\"text-align: right;\">0.397493</td></tr>\n",
              "<tr><td>GBM_grid__1_AutoML_20200513_080158_model_2         </td><td style=\"text-align: right;\">             1.10112e+11</td><td style=\"text-align: right;\">331832</td><td style=\"text-align: right;\">1.10112e+11</td><td style=\"text-align: right;\">208543  </td><td style=\"text-align: right;\">0.491301</td></tr>\n",
              "<tr><td>GLM_1_AutoML_20200513_080158                       </td><td style=\"text-align: right;\">             1.34995e+11</td><td style=\"text-align: right;\">367417</td><td style=\"text-align: right;\">1.34995e+11</td><td style=\"text-align: right;\">233459  </td><td style=\"text-align: right;\">0.547183</td></tr>\n",
              "<tr><td>XGBoost_1_AutoML_20200513_080158                   </td><td style=\"text-align: right;\">             1.51991e+11</td><td style=\"text-align: right;\">389861</td><td style=\"text-align: right;\">1.51991e+11</td><td style=\"text-align: right;\">280068  </td><td style=\"text-align: right;\">0.891909</td></tr>\n",
              "</tbody>\n",
              "</table>"
            ]
          },
          "metadata": {
            "tags": []
          }
        },
        {
          "output_type": "execute_result",
          "data": {
            "text/plain": [
              ""
            ]
          },
          "metadata": {
            "tags": []
          },
          "execution_count": 74
        }
      ]
    },
    {
      "cell_type": "code",
      "metadata": {
        "colab_type": "code",
        "id": "U9tmpeIgKTnD",
        "colab": {}
      },
      "source": [
        "# Get model ids for all models in the AutoML Leaderboard\n",
        "model_ids = list(autoML.leaderboard['model_id'].as_data_frame().iloc[:,0])\n",
        "# Get the \"All Models\" Stacked Ensemble model\n",
        "se = h2o.get_model([mid for mid in model_ids if \"StackedEnsemble_AllModels\" in mid][0])\n",
        "# Get the Stacked Ensemble metalearner model\n",
        "metalearner = h2o.get_model(se.metalearner()['name'])"
      ],
      "execution_count": 0,
      "outputs": []
    },
    {
      "cell_type": "code",
      "metadata": {
        "colab_type": "code",
        "id": "fSIiTMvnKU0w",
        "outputId": "adbbc592-4bcf-4d43-ecf4-4b0fbf672f3d",
        "colab": {
          "base_uri": "https://localhost:8080/",
          "height": 612
        }
      },
      "source": [
        "%matplotlib inline\n",
        "metalearner.std_coef_plot()"
      ],
      "execution_count": 0,
      "outputs": [
        {
          "output_type": "display_data",
          "data": {
            "image/png": "[encoded data removed]",
            "text/plain": [
              "<Figure size 1008x720 with 1 Axes>"
            ]
          },
          "metadata": {
            "tags": [],
            "needs_background": "light"
          }
        }
      ]
    },
    {
      "cell_type": "code",
      "metadata": {
        "colab_type": "code",
        "id": "QAa9Hyt6KYoi",
        "outputId": "3d2818cb-53a2-4baa-b626-5d1c930e2dd5",
        "colab": {
          "base_uri": "https://localhost:8080/",
          "height": 884
        }
      },
      "source": [
        "autoML.leader"
      ],
      "execution_count": 0,
      "outputs": [
        {
          "output_type": "stream",
          "text": [
            "Model Details\n",
            "=============\n",
            "H2OStackedEnsembleEstimator :  Stacked Ensemble\n",
            "Model Key:  StackedEnsemble_AllModels_AutoML_20200513_080158\n",
            "\n",
            "No model summary for this model\n",
            "\n",
            "ModelMetricsRegressionGLM: stackedensemble\n",
            "** Reported on train data. **\n",
            "\n",
            "MSE: 5041375063.243507\n",
            "RMSE: 71002.64124131938\n",
            "MAE: 44710.81928733254\n",
            "RMSLE: 0.1203998851412469\n",
            "R^2: 0.96265096530064\n",
            "Mean Residual Deviance: 5041375063.243507\n",
            "Null degrees of freedom: 19461\n",
            "Residual degrees of freedom: 19457\n",
            "Null deviance: 2626981989511147.5\n",
            "Residual deviance: 98115241480845.14\n",
            "AIC: 490042.22944803536\n",
            "\n",
            "ModelMetricsRegressionGLM: stackedensemble\n",
            "** Reported on validation data. **\n",
            "\n",
            "MSE: 15937566178.425678\n",
            "RMSE: 126244.07383487622\n",
            "MAE: 68149.56644252436\n",
            "RMSLE: 0.1688035694668138\n",
            "R^2: 0.8801056423081153\n",
            "Mean Residual Deviance: 15937566178.425678\n",
            "Null degrees of freedom: 2150\n",
            "Residual degrees of freedom: 2146\n",
            "Null deviance: 285935013037402.56\n",
            "Residual deviance: 34281704849793.633\n",
            "AIC: 56647.44686094945\n",
            "\n",
            "ModelMetricsRegressionGLM: stackedensemble\n",
            "** Reported on cross-validation data. **\n",
            "\n",
            "MSE: 15510801072.248045\n",
            "RMSE: 124542.36657558763\n",
            "MAE: 68121.22163875801\n",
            "RMSLE: 0.17128613279352498\n",
            "R^2: 0.8850882070477125\n",
            "Mean Residual Deviance: 15510801072.248045\n",
            "Null degrees of freedom: 19461\n",
            "Residual degrees of freedom: 19457\n",
            "Null deviance: 2627343607749673.5\n",
            "Residual deviance: 301871210468091.44\n",
            "AIC: 511914.7489733364\n"
          ],
          "name": "stdout"
        },
        {
          "output_type": "execute_result",
          "data": {
            "text/plain": [
              ""
            ]
          },
          "metadata": {
            "tags": []
          },
          "execution_count": 77
        }
      ]
    },
    {
      "cell_type": "code",
      "metadata": {
        "colab_type": "code",
        "id": "8dsiGRZKKbo6",
        "colab": {}
      },
      "source": [
        "# Get third model\n",
        "m = h2o.get_model(leaderboard[2,\"model_id\"])"
      ],
      "execution_count": 0,
      "outputs": []
    },
    {
      "cell_type": "code",
      "metadata": {
        "colab_type": "code",
        "id": "4WzjL8h6KefA",
        "outputId": "3e03adde-2683-4134-f5da-ecc6dcf8533e",
        "colab": {
          "base_uri": "https://localhost:8080/",
          "height": 296
        }
      },
      "source": [
        "#autoML.leader.plot()\n",
        "m.plot()"
      ],
      "execution_count": 0,
      "outputs": [
        {
          "output_type": "display_data",
          "data": {
            "image/png": "[encoded data removed]",
            "text/plain": [
              "<Figure size 432x288 with 1 Axes>"
            ]
          },
          "metadata": {
            "tags": [],
            "needs_background": "light"
          }
        }
      ]
    },
    {
      "cell_type": "code",
      "metadata": {
        "colab_type": "code",
        "id": "AsSVG_SKKgF2",
        "outputId": "ed51cc5c-8279-4e96-f1ae-92facb22fa0b",
        "colab": {
          "base_uri": "https://localhost:8080/",
          "height": 612
        }
      },
      "source": [
        "#autoML.leader.varimp_plot()\n",
        "m.varimp_plot()"
      ],
      "execution_count": 0,
      "outputs": [
        {
          "output_type": "display_data",
          "data": {
            "image/png": "[encoded data removed]",
            "text/plain": [
              "<Figure size 1008x720 with 1 Axes>"
            ]
          },
          "metadata": {
            "tags": [],
            "needs_background": "light"
          }
        }
      ]
    },
    {
      "cell_type": "code",
      "metadata": {
        "colab_type": "code",
        "id": "26tzOtdbKlr2",
        "outputId": "c1305773-4b33-43ac-f6b0-2dbcebd9963d",
        "colab": {
          "base_uri": "https://localhost:8080/",
          "height": 170
        }
      },
      "source": [
        "perf = m.model_performance(test)\n",
        "perf"
      ],
      "execution_count": 0,
      "outputs": [
        {
          "output_type": "stream",
          "text": [
            "\n",
            "ModelMetricsRegression: xgboost\n",
            "** Reported on test data. **\n",
            "\n",
            "MSE: 16096177402.123222\n",
            "RMSE: 126870.71136445647\n",
            "MAE: 70265.26739016737\n",
            "RMSLE: 0.17352841940593852\n",
            "Mean Residual Deviance: 16096177402.123222\n"
          ],
          "name": "stdout"
        },
        {
          "output_type": "execute_result",
          "data": {
            "text/plain": [
              ""
            ]
          },
          "metadata": {
            "tags": []
          },
          "execution_count": 81
        }
      ]
    },
    {
      "cell_type": "code",
      "metadata": {
        "colab_type": "code",
        "id": "4rrtuK0oKnMh",
        "outputId": "4358fc94-4b04-4256-c648-b4daa2fd4a2f",
        "colab": {
          "base_uri": "https://localhost:8080/",
          "height": 34
        }
      },
      "source": [
        "print(\"autoML R2: %.4f\" % (m.r2()))"
      ],
      "execution_count": 0,
      "outputs": [
        {
          "output_type": "stream",
          "text": [
            "autoML R2: 0.9526\n"
          ],
          "name": "stdout"
        }
      ]
    },
    {
      "cell_type": "markdown",
      "metadata": {
        "colab_type": "text",
        "id": "FEqfqk7G-Cq7"
      },
      "source": [
        "Step three is to train a stacked ensemble of the models you made in step two."
      ]
    },
    {
      "cell_type": "code",
      "metadata": {
        "colab_type": "code",
        "id": "v2c9KhWZLFsv",
        "colab": {}
      },
      "source": [
        "from h2o.estimators.stackedensemble import H2OStackedEnsembleEstimator"
      ],
      "execution_count": 0,
      "outputs": []
    },
    {
      "cell_type": "code",
      "metadata": {
        "colab_type": "code",
        "id": "nQa2FmxW8Npp",
        "colab": {}
      },
      "source": [
        "nfolds = 5"
      ],
      "execution_count": 0,
      "outputs": []
    },
    {
      "cell_type": "code",
      "metadata": {
        "colab_type": "code",
        "id": "bkFve3ZILOmn",
        "outputId": "9ac7af94-381f-4004-8c44-331b68f72e02",
        "colab": {
          "base_uri": "https://localhost:8080/",
          "height": 34
        }
      },
      "source": [
        "m_GLM = H2OGeneralizedLinearEstimator(\n",
        "    model_id = \"glm_def\",\n",
        "    nfolds = nfolds,\n",
        "    fold_assignment = \"Modulo\",\n",
        "    keep_cross_validation_predictions = True\n",
        ")\n",
        "m_GLM.train(x=x, y=y, training_frame=train)"
      ],
      "execution_count": 0,
      "outputs": [
        {
          "output_type": "stream",
          "text": [
            "glm Model Build progress: |███████████████████████████████████████████████| 100%\n"
          ],
          "name": "stdout"
        }
      ]
    },
    {
      "cell_type": "code",
      "metadata": {
        "colab_type": "code",
        "id": "otzRKrU6LQam",
        "outputId": "bc901fc6-91a8-4c26-e1fd-cc08f8182fd7",
        "colab": {
          "base_uri": "https://localhost:8080/",
          "height": 34
        }
      },
      "source": [
        "m_GBM = H2OGradientBoostingEstimator(\n",
        "    model_id = \"gbm_def\",\n",
        "    ntrees=500, \n",
        "    seed=1,\n",
        "    nfolds = nfolds,\n",
        "    fold_assignment = \"Modulo\",\n",
        "    keep_cross_validation_predictions = True\n",
        ")\n",
        "m_GBM.train(x=x, y=y, training_frame=train)"
      ],
      "execution_count": 0,
      "outputs": [
        {
          "output_type": "stream",
          "text": [
            "gbm Model Build progress: |███████████████████████████████████████████████| 100%\n"
          ],
          "name": "stdout"
        }
      ]
    },
    {
      "cell_type": "code",
      "metadata": {
        "colab_type": "code",
        "id": "BfLPBTDwLSTH",
        "outputId": "1ddbdcda-1c1c-4b5b-89ea-f5e5af64010d",
        "colab": {
          "base_uri": "https://localhost:8080/",
          "height": 34
        }
      },
      "source": [
        "m_RF = H2ORandomForestEstimator(\n",
        "    model_id = \"rf_def\",\n",
        "    nfolds = nfolds,\n",
        "    seed=1,\n",
        "    fold_assignment = \"Modulo\",\n",
        "    keep_cross_validation_predictions = True\n",
        ")\n",
        "m_RF.train(x=x, y=y, training_frame=train)"
      ],
      "execution_count": 0,
      "outputs": [
        {
          "output_type": "stream",
          "text": [
            "drf Model Build progress: |███████████████████████████████████████████████| 100%\n"
          ],
          "name": "stdout"
        }
      ]
    },
    {
      "cell_type": "code",
      "metadata": {
        "colab_type": "code",
        "id": "zkF_BEZSLUb1",
        "outputId": "6d31342e-f7b8-417d-80cd-54952e5d0c60",
        "colab": {
          "base_uri": "https://localhost:8080/",
          "height": 34
        }
      },
      "source": [
        "m_DF = H2ODeepLearningEstimator(\n",
        "    model_id = \"rf_def\",\n",
        "    nfolds = nfolds,\n",
        "    seed=1,\n",
        "    fold_assignment = \"Modulo\",\n",
        "    keep_cross_validation_predictions = True\n",
        ")\n",
        "m_DF.train(x=x, y=y, training_frame=train)"
      ],
      "execution_count": 0,
      "outputs": [
        {
          "output_type": "stream",
          "text": [
            "deeplearning Model Build progress: |██████████████████████████████████████| 100%\n"
          ],
          "name": "stdout"
        }
      ]
    },
    {
      "cell_type": "code",
      "metadata": {
        "colab_type": "code",
        "id": "gTgiyIDiLWBX",
        "colab": {}
      },
      "source": [
        "models = [m_GLM.model_id, m_GBM.model_id, m_RF.model_id, m_DF.model_id]"
      ],
      "execution_count": 0,
      "outputs": []
    },
    {
      "cell_type": "code",
      "metadata": {
        "colab_type": "code",
        "id": "UTTDbuSQLd6U",
        "outputId": "f010539f-06fe-4f40-facc-3f9b31979c81",
        "colab": {
          "base_uri": "https://localhost:8080/",
          "height": 34
        }
      },
      "source": [
        "m_SE = H2OStackedEnsembleEstimator(model_id=\"SE_glm_gbm_rf_df\",\n",
        "                                   base_models=models)\n",
        "m_SE.train(x,y,train)"
      ],
      "execution_count": 0,
      "outputs": [
        {
          "output_type": "stream",
          "text": [
            "stackedensemble Model Build progress: |███████████████████████████████████| 100%\n"
          ],
          "name": "stdout"
        }
      ]
    },
    {
      "cell_type": "markdown",
      "metadata": {
        "colab_type": "text",
        "id": "SojuorpyATES"
      },
      "source": [
        "Repeat steps two and three until your best model (which is usually your ensemble model, but does not have to be) has the minimum required performance on the validation data. Note: only one model has to achieve the minimum required performance. If multiple models achieve it, choose the best performing one to deliver."
      ]
    },
    {
      "cell_type": "markdown",
      "metadata": {
        "colab_type": "text",
        "id": "ppwNyswTLwkZ"
      },
      "source": [
        "Analyzing the performance"
      ]
    },
    {
      "cell_type": "code",
      "metadata": {
        "colab_type": "code",
        "id": "E3AS5LfULvDO",
        "colab": {}
      },
      "source": [
        "all_models = [m_GLM, m_GBM, m_RF, m_DF, m_SE]"
      ],
      "execution_count": 0,
      "outputs": []
    },
    {
      "cell_type": "code",
      "metadata": {
        "colab_type": "code",
        "id": "uKs5hX_UL3Z1",
        "colab": {}
      },
      "source": [
        "names = [\"GLM\",\"GBM\",\"RF\",\"DF\",\"SE\"]"
      ],
      "execution_count": 0,
      "outputs": []
    },
    {
      "cell_type": "code",
      "metadata": {
        "colab_type": "code",
        "id": "jBl2I9yeL9I9",
        "outputId": "ff5831c2-47d1-47b6-e447-4abeee1d548c",
        "colab": {
          "base_uri": "https://localhost:8080/",
          "height": 119
        }
      },
      "source": [
        "import pandas as pd\n",
        "pd.Series(map(lambda x: x.rmse(),all_models),names)"
      ],
      "execution_count": 0,
      "outputs": [
        {
          "output_type": "execute_result",
          "data": {
            "text/plain": [
              "GLM    363857.407298\n",
              "GBM     28115.988967\n",
              "RF     165868.154600\n",
              "DF      98347.535974\n",
              "SE      86899.450859\n",
              "dtype: float64"
            ]
          },
          "metadata": {
            "tags": []
          },
          "execution_count": 28
        }
      ]
    },
    {
      "cell_type": "markdown",
      "metadata": {
        "colab_type": "text",
        "id": "149jr3O1_r22"
      },
      "source": [
        "My target is an RMSE below $123,000. My model has to achieve the minimum required performance. As you saw above, GBM, DF, SE achieved the minimum required performance. GBM is my best model among five models."
      ]
    },
    {
      "cell_type": "markdown",
      "metadata": {
        "colab_type": "text",
        "id": "VZ2AGPVGAaPG"
      },
      "source": [
        "Step four is to get the performance on the test data of your chosen model/ensemble, and confirm that this also reaches the minimum target on the test data. Record your model performance in comments at the end of your script."
      ]
    },
    {
      "cell_type": "code",
      "metadata": {
        "colab_type": "code",
        "id": "BDzG5ZT7AgG1",
        "outputId": "70bedb6b-27e4-4f4f-9c19-16b7958f30bf",
        "colab": {
          "base_uri": "https://localhost:8080/",
          "height": 272
        }
      },
      "source": [
        "perf1 = m_GLM.model_performance(test)\n",
        "perf1"
      ],
      "execution_count": 0,
      "outputs": [
        {
          "output_type": "stream",
          "text": [
            "\n",
            "ModelMetricsRegressionGLM: glm\n",
            "** Reported on test data. **\n",
            "\n",
            "MSE: 130255413052.53003\n",
            "RMSE: 360909.14792026265\n",
            "MAE: 235457.25949786027\n",
            "RMSLE: 0.549307075840044\n",
            "R^2: 0.020120832190522187\n",
            "Mean Residual Deviance: 130255413052.53003\n",
            "Null degrees of freedom: 2150\n",
            "Residual degrees of freedom: 2129\n",
            "Null deviance: 285935013037402.7\n",
            "Residual deviance: 280179393475992.1\n",
            "AIC: 61200.30694559311\n"
          ],
          "name": "stdout"
        },
        {
          "output_type": "execute_result",
          "data": {
            "text/plain": [
              ""
            ]
          },
          "metadata": {
            "tags": []
          },
          "execution_count": 29
        }
      ]
    },
    {
      "cell_type": "code",
      "metadata": {
        "colab_type": "code",
        "id": "GA9US0UQAqtf",
        "outputId": "7e52e041-b9ee-4090-9804-295375267131",
        "colab": {
          "base_uri": "https://localhost:8080/",
          "height": 170
        }
      },
      "source": [
        "perf2 = m_GBM.model_performance(test)\n",
        "perf2"
      ],
      "execution_count": 0,
      "outputs": [
        {
          "output_type": "stream",
          "text": [
            "\n",
            "ModelMetricsRegression: gbm\n",
            "** Reported on test data. **\n",
            "\n",
            "MSE: 25165706148.0514\n",
            "RMSE: 158637.02640950945\n",
            "MAE: 84964.869738381\n",
            "RMSLE: 0.20119808209519022\n",
            "Mean Residual Deviance: 25165706148.0514\n"
          ],
          "name": "stdout"
        },
        {
          "output_type": "execute_result",
          "data": {
            "text/plain": [
              ""
            ]
          },
          "metadata": {
            "tags": []
          },
          "execution_count": 30
        }
      ]
    },
    {
      "cell_type": "code",
      "metadata": {
        "colab_type": "code",
        "id": "NYBBdLEDAwdp",
        "outputId": "a4008e14-08dd-4531-fddd-d8ca9dd146df",
        "colab": {
          "base_uri": "https://localhost:8080/",
          "height": 170
        }
      },
      "source": [
        "perf3 = m_RF.model_performance(test)\n",
        "perf3"
      ],
      "execution_count": 0,
      "outputs": [
        {
          "output_type": "stream",
          "text": [
            "\n",
            "ModelMetricsRegression: drf\n",
            "** Reported on test data. **\n",
            "\n",
            "MSE: 14443735449.048698\n",
            "RMSE: 120182.0928801321\n",
            "MAE: 72158.82319571653\n",
            "RMSLE: 0.18196642337044483\n",
            "Mean Residual Deviance: 14443735449.048698\n"
          ],
          "name": "stdout"
        },
        {
          "output_type": "execute_result",
          "data": {
            "text/plain": [
              ""
            ]
          },
          "metadata": {
            "tags": []
          },
          "execution_count": 31
        }
      ]
    },
    {
      "cell_type": "code",
      "metadata": {
        "colab_type": "code",
        "id": "lalhPOVLAzjk",
        "outputId": "80556b92-2c89-4836-d641-69aec5bd0501",
        "colab": {
          "base_uri": "https://localhost:8080/",
          "height": 170
        }
      },
      "source": [
        "perf4 = m_DF.model_performance(test)\n",
        "perf4"
      ],
      "execution_count": 0,
      "outputs": [
        {
          "output_type": "stream",
          "text": [
            "\n",
            "ModelMetricsRegression: deeplearning\n",
            "** Reported on test data. **\n",
            "\n",
            "MSE: 14443735449.048698\n",
            "RMSE: 120182.0928801321\n",
            "MAE: 72158.82319571653\n",
            "RMSLE: 0.18196642337044483\n",
            "Mean Residual Deviance: 14443735449.048698\n"
          ],
          "name": "stdout"
        },
        {
          "output_type": "execute_result",
          "data": {
            "text/plain": [
              ""
            ]
          },
          "metadata": {
            "tags": []
          },
          "execution_count": 32
        }
      ]
    },
    {
      "cell_type": "code",
      "metadata": {
        "colab_type": "code",
        "id": "H41G-HoFA2M0",
        "outputId": "30e7caf0-1ac7-487c-e4ca-295a7b3cee96",
        "colab": {
          "base_uri": "https://localhost:8080/",
          "height": 272
        }
      },
      "source": [
        "perf5 = m_SE.model_performance(test)\n",
        "perf5"
      ],
      "execution_count": 0,
      "outputs": [
        {
          "output_type": "stream",
          "text": [
            "\n",
            "ModelMetricsRegressionGLM: stackedensemble\n",
            "** Reported on test data. **\n",
            "\n",
            "MSE: 14431973211.294569\n",
            "RMSE: 120133.14784560741\n",
            "MAE: 71137.39373154665\n",
            "RMSLE: 0.17701072950138289\n",
            "R^2: 0.8914318447984276\n",
            "Mean Residual Deviance: 14431973211.294569\n",
            "Null degrees of freedom: 2150\n",
            "Residual degrees of freedom: 2147\n",
            "Null deviance: 285935013037402.7\n",
            "Residual deviance: 31043174377494.617\n",
            "AIC: 56431.996961526194\n"
          ],
          "name": "stdout"
        },
        {
          "output_type": "execute_result",
          "data": {
            "text/plain": [
              ""
            ]
          },
          "metadata": {
            "tags": []
          },
          "execution_count": 33
        }
      ]
    },
    {
      "cell_type": "markdown",
      "metadata": {
        "colab_type": "text",
        "id": "GXICBUWUAEmp"
      },
      "source": [
        "Now, let's save our models."
      ]
    },
    {
      "cell_type": "code",
      "metadata": {
        "colab_type": "code",
        "id": "YFYaEGX89Zzd",
        "colab": {}
      },
      "source": [
        "# download the model built above to your local machine\n",
        "my_local_model1 = h2o.download_model(m_GLM, path=\"/Users/Downloads\")\n",
        "\n",
        "# upload the model that you just downloded above\n",
        "# to the H2O cluster\n",
        "uploaded_model = h2o.upload_model(my_local_model1)"
      ],
      "execution_count": 0,
      "outputs": []
    },
    {
      "cell_type": "code",
      "metadata": {
        "colab_type": "code",
        "id": "JVlc1W62-WXg",
        "colab": {}
      },
      "source": [
        "# download the model built above to your local machine\n",
        "my_local_model2 = h2o.download_model(m_GBM, path=\"/Users/Downloads\")\n",
        "\n",
        "# upload the model that you just downloded above\n",
        "# to the H2O cluster\n",
        "uploaded_model = h2o.upload_model(my_local_model2)"
      ],
      "execution_count": 0,
      "outputs": []
    },
    {
      "cell_type": "code",
      "metadata": {
        "colab_type": "code",
        "id": "rUSJQDTF-b03",
        "colab": {}
      },
      "source": [
        "# download the model built above to your local machine\n",
        "my_local_model3 = h2o.download_model(m_RF, path=\"/Users/Downloads\")\n",
        "\n",
        "# upload the model that you just downloded above\n",
        "# to the H2O cluster\n",
        "uploaded_model = h2o.upload_model(my_local_model3)"
      ],
      "execution_count": 0,
      "outputs": []
    },
    {
      "cell_type": "code",
      "metadata": {
        "colab_type": "code",
        "id": "QoRiIy65-ieB",
        "colab": {}
      },
      "source": [
        "# download the model built above to your local machine\n",
        "my_local_model4 = h2o.download_model(m_DF, path=\"/Users/Downloads\")\n",
        "\n",
        "# upload the model that you just downloded above\n",
        "# to the H2O cluster\n",
        "uploaded_model = h2o.upload_model(my_local_model4)"
      ],
      "execution_count": 0,
      "outputs": []
    },
    {
      "cell_type": "code",
      "metadata": {
        "colab_type": "code",
        "id": "0ApH-nsB-mL4",
        "colab": {}
      },
      "source": [
        "# download the model built above to your local machine\n",
        "my_local_model5 = h2o.download_model(m_SE, path=\"/Users/Downloads\")\n",
        "\n",
        "# upload the model that you just downloded above\n",
        "# to the H2O cluster\n",
        "uploaded_model = h2o.upload_model(my_local_model5)"
      ],
      "execution_count": 0,
      "outputs": []
    },
    {
      "cell_type": "markdown",
      "metadata": {
        "colab_type": "text",
        "id": "lqgMr2m9-Oyf"
      },
      "source": [
        "Step five is to start a fresh session and confirm your script will run, reproduce the results, and that there are no bugs or typos."
      ]
    },
    {
      "cell_type": "code",
      "metadata": {
        "colab_type": "code",
        "id": "Ly5aCgOxKsaC",
        "outputId": "0f11c5fb-8615-423f-aa70-2ce19ec62196",
        "colab": {
          "base_uri": "https://localhost:8080/",
          "height": 34
        }
      },
      "source": [
        "h2o.cluster().shutdown()"
      ],
      "execution_count": 0,
      "outputs": [
        {
          "output_type": "stream",
          "text": [
            "H2O session _sid_816a closed.\n"
          ],
          "name": "stdout"
        }
      ]
    },
    {
      "cell_type": "code",
      "metadata": {
        "colab_type": "code",
        "id": "l7ve-WDjKsLi",
        "outputId": "365bd209-5fa5-4c17-ab54-87988172edc4",
        "colab": {
          "base_uri": "https://localhost:8080/",
          "height": 51
        }
      },
      "source": [
        "h2o.shutdown(prompt=False)"
      ],
      "execution_count": 0,
      "outputs": [
        {
          "output_type": "stream",
          "text": [
            "/Users/kang/anaconda3/lib/python3.7/site-packages/ipykernel_launcher.py:1: DeprecationWarning: Deprecated, use ``h2o.cluster().shutdown()``.\n",
            "  \"\"\"Entry point for launching an IPython kernel.\n"
          ],
          "name": "stderr"
        }
      ]
    }
  ]
}